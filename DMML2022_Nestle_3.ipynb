{
  "cells": [
    {
      "cell_type": "markdown",
      "metadata": {
        "id": "view-in-github",
        "colab_type": "text"
      },
      "source": [
        "<a href=\"https://colab.research.google.com/github/Stergios-Konstantinidis/DMML2022_Nestle/blob/main/DMML2022_Nestle_3.ipynb\" target=\"_parent\"><img src=\"https://colab.research.google.com/assets/colab-badge.svg\" alt=\"Open In Colab\"/></a>"
      ]
    },
    {
      "cell_type": "markdown",
      "metadata": {
        "id": "8ZKqCFFbNZ04"
      },
      "source": [
        "# Data Mining and Machine Learning - Project\n",
        "\n",
        "## Detecting Difficulty Level of French Texts\n",
        "\n",
        "### Step by step guidelines\n",
        "\n",
        "The following are a set of step by step guidelines to help you get started with your project for the Data Mining and Machine Learning class. \n",
        "To test what you learned in the class, we will hold a competition. You will create a classifier that predicts how the level of some text in French (A1,..., C2). The team with the highest rank will get some goodies in the last class (some souvenirs from tech companies: Amazon, LinkedIn, etc).\n",
        "\n",
        "**2 people per team**\n",
        "\n",
        "Choose a team here:\n",
        "https://moodle.unil.ch/mod/choicegroup/view.php?id=1305831\n",
        "\n",
        "\n",
        "#### 1. 📂 Create a public GitHub repository for your team using this naming convention `DMML2022_[your_team_name]` with the following structure:\n",
        "- data (folder) \n",
        "- code (folder) \n",
        "- documentation (folder)\n",
        "- a readme file (.md): *mention team name, participants, brief description of the project, approach, summary of results table and link to the explainatory video (see below).*\n",
        "\n",
        "All team members should contribute to the GitHub repository.\n",
        "\n",
        "#### 2. 🇰 Join the competititon on Kaggle using the invitation link we sent on Slack.\n",
        "\n",
        "Under the Team tab, save your team name (`UNIL_your_team_name`) and make sure your team members join in as well. You can merge your user account with your teammates in order to create a team.\n",
        "\n",
        "#### 3. 📓 Read the data into your colab notebook. There should be one code notebook per team, but all team members can participate and contribute code. \n",
        "\n",
        "You can use either direct the Kaggle API and your Kaggle credentials (as explained below and **entirely optional**), or dowload the data form Kaggle and upload it onto your team's GitHub repository under the data subfolder.\n",
        "\n",
        "#### 4. 💎 Train your models and upload the code under your team's GitHub repo. Set the `random_state=0`.\n",
        "- baseline\n",
        "- logistic regression with TFidf vectoriser (simple, no data cleaning)\n",
        "- KNN & hyperparameter optimisation (simple, no data cleaning)\n",
        "- Decision Tree classifier & hyperparameter optimisation (simple, no data cleaning)\n",
        "- Random Forests classifier (simple, no data cleaning)\n",
        "- another technique or combination of techniques of your choice\n",
        "\n",
        "BE CREATIVE! You can use whatever method you want, in order to climb the leaderboard. The only rule is that it must be your own work. Given that, you can use all the online resources you want. \n",
        "\n",
        "#### 5. 🎥 Create a YouTube video (10-15 minutes) of your solution and embed it in your notebook. Explain the algorithms used and the evaluation of your solutions. *Select* projects will also be presented live by the group during the last class.\n",
        "\n",
        "\n",
        "### Submission details (one per team)\n",
        "\n",
        "1. Download a ZIPped file of your team's repository and submit it in Moodle here. IMPORTANT: in the comment of the submission, insert a link to the repository on Github.\n",
        "https://moodle.unil.ch/mod/assign/view.php?id=1305833\n",
        "\n",
        "\n",
        "\n",
        "### Grading (one per team)\n",
        "- 20% Kaggle Rank\n",
        "- 50% code quality (using classes, splitting into proper files, documentation, etc)\n",
        "- 15% github quality (include link to video, table with progress over time, organization of code, images, etc)\n",
        "- 15% video quality (good sound, good slides, interesting presentation)."
      ]
    },
    {
      "cell_type": "markdown",
      "metadata": {
        "id": "9-14CAdOoinM"
      },
      "source": [
        "## Some further details for points 3 and 4 above.\n",
        "\n",
        "### 3. Read data into your notebook with the Kaggle API (optional but useful). \n",
        "\n",
        "You can also download the data from Kaggle and put it in your team's repo the data folder."
      ]
    },
    {
      "cell_type": "code",
      "execution_count": 1,
      "metadata": {
        "colab": {
          "base_uri": "https://localhost:8080/"
        },
        "id": "UJ_hnJzSNO2g",
        "outputId": "c57cffe7-0383-44e5-859a-0a35632b554b"
      },
      "outputs": [
        {
          "output_type": "stream",
          "name": "stdout",
          "text": [
            "Mounted at /content/drive\n"
          ]
        }
      ],
      "source": [
        "# reading in the data via the Kaggle API\n",
        "\n",
        "# mount your Google Drive\n",
        "from google.colab import drive\n",
        "drive.mount('/content/drive', force_remount=True)"
      ]
    },
    {
      "cell_type": "code",
      "execution_count": 2,
      "metadata": {
        "colab": {
          "base_uri": "https://localhost:8080/"
        },
        "id": "mJPTz3D7TeQv",
        "outputId": "36560fb8-4d71-4b79-fefc-4384a9f497b7"
      },
      "outputs": [
        {
          "output_type": "stream",
          "name": "stdout",
          "text": [
            "Looking in indexes: https://pypi.org/simple, https://us-python.pkg.dev/colab-wheels/public/simple/\n",
            "Requirement already satisfied: kaggle in /usr/local/lib/python3.8/dist-packages (1.5.12)\n",
            "Requirement already satisfied: python-slugify in /usr/local/lib/python3.8/dist-packages (from kaggle) (7.0.0)\n",
            "Requirement already satisfied: requests in /usr/local/lib/python3.8/dist-packages (from kaggle) (2.23.0)\n",
            "Requirement already satisfied: tqdm in /usr/local/lib/python3.8/dist-packages (from kaggle) (4.64.1)\n",
            "Requirement already satisfied: python-dateutil in /usr/local/lib/python3.8/dist-packages (from kaggle) (2.8.2)\n",
            "Requirement already satisfied: urllib3 in /usr/local/lib/python3.8/dist-packages (from kaggle) (1.24.3)\n",
            "Requirement already satisfied: certifi in /usr/local/lib/python3.8/dist-packages (from kaggle) (2022.12.7)\n",
            "Requirement already satisfied: six>=1.10 in /usr/local/lib/python3.8/dist-packages (from kaggle) (1.15.0)\n",
            "Requirement already satisfied: text-unidecode>=1.3 in /usr/local/lib/python3.8/dist-packages (from python-slugify->kaggle) (1.3)\n",
            "Requirement already satisfied: idna<3,>=2.5 in /usr/local/lib/python3.8/dist-packages (from requests->kaggle) (2.10)\n",
            "Requirement already satisfied: chardet<4,>=3.0.2 in /usr/local/lib/python3.8/dist-packages (from requests->kaggle) (3.0.4)\n"
          ]
        }
      ],
      "source": [
        "# install Kaggle\n",
        "! pip install kaggle"
      ]
    },
    {
      "cell_type": "markdown",
      "metadata": {
        "id": "ZKG1TCddRYTB"
      },
      "source": [
        "### IMPORTANT\n",
        "Log into your Kaggle account, go to Account > API > Create new API token. You will obtain a kaggle.json file. Save it in your Google Drive (not in a folder, in your general drive)."
      ]
    },
    {
      "cell_type": "code",
      "execution_count": 3,
      "metadata": {
        "id": "JgzLj451YDfV"
      },
      "outputs": [],
      "source": [
        "!mkdir ~/.kaggle"
      ]
    },
    {
      "cell_type": "code",
      "execution_count": 4,
      "metadata": {
        "id": "KrsZLalrSI3u"
      },
      "outputs": [],
      "source": [
        "#read in your Kaggle credentials from Google Drive\n",
        "!cp /content/drive/MyDrive/kaggle.json ~/.kaggle/kaggle.json\n"
      ]
    },
    {
      "cell_type": "code",
      "execution_count": 5,
      "metadata": {
        "id": "-ETUrrhgdnfU"
      },
      "outputs": [],
      "source": [
        "!mkdir data\n"
      ]
    },
    {
      "cell_type": "code",
      "execution_count": 6,
      "metadata": {
        "id": "BDI60LXKTPzf",
        "colab": {
          "base_uri": "https://localhost:8080/"
        },
        "outputId": "aa54b46c-4499-4738-d4ca-22e68224635a"
      },
      "outputs": [
        {
          "output_type": "stream",
          "name": "stdout",
          "text": [
            "Downloading detecting-french-texts-difficulty-level-2022.zip to /content\n",
            "\r  0% 0.00/303k [00:00<?, ?B/s]\n",
            "\r100% 303k/303k [00:00<00:00, 82.4MB/s]\n",
            "Archive:  detecting-french-texts-difficulty-level-2022.zip\n",
            "  inflating: data/sample_submission.csv  \n",
            "  inflating: data/training_data.csv  \n",
            "  inflating: data/unlabelled_test_data.csv  \n"
          ]
        }
      ],
      "source": [
        "# download the dataset from the competition page\n",
        "\n",
        "try:\n",
        "  df = pd.read_csv('/content/data/training_data.csv')\n",
        "except:\n",
        "  !kaggle competitions download -c detecting-french-texts-difficulty-level-2022\n",
        "  !unzip \"detecting-french-texts-difficulty-level-2022.zip\" -d data"
      ]
    },
    {
      "cell_type": "code",
      "execution_count": 7,
      "metadata": {
        "id": "daqvj7feTx60"
      },
      "outputs": [],
      "source": [
        "# read in your training data\n",
        "import pandas as pd\n",
        "import numpy as np\n",
        "import sklearn \n",
        "#import sklearn.model_selection\n",
        "\n",
        "df = pd.read_csv('/content/data/training_data.csv')"
      ]
    },
    {
      "cell_type": "code",
      "execution_count": null,
      "metadata": {
        "id": "VxRSnk5bhTp8"
      },
      "outputs": [],
      "source": [
        "df.head()"
      ]
    },
    {
      "cell_type": "markdown",
      "metadata": {
        "id": "1kpfbtndj0jL"
      },
      "source": [
        "Have a look at the data on which to make predictions."
      ]
    },
    {
      "cell_type": "code",
      "execution_count": 8,
      "metadata": {
        "colab": {
          "base_uri": "https://localhost:8080/",
          "height": 204
        },
        "id": "7G75Q1gRj49l",
        "outputId": "b09ff7a6-5f60-43d9-f460-fe2bafc1bfe0"
      },
      "outputs": [
        {
          "output_type": "execute_result",
          "data": {
            "text/plain": [
              "   id                                           sentence\n",
              "0   0  Nous dûmes nous excuser des propos que nous eû...\n",
              "1   1  Vous ne pouvez pas savoir le plaisir que j'ai ...\n",
              "2   2  Et, paradoxalement, boire froid n'est pas la b...\n",
              "3   3  Ce n'est pas étonnant, car c'est une saison my...\n",
              "4   4  Le corps de Golo lui-même, d'une essence aussi..."
            ],
            "text/html": [
              "\n",
              "  <div id=\"df-3000ed15-62cf-489d-a1a0-f3eacac750ce\">\n",
              "    <div class=\"colab-df-container\">\n",
              "      <div>\n",
              "<style scoped>\n",
              "    .dataframe tbody tr th:only-of-type {\n",
              "        vertical-align: middle;\n",
              "    }\n",
              "\n",
              "    .dataframe tbody tr th {\n",
              "        vertical-align: top;\n",
              "    }\n",
              "\n",
              "    .dataframe thead th {\n",
              "        text-align: right;\n",
              "    }\n",
              "</style>\n",
              "<table border=\"1\" class=\"dataframe\">\n",
              "  <thead>\n",
              "    <tr style=\"text-align: right;\">\n",
              "      <th></th>\n",
              "      <th>id</th>\n",
              "      <th>sentence</th>\n",
              "    </tr>\n",
              "  </thead>\n",
              "  <tbody>\n",
              "    <tr>\n",
              "      <th>0</th>\n",
              "      <td>0</td>\n",
              "      <td>Nous dûmes nous excuser des propos que nous eû...</td>\n",
              "    </tr>\n",
              "    <tr>\n",
              "      <th>1</th>\n",
              "      <td>1</td>\n",
              "      <td>Vous ne pouvez pas savoir le plaisir que j'ai ...</td>\n",
              "    </tr>\n",
              "    <tr>\n",
              "      <th>2</th>\n",
              "      <td>2</td>\n",
              "      <td>Et, paradoxalement, boire froid n'est pas la b...</td>\n",
              "    </tr>\n",
              "    <tr>\n",
              "      <th>3</th>\n",
              "      <td>3</td>\n",
              "      <td>Ce n'est pas étonnant, car c'est une saison my...</td>\n",
              "    </tr>\n",
              "    <tr>\n",
              "      <th>4</th>\n",
              "      <td>4</td>\n",
              "      <td>Le corps de Golo lui-même, d'une essence aussi...</td>\n",
              "    </tr>\n",
              "  </tbody>\n",
              "</table>\n",
              "</div>\n",
              "      <button class=\"colab-df-convert\" onclick=\"convertToInteractive('df-3000ed15-62cf-489d-a1a0-f3eacac750ce')\"\n",
              "              title=\"Convert this dataframe to an interactive table.\"\n",
              "              style=\"display:none;\">\n",
              "        \n",
              "  <svg xmlns=\"http://www.w3.org/2000/svg\" height=\"24px\"viewBox=\"0 0 24 24\"\n",
              "       width=\"24px\">\n",
              "    <path d=\"M0 0h24v24H0V0z\" fill=\"none\"/>\n",
              "    <path d=\"M18.56 5.44l.94 2.06.94-2.06 2.06-.94-2.06-.94-.94-2.06-.94 2.06-2.06.94zm-11 1L8.5 8.5l.94-2.06 2.06-.94-2.06-.94L8.5 2.5l-.94 2.06-2.06.94zm10 10l.94 2.06.94-2.06 2.06-.94-2.06-.94-.94-2.06-.94 2.06-2.06.94z\"/><path d=\"M17.41 7.96l-1.37-1.37c-.4-.4-.92-.59-1.43-.59-.52 0-1.04.2-1.43.59L10.3 9.45l-7.72 7.72c-.78.78-.78 2.05 0 2.83L4 21.41c.39.39.9.59 1.41.59.51 0 1.02-.2 1.41-.59l7.78-7.78 2.81-2.81c.8-.78.8-2.07 0-2.86zM5.41 20L4 18.59l7.72-7.72 1.47 1.35L5.41 20z\"/>\n",
              "  </svg>\n",
              "      </button>\n",
              "      \n",
              "  <style>\n",
              "    .colab-df-container {\n",
              "      display:flex;\n",
              "      flex-wrap:wrap;\n",
              "      gap: 12px;\n",
              "    }\n",
              "\n",
              "    .colab-df-convert {\n",
              "      background-color: #E8F0FE;\n",
              "      border: none;\n",
              "      border-radius: 50%;\n",
              "      cursor: pointer;\n",
              "      display: none;\n",
              "      fill: #1967D2;\n",
              "      height: 32px;\n",
              "      padding: 0 0 0 0;\n",
              "      width: 32px;\n",
              "    }\n",
              "\n",
              "    .colab-df-convert:hover {\n",
              "      background-color: #E2EBFA;\n",
              "      box-shadow: 0px 1px 2px rgba(60, 64, 67, 0.3), 0px 1px 3px 1px rgba(60, 64, 67, 0.15);\n",
              "      fill: #174EA6;\n",
              "    }\n",
              "\n",
              "    [theme=dark] .colab-df-convert {\n",
              "      background-color: #3B4455;\n",
              "      fill: #D2E3FC;\n",
              "    }\n",
              "\n",
              "    [theme=dark] .colab-df-convert:hover {\n",
              "      background-color: #434B5C;\n",
              "      box-shadow: 0px 1px 3px 1px rgba(0, 0, 0, 0.15);\n",
              "      filter: drop-shadow(0px 1px 2px rgba(0, 0, 0, 0.3));\n",
              "      fill: #FFFFFF;\n",
              "    }\n",
              "  </style>\n",
              "\n",
              "      <script>\n",
              "        const buttonEl =\n",
              "          document.querySelector('#df-3000ed15-62cf-489d-a1a0-f3eacac750ce button.colab-df-convert');\n",
              "        buttonEl.style.display =\n",
              "          google.colab.kernel.accessAllowed ? 'block' : 'none';\n",
              "\n",
              "        async function convertToInteractive(key) {\n",
              "          const element = document.querySelector('#df-3000ed15-62cf-489d-a1a0-f3eacac750ce');\n",
              "          const dataTable =\n",
              "            await google.colab.kernel.invokeFunction('convertToInteractive',\n",
              "                                                     [key], {});\n",
              "          if (!dataTable) return;\n",
              "\n",
              "          const docLinkHtml = 'Like what you see? Visit the ' +\n",
              "            '<a target=\"_blank\" href=https://colab.research.google.com/notebooks/data_table.ipynb>data table notebook</a>'\n",
              "            + ' to learn more about interactive tables.';\n",
              "          element.innerHTML = '';\n",
              "          dataTable['output_type'] = 'display_data';\n",
              "          await google.colab.output.renderOutput(dataTable, element);\n",
              "          const docLink = document.createElement('div');\n",
              "          docLink.innerHTML = docLinkHtml;\n",
              "          element.appendChild(docLink);\n",
              "        }\n",
              "      </script>\n",
              "    </div>\n",
              "  </div>\n",
              "  "
            ]
          },
          "metadata": {},
          "execution_count": 8
        }
      ],
      "source": [
        "df_pred = pd.read_csv('/content/data/unlabelled_test_data.csv')\n",
        "df_pred.head()"
      ]
    },
    {
      "cell_type": "markdown",
      "metadata": {
        "id": "a37hWJ_ckBlk"
      },
      "source": [
        "And this is the format for your submissions."
      ]
    },
    {
      "cell_type": "code",
      "execution_count": 9,
      "metadata": {
        "id": "gk9H2dLHkFBa",
        "colab": {
          "base_uri": "https://localhost:8080/",
          "height": 204
        },
        "outputId": "2b7dcfb0-1eee-4316-b393-6edd8ad24b77"
      },
      "outputs": [
        {
          "output_type": "execute_result",
          "data": {
            "text/plain": [
              "   id difficulty\n",
              "0   0         A1\n",
              "1   1         A1\n",
              "2   2         A1\n",
              "3   3         A1\n",
              "4   4         A1"
            ],
            "text/html": [
              "\n",
              "  <div id=\"df-0e66862a-7459-4c67-8d70-c7814d641be8\">\n",
              "    <div class=\"colab-df-container\">\n",
              "      <div>\n",
              "<style scoped>\n",
              "    .dataframe tbody tr th:only-of-type {\n",
              "        vertical-align: middle;\n",
              "    }\n",
              "\n",
              "    .dataframe tbody tr th {\n",
              "        vertical-align: top;\n",
              "    }\n",
              "\n",
              "    .dataframe thead th {\n",
              "        text-align: right;\n",
              "    }\n",
              "</style>\n",
              "<table border=\"1\" class=\"dataframe\">\n",
              "  <thead>\n",
              "    <tr style=\"text-align: right;\">\n",
              "      <th></th>\n",
              "      <th>id</th>\n",
              "      <th>difficulty</th>\n",
              "    </tr>\n",
              "  </thead>\n",
              "  <tbody>\n",
              "    <tr>\n",
              "      <th>0</th>\n",
              "      <td>0</td>\n",
              "      <td>A1</td>\n",
              "    </tr>\n",
              "    <tr>\n",
              "      <th>1</th>\n",
              "      <td>1</td>\n",
              "      <td>A1</td>\n",
              "    </tr>\n",
              "    <tr>\n",
              "      <th>2</th>\n",
              "      <td>2</td>\n",
              "      <td>A1</td>\n",
              "    </tr>\n",
              "    <tr>\n",
              "      <th>3</th>\n",
              "      <td>3</td>\n",
              "      <td>A1</td>\n",
              "    </tr>\n",
              "    <tr>\n",
              "      <th>4</th>\n",
              "      <td>4</td>\n",
              "      <td>A1</td>\n",
              "    </tr>\n",
              "  </tbody>\n",
              "</table>\n",
              "</div>\n",
              "      <button class=\"colab-df-convert\" onclick=\"convertToInteractive('df-0e66862a-7459-4c67-8d70-c7814d641be8')\"\n",
              "              title=\"Convert this dataframe to an interactive table.\"\n",
              "              style=\"display:none;\">\n",
              "        \n",
              "  <svg xmlns=\"http://www.w3.org/2000/svg\" height=\"24px\"viewBox=\"0 0 24 24\"\n",
              "       width=\"24px\">\n",
              "    <path d=\"M0 0h24v24H0V0z\" fill=\"none\"/>\n",
              "    <path d=\"M18.56 5.44l.94 2.06.94-2.06 2.06-.94-2.06-.94-.94-2.06-.94 2.06-2.06.94zm-11 1L8.5 8.5l.94-2.06 2.06-.94-2.06-.94L8.5 2.5l-.94 2.06-2.06.94zm10 10l.94 2.06.94-2.06 2.06-.94-2.06-.94-.94-2.06-.94 2.06-2.06.94z\"/><path d=\"M17.41 7.96l-1.37-1.37c-.4-.4-.92-.59-1.43-.59-.52 0-1.04.2-1.43.59L10.3 9.45l-7.72 7.72c-.78.78-.78 2.05 0 2.83L4 21.41c.39.39.9.59 1.41.59.51 0 1.02-.2 1.41-.59l7.78-7.78 2.81-2.81c.8-.78.8-2.07 0-2.86zM5.41 20L4 18.59l7.72-7.72 1.47 1.35L5.41 20z\"/>\n",
              "  </svg>\n",
              "      </button>\n",
              "      \n",
              "  <style>\n",
              "    .colab-df-container {\n",
              "      display:flex;\n",
              "      flex-wrap:wrap;\n",
              "      gap: 12px;\n",
              "    }\n",
              "\n",
              "    .colab-df-convert {\n",
              "      background-color: #E8F0FE;\n",
              "      border: none;\n",
              "      border-radius: 50%;\n",
              "      cursor: pointer;\n",
              "      display: none;\n",
              "      fill: #1967D2;\n",
              "      height: 32px;\n",
              "      padding: 0 0 0 0;\n",
              "      width: 32px;\n",
              "    }\n",
              "\n",
              "    .colab-df-convert:hover {\n",
              "      background-color: #E2EBFA;\n",
              "      box-shadow: 0px 1px 2px rgba(60, 64, 67, 0.3), 0px 1px 3px 1px rgba(60, 64, 67, 0.15);\n",
              "      fill: #174EA6;\n",
              "    }\n",
              "\n",
              "    [theme=dark] .colab-df-convert {\n",
              "      background-color: #3B4455;\n",
              "      fill: #D2E3FC;\n",
              "    }\n",
              "\n",
              "    [theme=dark] .colab-df-convert:hover {\n",
              "      background-color: #434B5C;\n",
              "      box-shadow: 0px 1px 3px 1px rgba(0, 0, 0, 0.15);\n",
              "      filter: drop-shadow(0px 1px 2px rgba(0, 0, 0, 0.3));\n",
              "      fill: #FFFFFF;\n",
              "    }\n",
              "  </style>\n",
              "\n",
              "      <script>\n",
              "        const buttonEl =\n",
              "          document.querySelector('#df-0e66862a-7459-4c67-8d70-c7814d641be8 button.colab-df-convert');\n",
              "        buttonEl.style.display =\n",
              "          google.colab.kernel.accessAllowed ? 'block' : 'none';\n",
              "\n",
              "        async function convertToInteractive(key) {\n",
              "          const element = document.querySelector('#df-0e66862a-7459-4c67-8d70-c7814d641be8');\n",
              "          const dataTable =\n",
              "            await google.colab.kernel.invokeFunction('convertToInteractive',\n",
              "                                                     [key], {});\n",
              "          if (!dataTable) return;\n",
              "\n",
              "          const docLinkHtml = 'Like what you see? Visit the ' +\n",
              "            '<a target=\"_blank\" href=https://colab.research.google.com/notebooks/data_table.ipynb>data table notebook</a>'\n",
              "            + ' to learn more about interactive tables.';\n",
              "          element.innerHTML = '';\n",
              "          dataTable['output_type'] = 'display_data';\n",
              "          await google.colab.output.renderOutput(dataTable, element);\n",
              "          const docLink = document.createElement('div');\n",
              "          docLink.innerHTML = docLinkHtml;\n",
              "          element.appendChild(docLink);\n",
              "        }\n",
              "      </script>\n",
              "    </div>\n",
              "  </div>\n",
              "  "
            ]
          },
          "metadata": {},
          "execution_count": 9
        }
      ],
      "source": [
        "df_example_submission = pd.read_csv('/content/data/sample_submission.csv')\n",
        "df_example_submission.head()"
      ]
    },
    {
      "cell_type": "markdown",
      "source": [
        "#### Imports\n"
      ],
      "metadata": {
        "id": "28xwBiprNAFS"
      }
    },
    {
      "cell_type": "code",
      "source": [
        "#IMPORTS\n",
        "#pip install numpy \n",
        "#pip install scipy\n",
        "import spacy\n",
        "\n",
        "from spacy.lang.fr.stop_words import STOP_WORDS as fr_stop\n",
        "import spacy.cli\n",
        "import seaborn as sns\n",
        "from sklearn.metrics import confusion_matrix, accuracy_score, precision_score, recall_score, f1_score\n",
        "from sklearn.feature_extraction.text import CountVectorizer, TfidfVectorizer\n",
        "from sklearn.linear_model import LogisticRegressionCV\n",
        "from sklearn.linear_model import LogisticRegression\n",
        "from sklearn.model_selection import GridSearchCV\n",
        "from sklearn.neighbors import KNeighborsClassifier\n",
        "from sklearn.tree import DecisionTreeClassifier, plot_tree\n",
        "from sklearn.model_selection import cross_val_score\n",
        "from sklearn.ensemble import RandomForestClassifier\n",
        "from sklearn.datasets import make_classification\n",
        "from sklearn.preprocessing import OrdinalEncoder, OneHotEncoder, LabelEncoder\n",
        "import numpy as np\n",
        "from sklearn import linear_model, decomposition, datasets\n",
        "from sklearn.pipeline import Pipeline\n",
        "from sklearn.model_selection import GridSearchCV\n",
        "from sklearn.preprocessing import StandardScaler"
      ],
      "metadata": {
        "id": "PPRACtsDM_mu"
      },
      "execution_count": 10,
      "outputs": []
    },
    {
      "cell_type": "markdown",
      "metadata": {
        "id": "FfTgL1erjqQ6"
      },
      "source": [
        "### 4. Train your models\n",
        "\n",
        "Set your X and y variables. \n",
        "Set the `random_state=0`\n",
        "Split the data into a train and test set using the following parameters `train_test_split(X, y, test_size=0.2, random_state=0)`.\n",
        "\n",
        "#### 4.1.Baseline\n",
        "What is the baseline for this classification problem?"
      ]
    },
    {
      "cell_type": "code",
      "source": [
        "#Baseline \n",
        "X= df['sentence']\n",
        "y= df['difficulty']\n",
        "y.value_counts()/len(y)"
      ],
      "metadata": {
        "colab": {
          "base_uri": "https://localhost:8080/"
        },
        "id": "5-DkuNizqF3T",
        "outputId": "1bea7bc4-8518-4e35-be0b-6f0ecda58d20"
      },
      "execution_count": 14,
      "outputs": [
        {
          "output_type": "execute_result",
          "data": {
            "text/plain": [
              "A1    0.169375\n",
              "C2    0.168125\n",
              "C1    0.166250\n",
              "B1    0.165625\n",
              "A2    0.165625\n",
              "B2    0.165000\n",
              "Name: difficulty, dtype: float64"
            ]
          },
          "metadata": {},
          "execution_count": 14
        }
      ]
    },
    {
      "cell_type": "markdown",
      "metadata": {
        "id": "SlvbPYa0k78l"
      },
      "source": [
        "#### 4.2. Logistic Regression (without data cleaning)\n",
        "\n",
        "Train a simple logistic regression model using a Tfidf vectoriser."
      ]
    },
    {
      "cell_type": "code",
      "source": [
        "#Split data set\n",
        "\n",
        "X_train, X_test, y_train, y_test = sklearn.model_selection.train_test_split(X, y, test_size=0.2, random_state=0)"
      ],
      "metadata": {
        "id": "M0zWbByFLrq_"
      },
      "execution_count": 13,
      "outputs": []
    },
    {
      "cell_type": "markdown",
      "source": [
        "We vectorize our data set because it wouldnt pass the logistic regression, for this we use the Tfidfvectorizer:"
      ],
      "metadata": {
        "id": "V3v4i1msL2tV"
      }
    },
    {
      "cell_type": "code",
      "execution_count": null,
      "metadata": {
        "id": "eEe3-QNlow4H"
      },
      "outputs": [],
      "source": [
        "texts = df['sentence']\n",
        "tfidf = TfidfVectorizer()\n",
        "features = tfidf.fit_transform(texts)\n",
        "pd.DataFrame(features.todense(),\n",
        "columns=tfidf.get_feature_names())"
      ]
    },
    {
      "cell_type": "markdown",
      "source": [
        "After that we vectorize also the Test and Training data set:"
      ],
      "metadata": {
        "id": "0N94cdU1NEfV"
      }
    },
    {
      "cell_type": "code",
      "source": [
        "text_transformer = TfidfVectorizer(ngram_range=(1, 2), lowercase=True, max_features=150000)\n",
        "X_train_text = text_transformer.fit_transform(X_train)\n",
        "X_test_text = text_transformer.transform(X_test)"
      ],
      "metadata": {
        "id": "NM3cwa6oNDlm"
      },
      "execution_count": 16,
      "outputs": []
    },
    {
      "cell_type": "markdown",
      "source": [
        "Now we do a logistic regression to classify the sentences, first we fit it on the training set: "
      ],
      "metadata": {
        "id": "n78wy0SMMuw_"
      }
    },
    {
      "cell_type": "code",
      "source": [
        "LR = LogisticRegressionCV(solver='lbfgs', cv=2, max_iter=10, random_state = 50)\n",
        "LR.fit(X_train_text, y_train)\n",
        "y_pred = LR.predict(X_test_text)"
      ],
      "metadata": {
        "id": "r7-AKA73M5WD",
        "outputId": "a33f52ed-39f5-4be9-f1fa-252f45c62fb4",
        "colab": {
          "base_uri": "https://localhost:8080/"
        }
      },
      "execution_count": 17,
      "outputs": [
        {
          "output_type": "stream",
          "name": "stderr",
          "text": [
            "/usr/local/lib/python3.8/dist-packages/sklearn/linear_model/_logistic.py:814: ConvergenceWarning: lbfgs failed to converge (status=1):\n",
            "STOP: TOTAL NO. of ITERATIONS REACHED LIMIT.\n",
            "\n",
            "Increase the number of iterations (max_iter) or scale the data as shown in:\n",
            "    https://scikit-learn.org/stable/modules/preprocessing.html\n",
            "Please also refer to the documentation for alternative solver options:\n",
            "    https://scikit-learn.org/stable/modules/linear_model.html#logistic-regression\n",
            "  n_iter_i = _check_optimize_result(\n",
            "/usr/local/lib/python3.8/dist-packages/sklearn/linear_model/_logistic.py:814: ConvergenceWarning: lbfgs failed to converge (status=1):\n",
            "STOP: TOTAL NO. of ITERATIONS REACHED LIMIT.\n",
            "\n",
            "Increase the number of iterations (max_iter) or scale the data as shown in:\n",
            "    https://scikit-learn.org/stable/modules/preprocessing.html\n",
            "Please also refer to the documentation for alternative solver options:\n",
            "    https://scikit-learn.org/stable/modules/linear_model.html#logistic-regression\n",
            "  n_iter_i = _check_optimize_result(\n",
            "/usr/local/lib/python3.8/dist-packages/sklearn/linear_model/_logistic.py:814: ConvergenceWarning: lbfgs failed to converge (status=1):\n",
            "STOP: TOTAL NO. of ITERATIONS REACHED LIMIT.\n",
            "\n",
            "Increase the number of iterations (max_iter) or scale the data as shown in:\n",
            "    https://scikit-learn.org/stable/modules/preprocessing.html\n",
            "Please also refer to the documentation for alternative solver options:\n",
            "    https://scikit-learn.org/stable/modules/linear_model.html#logistic-regression\n",
            "  n_iter_i = _check_optimize_result(\n"
          ]
        }
      ]
    },
    {
      "cell_type": "markdown",
      "source": [
        "Let's see how our model performed:"
      ],
      "metadata": {
        "id": "UZxVCTEUNQO8"
      }
    },
    {
      "cell_type": "code",
      "source": [
        "##################\n",
        "#Accuracy\n",
        "accuracy = accuracy_score(y_test, y_pred)\n",
        "print('Accuracy: %f' % accuracy)\n",
        "\n",
        "#Precision\n",
        "precision = precision_score(y_test, y_pred,average='micro')\n",
        "print('Precision: %f' % precision)\n",
        "\n",
        "#Recall\n",
        "recall = recall_score(y_test, y_pred,average='micro')\n",
        "print('Recall: %f' % recall)\n",
        "\n",
        "#F1\n",
        "f1 = f1_score(y_test, y_pred,average='macro')\n",
        "print('F1 score: %f' % f1)"
      ],
      "metadata": {
        "id": "wWhhTdAbsFgc",
        "outputId": "e7e00289-2b36-4ae6-dd80-b4aa0e3cdffb",
        "colab": {
          "base_uri": "https://localhost:8080/"
        }
      },
      "execution_count": 25,
      "outputs": [
        {
          "output_type": "stream",
          "name": "stdout",
          "text": [
            "Accuracy: 0.463542\n",
            "Precision: 0.463542\n",
            "Recall: 0.463542\n",
            "F1 score: 0.458946\n"
          ]
        }
      ]
    },
    {
      "cell_type": "code",
      "source": [
        "# Print sentence with the predicted language level\n",
        "\n",
        "i=0\n",
        "for text in X_test_text:\n",
        "  print((X_test.reset_index())._get_value(i, \"sentence\", takeable=False) + \"  \" + LR.predict(text))\n",
        "  i+=1\n",
        "  df_pred = pd.read_csv('/content/data/unlabelled_test_data.csv')\n",
        "df_pred_text = text_transformer.transform(df_pred[\"sentence\"])\n",
        "\n",
        "df_pred['difficulty'] = list(map(lambda x : LR.predict(x)[0], df_pred_text))\n",
        "\n",
        "df_pred = df_pred[[\"id\", \"difficulty\"]]\n",
        "df_pred = df_pred.set_index('id')\n",
        "\n",
        "df_pred.to_csv('LR_reg.csv')\n",
        "df_pred.head()"
      ],
      "metadata": {
        "id": "1gQPHn8pV0pO",
        "outputId": "9965e430-d6e2-4c65-a8db-456e7c980c0f",
        "colab": {
          "base_uri": "https://localhost:8080/",
          "height": 1000
        }
      },
      "execution_count": 28,
      "outputs": [
        {
          "output_type": "stream",
          "name": "stdout",
          "text": [
            "[\"C'est en décembre 1967, après bien des invectives au Parlement, que sa loi relative à la régulation des naissances, dite loi Neuwirth est votée : elle autorise la vente exclusive des contraceptifs en pharmacie sur ordonnance médicale, avec autorisation parentale pour les mineures  C2\"]\n",
            "['Giscard va pourtant réussir à transformer ce revers en tremplin  A2']\n",
            "[\"Un choix difficile mais important : le public français écoute souvent les professionnels de Cannes pour choisir le film qu'il va aller voir au cinéma.  B1\"]\n",
            "[\"Le débat porte plutôt sur l'utilité d'une telle mesure.  C1\"]\n",
            "['Et chez vous, comment va la vie ?  A1']\n",
            "['Je veux un chien !  A1']\n",
            "[\"Il faut du temps et du courage pour soigner toute cette ménagerie En plus des animaux, il faut aussi s'occuper du potager de mon papy  A2\"]\n",
            "[\"Vous eussiez juré que les gens la voyaient, l'entendaient rouler pesamment devant eux, retentissante de tous les trésors enfermés dans ses flancs.  C2\"]\n",
            "[\"Ce week-end on était à l'hôtel pour une réunion familiale, bon on hésite quoi, quand on croise les gens dans le couloir, on ne sait pas trop s'il faut porter le masque.  B1\"]\n",
            "[\"Mon frère Patrice est plus jeune que moi, il va à l'école des petits.  A2\"]\n",
            "['Le risque de plagiat?  B2']\n",
            "['Je vous souhaite bonne année pleine de bonheur et de joie Bbonne continuation Merci Bachy pour ton message !  A2']\n",
            "['Le visage comprend une oreille de chaque côté, deux yeux surmontés par les sourcils et un nez au centre  C1']\n",
            "[\"Le revenu des enfants sous autorité parentale est ajouté à celui du détenteur de l'autorité parentale.  B1\"]\n",
            "['Que voulez-vous ?  B1']\n",
            "['Yukihiro Kimura, inventeur du recyclage des couches-culottes en combustible, Yonago, Japon.  B2']\n",
            "['Avec la distanciation sociale, les occasions de se réunir ont également été moins fréquentes.  C1']\n",
            "[\"Après avoir identifié les inconvénients de la robotisation, j'exposerai ses avantages.  C1\"]\n",
            "['Je ne sais pas ; pas beaucoup peut-être ; pas assez en tout cas.  A2']\n",
            "[\"C'est ici, Monsieur.  A1\"]\n",
            "[\"Je m'occupe de mes deux enfants quand ils rentrent de l'école.  A2\"]\n",
            "['Il fait une promenade sur le Vieux Port  B1']\n",
            "['Je fais ma toilette et je prends mon petit déjeuner  A1']\n",
            "['Oui, des feux de forêt qui frappent le sud-est du pays depuis le mois de septembre et qui ont fait une 24e victime ce week-end  C1']\n",
            "['Seuls les membres de la société de personnes ont la qualité de contribuables, ainsi le revenu et la fortune nets de la société sont attribués proportionnellement aux personnes physiques formant la société.  C2']\n",
            "['La nuit vient de tomber sur Calcutta et la tempête entre en ville avec une puissance terrifiante  C2']\n",
            "[\"Les masses liquides transportent les plus grandes espèces connues de mammifères, et peut-être recèlent-elles des mollusques d'une incomparable taille, des crustacés effrayants à contempler, tels que seraient des homards de cent mètres ou des crabes pesant deux cents tonnes !  C2\"]\n",
            "[\"En règle générale, l'exploitation sélective qui en résulte n'entraîne pas de déboisement massif.  B2\"]\n",
            "['Les articulations sont en haut la hanche, au milieu le genou en en bas la cheville  C1']\n",
            "['Toutes ces données indiquent \"que le problème de la malnutrition devient plus complexe et que les stratégies de lutte des pays et des organisations internationales devront s\\'attaquer au triple fardeau qui pèse désormais sur les pays en développement : les maladies infectieuses, les carences alimentaires et les maladies chroniques liées à la surcharge pondérale\", précise Francis Delpeuch.  C1']\n",
            "[\"J'aimerais bien être figurant dans un film mais je n'ai pas encore eu l'occasion de l'être.  B1\"]\n",
            "[\"J'ai été en forme toute la matinée.  A2\"]\n",
            "[\"Il trouve bizarre que l'artiste ait quitté le concert avant la fin samedi soir dernier.  B1\"]\n",
            "[\"Il t'ordonne de partir immédiatement !  A1\"]\n",
            "[\"Elle s'est ensuite élargie à d'autres établissements  B1\"]\n",
            "[\"C'est une charmante ville.  B1\"]\n",
            "[\"Finalement chez Hegel comme chez Hôlderlin, la révélation chrétienne apparaît comme un approfondissement de la révélation païenne, comme une réconciliation plus profonde de l'infini et du fini.  C2\"]\n",
            "['On partait de bonne heure pour ne pas être coincés dans les embouteillages  A2']\n",
            "['Le réseau social annonce ce mardi la constitution d\\'un \"comité consultatif européen de sécurité\", composé de neuf membres de la société civile.  B2']\n",
            "['Je travaille de 9 heures à 12 heures.  A1']\n",
            "[\"Il y a aussi les personnages dotés d'un pouvoir politique séculier exceptionnel : les rois.  B2\"]\n",
            "[\"Oui c'est pour combien de personnes ?  A1\"]\n",
            "[\"Eviter d'importer de l'inflation et surtout contrôler le niveau de change du franc suisse par rapport aux grandes devises internationales et notamment face à l'euro et au dollar.  B2\"]\n",
            "[\"[Les dames rient] Je pense qu'il y aurait de la bagarre, hein  A2\"]\n",
            "[\"Dix ans après le début des fouilles, il apparaît désormais clair qu'un site archéologique du port antique de Bérénice, sur la rive égyptienne de la mer Rouge, abritait un vaste cimetière d'animaux domestiques, aimés et choyés comme à l'époque moderne.  C1\"]\n",
            "['Chaque fin de semaine, ils partaient ensemble en ran- donnée dans les Alpes  C1']\n",
            "[\"Il n'y a presque pas de pollution  A2\"]\n",
            "['Voici un extrait de sa conférence à Lannion, le 28 mai 1988  C1']\n",
            "['Forts des expériences, parfois malheureuses, de leurs aînés, certains jeunes anticipent.  B2']\n",
            "[\"L'idée était de stimuler chez les élèves l'esprit scientifique et les capacités d'expression, de favoriser leur compréhension du monde, et de leur permettre de mieux jouer leur rôle de citoyen en proposant des projets pédagogiques orientés vers des questions de société (éducation à la santé, au développement durable.).  C2\"]\n",
            "[\"Attention, vous devez certifier conformes la version papier des statuts de votre entreprise et celle de votre pièce d'identité, puis vous devez les signer de façon manuscrite avant de les scanner.  A2\"]\n",
            "[\"Coucou mes amis, je réunis tous ceux que j'aime bien pour fêter l'arrivée de l'été le 21 juin  A1\"]\n",
            "[\"C'est la couleur de nombreux fruits et légumes, comme les tomates, les fraises ou les cerises.  A1\"]\n",
            "[\"J'ai une question.  A1\"]\n",
            "['Sa vitesse est limitée à 25 km/h et son utilisation est interdite sur les trottoirs.  B2']\n",
            "['Pourtant, on a environ 200 entreprises qui sont prêtes à embaucher par vingtaine, trentaine tous les ans et qui ont du mal à recruter des développeurs de qualité.  C1']\n",
            "[\"Selon les pronostics, de 50 à 90 % des langues parlées aujourd'hui mourront au cours de ce siècle.  C1\"]\n",
            "['Rien ne va plus: les primaires du parti socialiste tournent en eau de boudin.  B2']\n",
            "[\"On peut montrer le nouveau père en exemple à destination d'autres pères moins impliqués, mais sans en faire ni un objet de curiosité ni un héros absolu auquel il faudrait dresser une statue.  B1\"]\n",
            "['Mais trop de gens sont encore désarmés face aux ordinateurs.  B2']\n",
            "['As-tu besoin de quelque chose?  A1']\n",
            "['Ce texte milite pour corriger un préjugé sur les aptitudes intellectuelles des femmes.  C2']\n",
            "[\"Pourtant, Grégoire est loin d'être un idiot, il est même plein de de talents !  A2\"]\n",
            "[\"J'ai hâte que tu viennes me rendre visite le mois prochain, pour te montrer mes endroits préférés  B1\"]\n",
            "[\"Les trompettes, les fifres, les hautbois, les tambours, les canons, formaient une harmonie telle qu'il n'y en eut jamais en enfer.  C2\"]\n",
            "[\"J'ai perdu mon temps inutilement: je n'ai rien pu faire.  B1\"]\n",
            "[\"C'est comme ça, d'ailleurs, que nous sommes devenus amis.  A2\"]\n",
            "[\"Dans une clairière enneigée, entourée d'arbres dénudés, une Citroën AX blance, bien fatiguée, attelée d'une remorque de type frigorifique, aurait l'air abandonnée si l'on ne distinguait quatre hommes aux cheveux très longs, assis dans la voiture.  B1\"]\n",
            "[\"L'après-midi, j'ai encore beaucoup de choses à faire  A1\"]\n",
            "[\"Chez nous, c'est nuageux.  A1\"]\n",
            "[\"Le romancier qui transforme la vérité constante, brutale et déplaisante, pour en tirer une aventure exceptionnelle et séduisante, doit, sans souci exagéré de la vraisemblance, manipuler les événements à son gré; les préparer et les arranger pour plaire au lecteur, l'émouvoir ou l'attendrir.  C2\"]\n",
            "[\"Il pleut et j'attends l'autobus  A1\"]\n",
            "[\"Quelques coups de battoir partaient encore, espacés, au milieu des rires adoucis, des conversations qui s'empâtaient dans un bruit glouton de mâchoires ; tandis que la machine à vapeur, allant son train, sans repos ni trêve, semblait hausser la voix, vibrante, ronflante, emplissant l'immense salle. Mais pas une des femmes ne l'entendait ; c'était comme la respiration même du lavoir, une haleine ardente amassant sous les poutres du plafond l'éternelle buée qui flottait. La chaleur devenait intolérable ; des rais de soleil entraient à gauche, par les hautes fenêtres, allumant les vapeurs fumantes de nappes opalisées, d'un gris rose et d'un gris bleu très tendre ; et, comme des plaintes s'élevaient, le garçon Charles allait d'une fenêtre à l'autre, tirait des stores de grosse toile ; ensuite, il passa de l'autre côté, du côté de l'ombre, et ouvrit des vasistas.  C2\"]\n",
            "['La plupart des philosophes qui se sont prononcés en faveur de la liberté humaine, en faveur de l\\'existence du libre arbitre, ont accordé une grande valeur à l\\'expérience intime, immédiate que nous aurions, selon eux, de notre liberté : \"La liberté de notre volonté, écrit Descartes (Principes de la Philosophie, I, art39), se connaît sans preuve par la seule expérience que nous en avons\"  C2']\n",
            "['Quelle tête à claques celle-là !  A1']\n",
            "[\"J'ai déjà pris l'avion car nous sommes allés à Rome en Italie, il y a deux ans  A1\"]\n",
            "['À Milan, dix fois par jour il voyait le prince Eugène, et eût pu lui adresser la parole.  B2']\n",
            "['Comme Jean-Christophe Deledicq, un informaticien fondateur de la librairie des maths, pour qui \"il y a tellement de manières d\\'aimer les mathématiques [qu\\'il propose] de nombreux produits plus ou moins littéraires, plus ou moins ludiques\"  C2']\n",
            "['Certains, pourtant, haïssent cette béance dans leur agenda, ce vide, ce temps mort.  B2']\n",
            "[\"Le 7 mars 1815, les dames étaient de retour, depuis l'avant-veille, d'un charmant petit voyage de Milan ; elles se promenaient dans la belle allée de platanes, récemment prolongée sur l'extrême bord barque parut, venant du côté de Côme, et fit des signes singuliers.  C1\"]\n",
            "['En attribuant une valeur de flux potentiel aux liens du graphe, la segmentation fondée sur le critère de modularité aboutit à un découpage considéré comme optimal du point de vue de la dynamique démographique interne à chaque compartiment.  C2']\n",
            "[\"Folio n'arrive pas à s'endormir.  A2\"]\n",
            "[\"Alors qu'au cours du Paléolithique, la diffusion avait fractionné l'écoumène en petits groupes, la tendance depuis la fin de la dernière glaciation est à l'épaississement des relations dans l'Ancien Monde, par augmentation des effectifs et par tissage d'interconnexions.  C1\"]\n",
            "[\"Le Canada se trouve au nord de l'amerique  B2\"]\n",
            "[\"C'était là le fruit qu'il avait retiré des études astrologiques de son ami l'abbé Blanès, aux prédictions duquel il ne croyait point.  C2\"]\n",
            "[\"Pour dissuader ses lycéens de faire les Beaux-arts, l'École du cirque ou de se diriger vers diplôme d'arts du spectacle, un proviseur avait coutume de leur raconter cette histoire : J'avais deux copains.  C1\"]\n",
            "[\"En plus, je ne m'entends pas très bien avec ma mère.  A2\"]\n",
            "['Cinq ans plus tard, VGE mène une campagne présidentielle moderne, inspirée de celle de Kennedy aux États-Unis  B2']\n",
            "['Elle est grande !  A1']\n",
            "[\"Aujourd'hui, je vais te présenter ma famille.  A2\"]\n",
            "[\"Concentrés toute l'année sur les résultats scolaires de leurs enfants, les parents ne sont pas prêts à laisser les bains de mer ou de soleil délaver les tables de multiplication, les plus-que-parfait de l'indicatif et autres théorèmes de géométrie si chèrement acquis  C2\"]\n",
            "[\"Ils ont tout planifié six mois à l'avance, afin de bénéficier des tarifs les plus avantageux, ce qui leur a permis par exemple de réserver un hôtel quatre étoiles au lieu de trois  C2\"]\n",
            "[\"La salle craquait sous les bravos ; on recommença la strette entière ; les amoureux parlaient des fleurs de leur tombe, de serments, d'exil, de fatalité, d'espérances, et quand ils poussèrent l'adieu final, Emma jeta un cri aigu, qui se confondit avec la vibration des derniers accords.  C2\"]\n",
            "['De hauts sapins noirs interdisaient à la lumière du soleil de pénétrer dans le sous-bois où serpentait un obscur sentier bordé de silhouettes menaçantes prêtes à nous bondir dessus.  C2']\n",
            "['Or, la plupart du temps, la jeunesse est heureuse, ni aussi tragique ni aussi banale que ne le dessinent les clichés.  C2']\n",
            "[\"Après qu'il eut révélé son terrible secret, il se sentit soulagé  B1\"]\n",
            "[\"Toutes ces fêtes ont le même but : remercier les mamans pour ce qu'elles font toute l'année !  B2\"]\n",
            "[\"L'immense majorité des déchets professionnels sont mêlés aux gravats ou aux emballages, et enterrés dans le sol faute d'être isolés en vue de leur traitement , affirme-t-il.  B2\"]\n",
            "['Je comprends la situation.  B1']\n",
            "[\"La violence des vols et des agressions scande l'itinérance d'un vagabond qui fréquente le monde des individus statiques, auquel l'auteur ne se rattache plus, et celui des bas-fonds, qui l'inquiète ou le dégoûte.  C2\"]\n",
            "[\"C'est une bonne nouvelle, mais comment je vais faire dans une si grande ville alors que j'adore la nature?  A1\"]\n",
            "['Tu as entendu ce bruit ?  A1']\n",
            "['Des réseaux nationaux, puis internationaux, se sont créés pour fournir des informations à leurs membres, préparer des campagnes de sensibilisation, voire faire du lobbying.  C1']\n",
            "['En allant à la campagne, nous aurions cueilli des petits fruits.  A1']\n",
            "[\"J'ai réservé pour deux nuits.  A1\"]\n",
            "[\"Qu'est-ce qu'ils font ?  A1\"]\n",
            "[\"Le chat a voulu s'asseoir dans le fauteuil, mais Simon n'a pas voulu.  A1\"]\n",
            "['Il arrive bientôt.  A1']\n",
            "[\"Elle eut plaisir, comme un enfant, à pousser de son doigt les larges portes tapissées ; elle aspira de toute sa poitrine l'odeur poussiéreuse des couloirs, et, quand elle fut assise dans sa loge, elle se cambra la taille avec une désinvolture de duchesse.  C2\"]\n",
            "[\"Mais au fait, qu'est-ce que c'est le tourisme responsable ?  A1\"]\n",
            "[\"Ils m'ont expliqué qu'ils n'avaient pas encore vu quelqu'un d'aussi expressif, et qu'ils allaient me recontacter.  B1\"]\n",
            "['Les conséquences sur la nature sont gravissimes, notamment sur les océans qui contiendraient selon la revue américaine Science plus de 110 millions de tonnes de déchets plastiques.  B2']\n",
            "['Quand Ulysse fut parti, Pénélope demeura pensive.  B2']\n",
            "['Je préfère aller au travail à vélo  A2']\n",
            "['Pour y aller, descendez à la station musée du Louvre, prenez à droite et continuez tout droit  A2']\n",
            "[\"Je ne vais pas aller avec eux, puisqu'ils sont déjà partis !  A2\"]\n",
            "['La journée est longue pour lui  A2']\n",
            "['Le lendemain, le 25 décembre, est le jour de Noël  B2']\n",
            "[\"D'ailleurs, tous les personnages masculins croisés par l'héroïne - en dehors de ses collègues - sont dans un rapport de séduction.  C1\"]\n",
            "[\"Le jour de l'An correspond au 1 janvier.  B2\"]\n",
            "['Il est vrai que Pierre a moins de livres que ses amis, mais les siens sont meilleurs.  B2']\n",
            "[\"Un phénomène d'autant plus inquiétant que ce n'est pas la première fois qu'il se produit  B1\"]\n",
            "['Je viens de province.  B1']\n",
            "[\"Sa santé s'est dégradée à cause d'une infection sévère et ses jours sont comptés.  C1\"]\n",
            "[\"Quelqu'un a essayé de brûler la maison et on ignore qui et pourquoi.  B1\"]\n",
            "['Mais on entendit trois coups sur la scène ; un roulement de timbales commença, les instruments de cuivre plaquèrent des accords, et le rideau, se levant, découvrit un paysage.  C2']\n",
            "['On a eu aucune nouvelle de cette personne depuis le 15 août.  B1']\n",
            "[\"Peux-tu m'aider?  A1\"]\n",
            "['Quelle est ta chanson préférée dans le spectacle ?  A1']\n",
            "[\"Tu descends l'escalier et tu tournes à gauche.  A1\"]\n",
            "[\"Hier, en raison de violents orages, des villageois ont été privés d'électricité.  C1\"]\n",
            "[\"D'après des témoignages de chefs d'entreprise recueillis dans le Guide France Info Le salarié handicapé dans l'entreprise, ce dernier est un salarié comme les autres, avec en plus, la volonté de s'en sortir .  B1\"]\n",
            "['Il y a essentiellement trois grandes catégories.  A1']\n",
            "['Merci monsieur, au revoir.  A1']\n",
            "['Il choisit toujours une grande chambre  A1']\n",
            "[\"Merci Gaio, Ne t'inquiète pas, fais à ton rythme.  A1\"]\n",
            "[\"C'est la question que se pose Grégoire.  A2\"]\n",
            "['Il est interdit de fumer  A1']\n",
            "['Il a des lunettes  A1']\n",
            "['Leurs enfants sont grands (ceux du premier lit du moins), leurs emprunts remboursés, leurs revenus souvent confortables - ils détiennent 60% de la richesse nationale et 50% du revenu net des ménages français - ils sont propriétaires de leur logement dans 8 cas sur 10 et possèdent un autre bien immobilier dans 1 cas sur 3.  B2']\n",
            "['Nous nous interrogeons sur le soutien moral et financier des pouvoirs publics à une campagne de sensibilisation dont le message (\"Achetez du café qui vous permette de dormir tranquille\", encart publicitaire de la marque Max Havelaar France) suinte la vieille culture coloniale qui marque encore aujourd\\'hui nos imaginaires collectifs et notre rapport au monde: le rôle de l\\'État est-il de financer des opérations de \"communication éthique\" d\\'enseignes multinationales?  C1']\n",
            "[\"Craignant la défaite électorale, Trump dégobille allègrement sur le système électoral, parle de fraude et d'irrégularités, comme si elles étaient monnaie courante.  B2\"]\n",
            "[\"Les robots humanoïdes n'en sont qu'à leurs balbutiements.  C1\"]\n",
            "[\"Au cours de ces trente années, deux vies se déroulent donc devant nos yeux, avec leur lot de grands chagrins et d'amourettes, de déceptions et d'emballements.  B2\"]\n",
            "['Notre papier comporte en premier lieu une description détaillée des données étudiées, ainsi que diverses analyses concernant ces dernières.  C1']\n",
            "[\"Puis, plus grand, je découvrais les métiers de policier et d'avocat dans un film.  A2\"]\n",
            "[\"Puis, ayant rêvé pour la troisième fois qu'il voyait l'Enchanteresse, dont aucunes paroles humaines, cette nuit-là, n'eussent pu dépeindre le charme et le rayonnement, il s'en fut en secret le lendemain, sans consulter personne, et s'alla perdre, tout seul, dans la forêt.  B1\"]\n",
            "[\"Je n'aimais pas tellement être vendeuse, mais je devais essayer de vendre des appareils photo de toutes sortes aux clients.  B1\"]\n",
            "['La tribu a maintenant à manger.  A2']\n",
            "[\"L'idée était de stimuler chez les élèves l'esprit scientifique et les capacités d'expression, de favoriser leur compréhension du monde, et de leur permettre de mieux jouer leur rôle de citoyen en proposant des projets pédagogiques orientés vers des questions de société (éducation à la santé, au développement durable .) avec pour objectif que chacun de ces projets touche en moyenne 10'000 classes.  B2\"]\n",
            "['Il y a beaucoup de pièces  A1']\n",
            "['Tout comme la révolution industrielle a vu naître le capitalisme, je suis persuadé que la robolution va profondément modifier notre système économique.  C2']\n",
            "[\"Il y a beaucoup d'attente pour les ascenseurs (pour monter les étages) mais je suis enfin au sommet et peux apprécier la vue sur Paris  B1\"]\n",
            "[\"mon ami, j'ai peur de la méchante femme.  B1\"]\n",
            "[\"Des paysans et des seigneurs, le plaid sur l'épaule, chantaient tous ensemble une chanson de chasse ; puis il survint un capitaine qui invoquait l'ange du mal en levant au ciel ses deux bras ; un autre parut ; ils s'en allèrent, et les chasseurs reprirent.  C2\"]\n",
            "['Le principe général adopté pour identifier les zones de vulnérabilité repose sur la \"méthode de la suppression\" : partant d\\'une certaine métrique de connectivité calculée pour l\\'ensemble du graphe, elle consiste à simuler successivement la suppression de tous les éléments du graphe (taches ou liens) et à calculer pour chacun le taux de variation entre la valeur initiale de la métrique et la valeur tenant compte de la suppression.  C2']\n",
            "['Le 8 mai est la fête de la Victoire  B1']\n",
            "[\"Le modele theorique mis en oeuvre ici s'appuie sur l'idee d'un dispositif representatif qui jouerait sur trois niveaux : scenique, scenographique et enonciatif.  C2\"]\n",
            "[\"C'est déjà le lundi, et toute la semaine recommence.  A2\"]\n",
            "['Cela fait partie de sa vie sociale.  C1']\n",
            "['Les quelques chiffres publiés à ce jour donnent une idée de la dégradation du climat entre les élèves des deux sexes.  C2']\n",
            "[\"Soixante associations de défense de l'environnement et de solidarité sociale ont mis en garde contre une possible exclusion de l'obligation de rénovation énergétique des logements dans la future loi sur le climat.  C1\"]\n",
            "['\"Friendly\" pour \"Amicalement\" est tout simplement un non-sens  A1']\n",
            "['En conduisant un véhicule, vous ne pouvez pas téléphoner.  B1']\n",
            "[\"Quand je reviendrai, j'offrirai beaucoup d'amour à ceux que j'aprécie et je couvrirai mes enfants de présents.  A2\"]\n",
            "['Que les marquis se taisent sur leurs bancs, ou bien je fais tâter ma canne à leurs rubans !  C2']\n",
            "['Je ne pourrai pas venir demain.  A2']\n",
            "['Tu dois te couper les ongles.  A1']\n",
            "['Plus grave, un lien a été mis en évidence entre ces usages et des symptômes de dépression.  C2']\n",
            "[\"Je vais à l'école pendant la journée. Mon père s'appelle Alain.  A2\"]\n",
            "[\"Cependant, les bougies de l'orchestre s'allumèrent; le lustre descendit du plafond, versant, avec le rayonnement de ses facettes, une gaieté subite dans la salle; puis les musiciens entrèrent les uns après les autres, et ce fut d'abord un long charivari de basses ronflant, de violons grinçant, de pistons trompétant, de flûtes et de flageolets qui piaulaient.  C1\"]\n",
            "[\"Nous avons l'habitude d'acheter quinze pommes, ce sont elles qui les comptent et les mettent dans notre panier.  A2\"]\n",
            "[\"D'autres auteurs ont exploité ce terrain comme Erik Orsenna et ses Chevaliers du subjonctif, sorti à l'automne 2004 (Le Monde de l'éducation n° 328, septembre 2004)  C2\"]\n",
            "[\"Si l'individualisme repose sur le culte de chacun pour soi, l'individualisation correspond à une culture du choix, chacun affirmant son autonomie, sa capacité d'orienter son action sans être contrôlé ou contraint.  C1\"]\n",
            "[\"Elle prendra un pseudonyme masculin pour poursuivre ses travaux qui, revisités il y a peu, ont montré qu'elle avait imaginé les prémisses des travaux de Poincaré.  C2\"]\n",
            "[\"La première modernité a inventé l'universalisme abstrait, qui définissait tout ce que les individus ont en commun.  B2\"]\n",
            "['Quand il arriva près de la maison il vit un monsieur à la porte, et il entendit qu\\'il disait à la femme : \"Ma bonne femme, votre mari est-il chez lui ?\" \"Non monsieur,\" répondit la femme.  B1']\n",
            "[\"Mes parents disent que l'île est très jolie : il y a de très belles plages, on va pouvoir nager.  A2\"]\n",
            "['Il goûta cette sauce aussitôt que tu la eus préparée.  B1']\n",
            "['Je me demande si les fourmis dorment.  A2']\n",
            "[\"La Fête des mères est un jour très spécial durant lequel les mamans sont mises à l'honneur.  B1\"]\n",
            "[\"Quand les clients viennent, on a l'impression qu'ils viennent dans un endroit féerique  B1\"]\n",
            "[\"Il a plu et j'ai attendu l'autobus.  A2\"]\n",
            "[\"C'est aussi un test pour les couples nouvellement formés ou qui n'avaient jamais expérimenté la vie à deux.  C2\"]\n",
            "[\"J'ai eu un week-end un peu spécial.  A1\"]\n",
            "[\"Les occasions d'opposition, dues aux différences de culture, sont plus nombreuses.  B2\"]\n",
            "['Le 1er mai correspond à la fête du Travail, et rappelle la lutte des ouvriers pour réduire la journée de travail à huit heures.  A2']\n",
            "[\"Giscard se laisse filmer durant ses vacances à la montagne ou à la plage, il apparaît en short, puis torse nu lors d'un match de football organisé entre notables de Chamalières, village dont il fut longtemps le maire  C2\"]\n",
            "['Or peut-on se contenter de cette expérience immédiate ou pour reprendre la formulation de Bergson, de cette \"donnée immédiate de la conscience\"  C2']\n",
            "[\"Ainsi l'abbé Blanès n'avait pas communiqué sa science assez difficile à Fabrice ; mais, à son insu, il lui avait inoculé une confiance illimitée dans les signes qui peuvent prédire l'avenir.  C2\"]\n",
            "['À la semaine prochaine.  A1']\n",
            "[\"En Suisse les personnes physiques peuvent être assujetties à l'impôt sur le revenu et la fortune en raison de leurs liens personnels ou leur rattachement économique avec la Suisse.  C1\"]\n",
            "['Si vous aviez cherché ces dossiers, vous les auriez trouvés.  B2']\n",
            "['Tu mangeas les petits fruits dès que tu les eus cueillis  B1']\n",
            "['Si vous en avez la possibilité, ne laissez pas votre chien longtemps dans la voiture sans surveillance.  B1']\n",
            "[\"Dans un nouveau projet de loi, le premier ministre Silvio Berlusconi demande qu'il soit dorénavant illégal de diffuser une conversation enregistrée électroniquement avant que le verdict final de la justice ne soit rendu.  B1\"]\n",
            "[\"Devenus protocole et politesses rituelles, les mots d'amour glissaient sur la toile cirée de l'habitude.  C2\"]\n",
            "[\"Le lendemain, en se promenant, il rencontra un gueux tout couvert de pustules, les yeux morts, le bout du nez rongé, la bouche de travers, les dents noires, et parlant de la gorge, tourmenté d'une toux violente et crachant une dent à chaque effort.  C2\"]\n",
            "['À cette occasion, a été annoncé un grand plan vélo destiné à faire décoller enfn ce mode de transport, notamment grâce à \"l\\'indemnité kilométrique\".  B2']\n",
            "['Les jambes sont visiblement instituées pour être chaussées, et nous avons des chaussures.  B2']\n",
            "[\"Lucien Neuwirth, pionnier de la contraception, est mort dans la nuit de lundi à mardi à 89 ans, des suites d'une infection pulmonaire, à l'hôpital Rossini-Sainte-Périne à Pans  C2\"]\n",
            "[\"C'était très intéressant  B2\"]\n",
            "[\"Si ces tests confirment l'anomalie, un médecin du service de transfusion prendra contact et informera le donneur, au plus tard dans les dix jours qui suivent le prélèvement.  B2\"]\n",
            "['Je viendrai dîner avec mon amie.  A2']\n",
            "['Les dents se trouvent dans la bouche  C1']\n",
            "[\"Ils se sont dits des mots d'amour, des mots de tous les jours!  B2\"]\n",
            "[\"Un prêtre, confesseur du marquis del Dongo, eût pu sauver Prina en lui ouvrant la grille de l'église de San Giovanni, devant laquelle on traînait le malheureux ministre, qui même un instant fut abandonné dans le ruisseau, au milieu de la rue ; mais il refusa d'ouvrir sa grille avec dérision, et, six mois après, le marquis eut le bonheur de lui faire obtenir un bel avancement.  C1\"]\n",
            "[\"Ça faisait longtemps que je ne m'étais pas fait plaisir.  A2\"]\n",
            "['Mes peines : une peine est un chagrin, une douleur, un malheur.  C2']\n",
            "[\"Cet emballage innovant, allié au développement des lignes de chemin de fer, permit la distribution du camembert dans d'autres régions de France, mais aussi à l'étranger.  C2\"]\n",
            "['Pour nous reposer, nous avons bu un verre en terrasse  A1']\n",
            "['Robert percevait même les grincements du grillage contre lequel il devait se lancer de toutes ses forces.  B2']\n",
            "[\"Quand il y a des nuages avec de la neige qui tombe, c'est qu'il va neiger et qu'il peut y avoir du brouillard, des risques de congélation, de la glace et que la température sera très basse  B1\"]\n",
            "['Les salariés qui ont cotisé suffisamment peuvent prendre leur retraite à 60 ans.  B2']\n",
            "[\"Le parc national de Chamonix a besoin de 5 guides pour l'été.  C1\"]\n",
            "[\"Je n'ai aucune nouvelle depuis son départ  B1\"]\n",
            "[\"S'efforçant donc d'en détourner sa pensée, Emma voulait ne plus voir dans cette reproduction de ses douleurs qu'une fantaisie plastique bonne à amuser les yeux, et même elle souriait intérieurement d'une pitié dédaigneuse, quand au fond du théâtre, sous la portière de velours, un homme apparut en manteau noir.  C2\"]\n",
            "['Il entendait dans toute cette vaste maison une rumeur confuse, ce bruissement des grands restaurants fait du bruit des vaisselles et des argenteries heurtées, du bruit des pas rapides des garçons adouci par le tapis des corridors, du bruit des portes un moment ouvertes et qui laissent 147 échapper le son des voix de tous ces étroits salons où sont enfermés des gens qui dînent.  C2']\n",
            "['Tu prenais une douche et tu allais au lit.  A1']\n",
            "['Elle ne travaille plus ici depuis quinze jours.  A1']\n",
            "['La tête se compose du visage et du crâne qui est recouvert de cheveux  C2']\n",
            "['Il y a cinq chambres, une grande cuisine, un salon et deux salles de bains  A1']\n",
            "[\"Loin de faire l'unanimité, le téléphone mobile est souvent comparé à un cordon ombilical qui entrave l'autonomie, maintient la dépendance, infantilise.  A1\"]\n",
            "['Tu vois le château là-bas ?  A2']\n",
            "[\"La liberté comme condition de l'acte éthique  C2\"]\n",
            "[\"Le plus inquiétant c'est que la Scandinavie avait déjà battu des records de chaleur pendant l'été 2018  C2\"]\n",
            "[\"Quand j'échange avec des sympathisants de gauche en mettant sur la table toutes les réformes de progrès social depuis 2017, je me rends compte que l'enjeu porte avant tout sur notre capacité à porter politiquement ce bilan.  C2\"]\n",
            "[\"Réaffirmant que le Sénat ne s'était livré à aucun chantage contrairement aux allégations du rapporteur pour l'Assemblée nationale, il a, au contraire, affirmé que la position de la Haute Assemblée relevait d'une conception cohérente et constante de la société.  C2\"]\n",
            "[\"L'armée, qui conteste le résultat des élections de novembre remportées massivement par le parti d'Aung San Suu Kyi, a promis la tenue d'un nouveau scrutin.  C1\"]\n",
            "['Les médias, les entreprises, les municipalités, les écologistes invitent de plus en plus les citoyens à utiliser leurs vélos pour circuler dans les grandes villes.  B2']\n",
            "['Il accepte les différences, il est tolérant.  A1']\n",
            "[\"Le résultat de ces deux études démontrent que chez les personnes par ailleurs en bonne santé et menant un train de vie normal, les valeurs en ferritine n'influencent pas à elles seules des degrés de fatigue divers.  C2\"]\n",
            "[\"Lucie s'avançait, à demi soutenue par ses femmes, une couronne d'oranger dans les cheveux, et plus pâle que le satin blanc de sa robe.  C2\"]\n",
            "['Les méthodes de la biologie synthétique, qui aboutissent à la création artificielle de systèmes ou de composants biologiques en ajoutant des séquences artificielles d\\'ADN à un \"châssis\" génétique naturel minimal ou en assemblant des segments d\\'ADN artificiel pour créer de toutes pièces un système fonctionnel.  C2']\n",
            "['Les nouvelles technologies ont subi une évolution très rapide depuis les années 1970 et ont entraîné une véritable révolution dans nos habitudes et notre mode de pensée.  C2']\n",
            "['Je suis persuadé que la robolution va profondément modifier notre système économique.  A2']\n",
            "[\"Les ressources disponibles en ligne peuvent faciliter l'apprentissage des lycéens.  B2\"]\n",
            "[\"C'est dramatique qu'ils aient été amnésique suite au terrible accident survenu lors des tests de laboratoire.  B2\"]\n",
            "['Le héros est mort à la fin du film.  B1']\n",
            "['Née de la contraction anglaise de \"no-mobile phobia\", la nomophobie est, en simplifiant, une crainte obsédante et continuelle, de ne pas avoir son smartphone en état de marche avec soi.  B1']\n",
            "['Je fais mon lit tous les jours, bien sûr; et je fais souvent la vaisselle.  A1']\n",
            "[\"Quelle est votre ville d'origine ?  A1\"]\n",
            "['Je suis malade  A2']\n",
            "[\"Cette première étape est celle de l'apprentissage de l'autre, celle où chacun souhaite vaincre ses craintes et relever le défi.  C1\"]\n",
            "[\"Bien que revendiquée des poètes par goût pour la bohème, la marginalité de ce mode de vie est aussi assignée et subie lors de rituels d'accueil dégradants et déshumanisants : toilette collective, mauvaise nourriture, linge d'une hygiène douteuse, mais aussi le froid, la faim, la promiscuité et les insultes. Les effets psychologiques de la mise à nu des corps fatigués et surtout la peur de la dépossession des maigres biens portés à même le corps éloignent les aidants et des aidés.  C2\"]\n",
            "[\"C'est pour quand ?  B1\"]\n",
            "[\"On aura beaucoup de travail jusqu'au mois de mai.  B1\"]\n",
            "[\"J'ai de la chance d'avoir vu le spectacle plus de 500 fois  A2\"]\n",
            "[\"Son espace virtuel, unique en son genre, fête ses deux ans d'existence, et propose une belle collection d'alternatives au cahier de vacances  C1\"]\n",
            "[\"Sur la pente espagnole, des aconits bleu sombre ; plus bas, l'iris xiphoïde bleu porcelaine ; surprise de le retrouver ici à l'état sauvage.  C2\"]\n",
            "['Une exception, dans un paysage audiovisuel où il y a beaucoup de règles.  B1']\n",
            "[\"Essayez maintenant d'identifier les mots de vocabulaire dans l'histoire en l'écoutant à nouveau.  B2\"]\n",
            "[\"La police a déclaré qu'elle avait trouvé le voleur de la Joconde.  C2\"]\n",
            "[\"Puis, plus grand, je découvrais les métiers de policier et d'avocat dans un film  C2\"]\n",
            "[\"Bien, l'enquête est terminée, madame.  A1\"]\n",
            "[\"Grâce à une enseigante, il a finalement commencé à s'intéresser à l'école.  A2\"]\n",
            "[\"II y avait lu que j'étais un honnête homme, un travailleur régulier, infatigable, fidèle à la maison qui l'employait, aimé de tous et compatissant aux misères d'autrui.  C2\"]\n",
            "[\"C'est de votre faute : on utilise cette expression quand une autre personne est responsable, est coupable d'une action.  B1\"]\n",
            "[\"Et le vieux chef a toujours raison, car c'est le seul qui parle aux dieux.  B1\"]\n",
            "[\"L'inégalité entre pays riches et pauvres, ainsi qu'elle saute aux yeux au mitant du dernier siècle, au moment des décolonisations, n'était ni éternelle, ni inévitable.  C2\"]\n",
            "[\"C'est injuste On ne peut pas le condamner pour la faute qu'il a commise  A2\"]\n",
            "[\"Pour chaque histoire, j'écoute l'audio et en même j'écris ce que je comprends.  B1\"]\n",
            "[\"Et j'adresse un défi collectif au parterre !  B2\"]\n",
            "[\"L'école doit former les enfants à se séparer de leur comportement d'usagers pour leur faire adopter une position distanciée qui les aidera à considérer ces langages comme des objets et des véhicules du savoir.  C2\"]\n",
            "[\"Cette deuxième explication plus tardive semble avoir l'avantage pour certains de retirer les Amérindiens de l'équation, ce qui entache d'autant sa crédibilité  B2\"]\n",
            "['Mais il est aussi un descendant de dix-neuvième génération de Dante, ce qui lui confère certaines responsabilités vis-à-vis de son très lointain et très prestigieux aïeul.  C2']\n",
            "['Plusieurs jours se passèrent de la sorte.  C2']\n",
            "['Tous les collèges ne sont pas équipés de casiers .  A1']\n",
            "['Ces gens cultivaient leurs terres, élevaient des troupeaux, obéissaient aux usages, aimaient et mouraient selon la loi commune.  B2']\n",
            "[\"C'est la saison la plus chaude, pendant laquelle on recommence à mettre ses lunettes de soleil et à aller se promener sur la plage  A1\"]\n",
            "[\"Un ami m'a écrit une lettre.  A1\"]\n",
            "['En 1985, l\\'économiste japonais Ohmae Kenichi invente la formule commode de \"triade\" pour décrire la nouvelle polarisation du Monde.  C2']\n",
            "[\"C'est génial, j'ai tout vu avant vous !  A1\"]\n",
            "[\"Enfin, les producteurs s'inquiètent de la pollution que peuvent entraîner ces équipements qui contiennent parfois des substances dangereuses.  B2\"]\n",
            "['A cette très grande mortalité correspond une durée moyenne de vie relativement courte.  C1']\n",
            "[\"Or, Internet et les réseaux sociaux mobilisent toute notre attention et ne permettent pas de trouver cette tranquillité d'esprit.  C2\"]\n",
            "['Selon les services vétérinaires, la moitié des bisons de Yellowstone ont été exposés à la brucellose.  C1']\n",
            "['Ne renonce jamais aux cruautés qui vivifient la passion et lui redonnent du lustre.  C1']\n",
            "['Il agite son petit nez rose quand il me voit Ma grand-mère fait des gâteaux tous les jours  A2']\n",
            "['Mon petit frère a pris le bus public pour aller jouer au football avec ses copains.  A1']\n",
            "[\"Le réalisateur m'a d'abord demandé de me mettre devant la caméra.  B1\"]\n",
            "[\"Le soir vous pouvez faire un tour en bateau jusqu'à la Tour Eiffel.  B1\"]\n",
            "['Il avait faim.  A1']\n",
            "[\"J'habite à Paris.  A1\"]\n",
            "[\"Plusieurs pays ont commencé à appliquer les principes d'une gestion intelligente d'une ressource longtemps considérée comme inépuisable.  C2\"]\n",
            "[\"Il s'arrêta tristement à la porte d'un cabaret.  A1\"]\n",
            "[\"Pour se détendre, Théo prend souvent un bain le soir avant de jouer encore un peu et d'aller dormir  A2\"]\n",
            "['Dès que Fabrice fut sorti de la petite ville, marchant gaillardement le sabre de hussard sous le bras, il lui vint un scrupule.  C1']\n",
            "['Non, moi plus tard, je ferai des marionnettes comme mon papa.  A1']\n",
            "['Il regarde la télévision.  A1']\n",
            "['Après, je vais dans la cuisine et je bois mon café  A2']\n",
            "['Jamais, moi je parlerai comme ça de mon père.  A2']\n",
            "['Mais, ce soir-là, Quentin était sorti  A2']\n",
            "['Quel sport est-ce que vous faites ?  A1']\n",
            "[\"Claude HAGÈGE est Professeur au Collège de France et Directeur d'études à l'École Pratique des Hautes Études  B2\"]\n",
            "[\"Je n'ai pas de leçons à recevoir.  B1\"]\n",
            "['Le Falcon 1 est un lanceur théoriquement réutilisable qui peut placer, selon son constructeur, 670 kg en orbite basse.  C2']\n",
            "[\"Saul Goodman est un avocat véreux et peut être facilement trouvé dans les pages jaunes d'Albuquerque.  C1\"]\n",
            "[\"C'est le château.  A1\"]\n",
            "['Oui, je suis à Paris depuis vingt jours à peine.  A2']\n",
            "[\"Le montant des recettes des impôts sur l'énergie dépend non seulement du taux d'imposition, mais aussi de la quantité d'énergie consommée, elle-même influencée par la situation économique, les conditions météorologiques et les prix.  C1\"]\n",
            "[\"Quand je finirai ce travail, je partirai en Floride. Je fuirai l'hiver et les grands froids.  A2\"]\n",
            "[\"Les six hommes sont détenus dans la tristement célèbre prison d'Insein de Rangoun où de nombreux prisonniers politiques ont effectué de lourdes peines sous les dictatures précédentes  C1\"]\n",
            "[\"Ils étudièrent méticuleusement la topographie du territoire avant de s'y aventurer pour récolter des données statistiques équivoques.  C1\"]\n",
            "[\"Enseigner à une enfant qu'il peut réussir.  C2\"]\n",
            "['Jean a une copine.  C1']\n",
            "['Il explora tout le rez-de-chaussée et découvrit un appentis, ou plutôt un petit hangar encombré de vieilles caisses et de deux carcasses de camionnettes.  C2']\n",
            "[\"En Occasionnel, il s'agit de 15 manches maximum, la première équipe à gagner 8 manches l'emporte.  B1\"]\n",
            "['Tu me manques beaucoup  A1']\n",
            "['À partir de deux reportages sur les vacances des Français, invitez les apprenants à parler de leurs vacances.  C2']\n",
            "[\"C'est en représentant mon journal, Le Parisien, à l'émission Res Publica, à la radio, que j'ai rencontré Jean-Luc Hess, qui dirigeait alors la station.  B1\"]\n",
            "['Tu manges beaucoup.  A1']\n",
            "['Je te conseille vraiment la Brasserie du Métro qui est mon restaurant préféré, tu ne le regretteras pas si tu y vas  A2']\n",
            "[\"C'était le paradis, je faisais de longues siestes tantôt sur le canapé, tantôt sur le lit d'Arthur, à la chaleur du soleil ou du radiateur selon les saisons  C1\"]\n",
            "[\"Par ailleurs, des éducateurs expliquent que ce n'est pas en poursuivant ces enfants que l'on réglera les problèmes des familles.  B1\"]\n",
            "['Inversement, les régions tempérées lointaines n\\'intéressent que médiocrement les colonisateurs jusqu\\'à l\\'explosion démographique du Vieux Continent au XIXe siècle, moment où les \"pays neufs\" deviennent des prolongements européens.  C2']\n",
            "[\"En Compétitif, il s'agit de 30 manches, l'équipe gagnant 16 manches l'emporte, mais le match se termine par une égalité si aucune des deux équipes n'a atteint 16 à la fin de la trentième manche.  B1\"]\n",
            "['Au rez-de-chaussée, il y a un salon avec un piano, une salle-à-manger, une cuisine spacieuse et jaune et une salle de bain  A2']\n",
            "[\"Il l'a suivie, emporté par les flots.  B1\"]\n",
            "['Il est primordial que le gouvernement poursuive ses efforts pour conforter la reprise économique dans ce pays  A1']\n",
            "[\"Plus d'un s'imposait un quart volontaire dans les barres de perroquet, qui eût maudit une telle corvée en toute autre circonstance.  C2\"]\n",
            "[\"Il y a des régions où les enfants ne vont pas à l'école le mercredi.  B1\"]\n",
            "['Mon ami ne répond pas au téléphone.  A2']\n",
            "[\"Elle travaille dans le domaine de l'informatique aussi ?  A1\"]\n",
            "['Nous lisions ensemble des poètes anglais ; nous nous promenions ensemble.  A1']\n",
            "[\"Je resterai, néanmoins, fidèle à ma règle habituelle, qui consiste à accorder la préférence aux affaires dont l'intérêt provient moins de la sauvagerie du crime que de l'ingéniosité et de l'imprévu de la solution.  C2\"]\n",
            "['Salut tout le monde  A1']\n",
            "['Le cheval arriva au galop et sauta par-dessus la clôture.  C1']\n",
            "['Malgré cela, des protestataires continuent à descendre dans les rues pour demander le départ des généraux putschistes et la libération des centaines de détenus emprisonnés ces dernières semaines.  C1']\n",
            "[\"Après l'éruption de 1754, la plus grosse connue par le volcan qui avait tué plus d'un millier de personnes, la municipalité de San Nicolas avait à l'époque déménagé sept kilomètres plus loin pour s'éloigner du volcan  C1\"]\n",
            "['Elle préfère aussi mettre un pull, des chaussettes en laine, des bottes et ses gants pour ne pas avoir froid aux doigts  C2']\n",
            "[\"Il ne reste donc plus qu'à attendre.  A2\"]\n",
            "['Morin : \"Notre mode de connaissance parcellisée prédit des ignorances globales.  C2']\n",
            "[\"En France, le développement du commerce équitable passe par l'éducation du grand public, encore peu mobilisé parce que peu informé.  C1\"]\n",
            "['Originaire des Saintes, un archipel situé au sud de la Guadeloupe, Gérard-Michel a un parcours pour le moins atypique  B2']\n",
            "[\"On n'en sort pas, et moi, j'en ai marre.  B1\"]\n",
            "['Mais il faut continuer.  B1']\n",
            "[\"Que le vulgaire croie à des comètes extraordinaires qui traversent l'espace, ou à l'existence de monstres antédiluviens qui peuplent l'intérieur du globe, passe encore, mais ni l'astronome, ni le géologue n'admettent de telles chimères.  C2\"]\n",
            "['Comme l\\'enfant séparé de sa mère trouve dans son \"doudou\" un moyen de se rassurer, le smartphone, objet transitionnel, ne permettrait-il pas de lutter contre les frustrations et affects négatifs provoqués par le monde social ?  C2']\n",
            "[\"Je dirais qu'Andy Warhol est l'artiste le plus complexe, multi-facettes et révolutionnaire de ces soixante dernières années.  A2\"]\n",
            "[\"J'ai fait de gros progrès en français, je le comprends et je sais le parler et l'écrire bien mieux maintenant  A2\"]\n",
            "['Chacune des categories est correlée à une situation donnée et possède une organisation syllabique, temporelle et mélodique specifiques.  C2']\n",
            "[\"Le temps des hommes s'articule autour de ce jour chômé.  C2\"]\n",
            "[\"On pourra se faire un cinéma ou un bowling à l'occasion si tu veux ?  B1\"]\n",
            "[\"L'adjudant interrogea Fabrice, qui lui parla de son enthousiasme pour l'Empereur avec un accent fort suspect ; sur quoi ce sous-officier le pria de le suivre jusque chez le colonel, établi dans une ferme voisine.  C1\"]\n",
            "['Tu peux assister à des cours de danse, de hockey, et de gym.  A1']\n",
            "['\"Aujourd\\'hui nous magnifions les robots pour faciliter leur future acceptation sociale\", relève le psychiatre Serge Tisseron de l\\'université Paris-VII, dans le magazine Les dossiers de la Recherche. Mais cette forte empathie peut avoir son revers.  C1']\n",
            "[\"Trois hommes et une femme ont été abattus lors d'un rassemblement anti-coup d'Etat dans la ville de Monywa (centre), ont indiqué à l'AFP des sources médicales.  C1\"]\n",
            "[\"Accusé de vol, l'homme a fini par avouer qu'il était coupable.  C2\"]\n",
            "['Une petite révolution et des chiffres qui parlent tout seuls.  C2']\n",
            "['À part ça, je fais du sport trois ou quatre fois par semaine.  A2']\n",
            "[\"Les longues salles rococo, étourdissantes de peluche et de volutes d'or, étaient peuplées de fragments romains, blancs et dissociés : une jambe de coureur, la tête glacée à demi détournée d'une matrone frappée au sein, dont les prunelles aveugles et hardies recevaient une pupille de toute ombre fugitive, en sorte que ce qu'elles regardaient était un acte de soleil.  C2\"]\n",
            "['On peut aussi aller au théâtre, dans les musées ou au cinéma  B1']\n",
            "['\" à ses proches  C1']\n",
            "[\"Puis je me bagarrais avec Daffy, mon canard en peluche, je mâchouillais mon os qui couine ou je chantais à l'unisson avec la radio de la voisine  C1\"]\n",
            "[\"La dynamique de la vie de ces couples, ponctuée par des crises successives et des étapes semblables à celles de n'importe quel couple, a pourtant sa logique propre.  C1\"]\n",
            "['Une limitation d\\'autant plus efficace que, comme le rappelle le chercheur, \"les apprentissages distribués sont plus efficaces que les apprentissages regroupés\"  C2']\n",
            "[\"Il traversa alors un petit vestibule qui - tel que certaines pièces aménagées par leur propriétaire pour servir de cadre à une seule oeuvre d'art, dont elles tirent leur nom et, d'une nudité voulue, ne contiennent rien d'autre - exhibait à son entrée, comme quelque précieuse effigie de Benvenuto Cellini représentant un homme de guet, un jeune valet de pied, le corps légèrement fléchi en avant, dressant sur son hausse-col rouge une figure plus rouge encore d'où s'échappaient des torrents de feu, de timidité et de zèle, et qui, perçant les tapisseries d'Aubusson tendues devant le salon où on écoutait la musique, de son regard impétueux, vigilant, éperdu, avait l'air, avec une impassibilité militaire ou une foi surnaturelle - allégorie de l'alarme, incarnation de l'attente, commémoration du branle-bas - d'épier, ange ou vigie, d'une tour de donjon ou de cathédrale, l'apparition de l'ennemi ou l'heure du jugement.  C2\"]\n",
            "[\"Avant de boire une tasse de café, il faut faire pousser le plan de café, le récolter, le transporter, l'emballer, le vendre et le préparer  A2\"]\n",
            "['Cet homme a une belle allure.  C2']\n",
            "['Les sénateurs, investis par le suffrage universel indirect de tous les droits et obligations attachés à la fonction parlementaire, sont élus pour six ans par un collège électoral de plus de 160 000 élus.  C1']\n",
            "[\"Entre-temps, après avoir réalisé un bénéfice, Piero acheta une plaque décorée d'un coeur transpercé d'une flèche qu'il donna au paysan.  C2\"]\n",
            "[\"Leur pavillon mitoyen à Paris était pratiquement neuf quand ils l'avaient acheté.  B2\"]\n",
            "[\"Il prévoit que les plantations de forêts sont déductibles des émissions de gaz à effet de serre (GES), puisque les arbres croissent en pompant le gaz carbonique dans l'air.  C1\"]\n",
            "['Ce que la porte était bien incapable de faire!  C2']\n",
            "['On peut avoir le contrat à condition de faire vite.  B1']\n",
            "[\"Cependant dans certains cas, les exploitants veulent rentabiliser leur concession au maximum et dans des délais beaucoup trop courts d'un point de vue écologique.  C2\"]\n",
            "[\"Et sans doute encore, le romantisme allemand dans lequel ces mouvements de l'esprit vont trouver comme une fluide cristalli- sation ne se présente pas au premier abord comme conscience malheureuse, ainsi que le fait le romantisme français.  C2\"]\n",
            "['Comment vas-tu ?  A1']\n",
            "[\"Un visage humain est projeté sur un masque de plastique et s'adapte à son interlocuteur (rire, larmes, dédain, gêne, neutre.)  C2\"]\n",
            "[\"Les habitants seraient très choqués d'apprendre l'interdiction des voitures en centre-ville.  B2\"]\n",
            "['Contrairement aux autres lanceurs privés, passés ou encore opérationnels, le Falcon 1 utilise des composants entièrement conçus au sein de la société qui le commercialise.  C1']\n",
            "[\"À gauche, c'est ma salle de bain, avec vue sur mon jardin.  A2\"]\n",
            "[\"Au milieu de ces collines aux formes admirables et se précipitant vers le lac par des pentes si singulières, je puis garder toutes les illusions des descriptions du Tasse et de l'Arioste.  B2\"]\n",
            "[\"Il arrive à sortir en jurant au roi des serpents qu'il ne révèlera pas le secret de la grotte (ni le lieu, ni comment y entrer).  B1\"]\n",
            "[\"Ce sont des jours fériés, c'est-à-dire des jours pendant lesquels on ne travaille pas  A1\"]\n",
            "[\"Un héritier : un héritier est une personne qui reçoit des droits ou un patrimoine après la mort d'une personne.  C2\"]\n",
            "['Ces nouvelles tensions interviennent après une journée de répression meurtrière dimanche avec au moins 18 manifestants tué.  B2']\n",
            "[\"Et, pour que rien ne brise l'élan dont il va tâcher de la ressaisir, j'écarte tout obstacle, toute idée étrangère, j'abrite mes oreilles et mon attention contre les bruits de la chambre voisine.  C2\"]\n",
            "[\"Qu'est-ce que tu regardes ?  A1\"]\n",
            "['Tu es américain et elle est anglaise.  A1']\n",
            "[\"Jour du Seigneur pour les chrétiens ou jour de famille dans l'idéal laïque, il charrie bons et mauvais souvenirs, nostalgie des repas dominicaux ou haine de la parentèle.  C2\"]\n",
            "['Il ne reste pas seul chez lui ce soir  A2']\n",
            "[\"Étant féru d'art, Yves Saint Laurent a constitué, au fil des années, une importante collection d'objets précieux et de peintures qui ont inspiré certaines de ses créations.  C2\"]\n",
            "['Comme mon père va avoir 50 ans, on lui organise un anniversaire surprise.  B1']\n",
            "['Cerveau et seau de plage jouent-ils les vases communicants ?  C2']\n",
            "[\"Pour remédier à une suspicion d'endogénéité, plusieurs variables instrumentales potentielles sont proposées.  B2\"]\n",
            "[\"Pourquoi le maire de la ville n'a pas accepté cette loi ?  B1\"]\n",
            "['La majorité des Français fête Pâques et considère cette date comme une occasion de se retrouver en famille pour partager un bon repas  B1']\n",
            "[\"Voilà le chemin à suivre, finissons-en avec ce décalage inacceptable entre la cuisine d'en haut (consommée par une minorité) et la cuisine d'en bas, celle de la majorité silencieuse, débordante et insipide.  C2\"]\n",
            "['Le massacre est commémoré sur le drapeau de la ville de Chicago par sa première étoile rouge  B2']\n",
            "[\"Alexandre a bu beaucoup de café et n'a pas beaucoup dormi cette semaine  A2\"]\n",
            "[\"Ma chère Sonia, Je suis bien arrivée à Londres pour ma dernière année d'études de marketing à l'université.  A2\"]\n",
            "[\"Un rêve d'enfant réalisé.  C2\"]\n",
            "[\"Enfin j'entendis sonner l'heure à laquelle je devais me rendre chez le comte.  A2\"]\n",
            "['Quelquefois je cherchais à contraindre mon ennui ; je me réfugiais dans une taciturnité profonde : on prenait cette taciturnité pour du dédain.  C2']\n",
            "['On peut y aller à pied  A1']\n",
            "[\"Pour le plat de résistance de ce soir, je n'ai ni de tomates, ni de courgettes dans mon garde-manger.  B1\"]\n",
            "['Il veut aller à la montagne  A2']\n",
            "['Lequel des deux assouvit le mieux sa passion ?  C1']\n",
            "[\"Il y a un an, j'ai décidé de ne plus manger de viande.  B1\"]\n",
            "[\"Son inégale diffusion dans l'espace, son intensité variable commandent les transformations démographiques et sociales des populations et modifient a terme les paysages géographiques.  C1\"]\n",
            "[\"Or, aujourd'hui, c'est un défi massif lancé à notre pays.  A1\"]\n",
            "['Quand Arthur rentrait enfin, je lui faisais la fête en sautant dans tous les sens, et il me sortions pour notre promenade au parc, caressait derrière les oreilles en ria Ensuite, nous où nous retrouvions quelques amis  A2']\n",
            "[\"Il y a un quartier très agréable pour aller se balader, lorsqu'il fait beau  A1\"]\n",
            "[\"Elle pendit son linge au dossier d'une chaise, elle demeura debout, tournant, examinant les meubles, frappée d'une telle stupeur, que ses larmes ne coulaient plus ; il lui restait un sou sur les quatre sous gardés pour le lavoir. Puis, entendant rire à la fenêtre Étienne et Claude, déjà consolés, elle s'approcha, prit leurs têtes sous ses bras, s'oublia un instant devant cette chaussée grise, où elle avait vu, le matin, s'éveiller le peuple ouvrier, le travail géant de Paris ; à cette heure, le pavé échauffé par les besognes du jour allumait une réverbération ardente au-dessus de la ville, derrière le mur de l'octroi ; c'était sur ce pavé, dans cet air de fournaise, qu'on la jetait toute seule avec les petits et elle enfila d'un regard les boulevards extérieurs, à droite, à gauche, s'arrêtant aux deux bouts, prise d'une épouvante sourde, comme si sa vie, désormais, allait tenir là, entre un abattoir et un hôpital.  C2\"]\n",
            "[\"Elle s'étirait délicatement en un long ruban d'hommes et de chameaux.  C2\"]\n",
            "['Quand elle vécut cette catastrophe hors norme, soudain elle perdit son sang froid.  B1']\n",
            "[\"C'est pourquoi, dans le désert, les premiers déplacements s'effectuent tôt le matin, avant 8 h 30, pour profiter de la fraîcheur persistante de la nuit.  B1\"]\n",
            "['Mais ils sont arrivés en plein hiver, au mois de décembre 1620, et ne sont ni de grands agriculteurs ni de grands chasseurs  B2']\n",
            "[\"L'enseignement des langues dans l'école française est - comment dire ça poliment  A1\"]\n",
            "['Il y a aussi une table basse.  A2']\n",
            "[\"Chaque printemps, la Quinzaine du commerce équitable est l'occasion de lancer de grandes campagnes de sensibilisation.  C1\"]\n",
            "['Pour pallier le manque de compétences transversales, la créativité dans les salles de classe de tous âges pourrait être le fait des élèves eux-mêmes, en devenant des \"proconsommateurs\" - producteurs et consommateurs - de connaissances.  B2']\n",
            "['\"Parce que les révisions aident à faire retrouver la trace du rangement au sein de sa mémoire, ajoute-t-il  C1']\n",
            "[\"Si les enfants écrivent une lettre au Père Noël, est-ce qu'il répondra ?  B1\"]\n",
            "[\"Cette année, ce n'est pas moins de 12 millions d'élèves qui ont repris le chemin de l'école.  B2\"]\n",
            "[\"Bref : réfléchir à l'utilisation que vous allez en avoir et non pas en fonction du prix, même mini !  B1\"]\n",
            "['Sur les 40 hommes et femmes présents, 32 étaient séparés ou en instance de divorce.  C2']\n",
            "[\"L'extrémité supérieure de la corde est attachée à une planchette doublée de liège, et une branche de coudrier très flexible, fichée sur cette planchette, soutient une petite sonnette qui tinte lorsque le poisson, pris à la ligne, donne des secousses à la corde.  C2\"]\n",
            "[\"Léonard de Vinci a eu beaucoup d'amis qui sont reconnus dans leurs domaines respectifs ou ont eu une influence importante sur l'Histoire.  B2\"]\n",
            "[\"Au fils des pages, je doutais qu'ils eussent écrit ces lignes et proses de ses propres mains.  C2\"]\n",
            "['Je vous ouvre un compte.  A2']\n",
            "[\"Quand il doit rencontrer un client important, Marc n'hésite pas à s'habiller sobrement  B1\"]\n",
            "['Julie : merci bien.  A1']\n",
            "['La deuxième phase correspond à une période de bilinguisme émergent.  C1']\n",
            "[\"Je voudrais un café s'il-vous-plaît !  A1\"]\n",
            "['Pourquoi le gouvernement a-t-il décidé une extension du public visé ?  C1']\n",
            "[\"Une carafe d'eau, s'il vous plaît.  A1\"]\n",
            "[\"J'attends votre réponse. À bientôt.  A1\"]\n",
            "[\"La calcitonine est une hormone largement distribuee sur l'echelle de l'evolution, cependant aucune etude biochimique n'a ete entreprise chez les invertebres.  C2\"]\n",
            "[\"J'ai détesté la littérature à l'école en plus de ça  A2\"]\n",
            "[\"Sans parler des cantines d'entreprises, des bistrots branchés, des snacks et des bars de quartier.  C2\"]\n",
            "[\"Je suis complétement en sécurité car j'ai une entière confiance en lui.  B1\"]\n",
            "[\"Huit photons au moins sont nécessaires pour permettre la réduction d'une molécule de dioxyde de carbone par l'eau.  B2\"]\n",
            "['La taille des ménages est à cet égard un facteur important: les ménages issus de la migration, qui sont en général plus grands, doivent partager leurs revenus et leur patrimoine entre plus de personnes que les ménages non issus de la migration.  C1']\n",
            "[\"Chère Anna, Je ne suis pas encore prêt pour comprendre toute l'histoire, Mais tes vidéos sont extrêmement motivantes!  A2\"]\n",
            "[\"D'abord, ils furent séduits par un arrangement compliqué : en haut, des parapluies, posés obliquement, semblaient mettre un toit de cabane rustique ; dessous, des bas de soie, pendus à des tringles, montraient des profils arrondis de mollets, les uns semés de bouquets de roses, les autres de toutes nuances, les noirs à jour, les rouges à coins brodés, les chairs dont le grain satiné avait la douceur d'une peau de blonde ; enfin, sur le drap de l'étagère, des gants étaient jetés symétriquement, avec leurs doigts allongés, leur paume étroite de vierge byzantine, cette grâce raidie et comme adolescente des chiffons de femme qui n'ont pas été portés.  C2\"]\n",
            "[\"Presque toujours, pour vivre en repos avec nousmêmes, nous travestissons en calculs et en systèmes nos impuissances ou nos faiblesses : cela satisfait cette portion de nous qui est, pour ainsi dire, spectatrice de l'autre.  C2\"]\n",
            "[\"La locomotive, dirigée par le bras d'un mécanicien anglais et chauffée de houille anglaise, lançait sa fumée sur les plantations de cotonniers, de caféiers, de muscadiers, de girofliers, de poivriers rouges.  C1\"]\n",
            "[\"L'image d'un robot esclave n'est pas neuve! Les progrès présents et promis inquiètent certaines personnes qui redoutent d'être supplantées par des machines.  C2\"]\n",
            "[\"Elle s'appelle Folio et elle a un an.  B1\"]\n",
            "[\"Je suis bien arrivée à Londres pour ma dernière année d'études de marketing à l'université  A2\"]\n",
            "['Le journaliste lui a posé des questions auxquelles il a répondu sans hésitations.  B1']\n",
            "['Il me reste des croissants.  B1']\n",
            "['Je suis restée quatre semaines à Boston dans une famille.  B1']\n",
            "[\"J'ai un garage pour ma voiture et pour mon vélo.  A2\"]\n",
            "[\"Il n'y a pas beaucoup de voitures donc il n'y a pas d'embouteillage  A2\"]\n",
            "['Elles sont magnifiques et les textes sont très beaux aussi.  B2']\n",
            "[\"Plus tôt, ils avaient été remis à un procureur, escortés de 15 officiers de police japonais venus spécialement aux États-Unis samedi pour l'occasion.  B2\"]\n",
            "[\"Une étude menée par des chercheurs de l'université McGill au Canada vient apporter de nouveaux éléments sur cette étape.  C1\"]\n",
            "[\"Ce phénomène, c'est l'apparition d'une génération inédite.  A1\"]\n",
            "['Une large majorité de français est favorable à la modification du calcul de la retraite des fonctionnaires dans le cadre de la réforme en préparation, selon un sondage publié vendredi  C1']\n",
            "['Tout en haut de la tour Eiffel, il y a des antennes qui émettent les programmes de radio et de télévision  C2']\n",
            "[\"Une politique de sécurité est un outil de gouvernance qui permet de traiter la sécurité comme un processus de gestion continu en fonction d'objectifs stratégiques clairement définis.  C1\"]\n",
            "[\"Ils sont allés en vacances l'été dernier  B1\"]\n",
            "[\"Je m'agitais ainsi intérieurement, lorsque je fis connaissance avec le comte de P ***, homme de quarante ans, dont la famille était alliée à la mienne.  C2\"]\n",
            "[\"Fini les pâtes à l'italienne, les gros haricots blancs, les pommes de terre en robe des champs avec du beurre et du bon pain frais.  C1\"]\n",
            "[\"J'espère qu'il y aura beaucoup de soleil.  B1\"]\n",
            "['Les entreprises se bousculent pour être cotées sur la plus ancienne place boursière au monde.  B2']\n",
            "['Personne ne doit être reçu dans les fortifications par faveur ou par recommandation.  C2']\n",
            "['Ils préfèrent alors rester à la maison et profitent du temps libre pour visiter leurs familles ou se balader en ville  B1']\n",
            "['Le train de ma soeur arrive à 20h05  A2']\n",
            "['Vous avez une réduction ?  A1']\n",
            "['La longueur est une distance mais une sensation aussi.  B1']\n",
            "[\"À l'occasion de la manifestation, qui se déroule dans tout le pays, les organisateurs ont commandé un sondage.  B1\"]\n",
            "[\"Je suis venu dès que j'ai appris la nouvelle.  B1\"]\n",
            "[\"Qu'ils soient mariés depuis des années ou vivant pour la première fois sous le même toit, le confinement va mettre tous les couples à l'épreuve.  B2\"]\n",
            "['Léonard de Vinci est employé comme architecte et ingénieur militaire par les Vénitiens, qui cherchent à protéger leur cité.  C1']\n",
            "['Ma contrainte avec lui eut une grande influence sur mon caractère.  C2']\n",
            "['D\\'autres instruments ont \"sniffé\" les gaz à la surface de la comète et la récolte a été bonne. Le robot, qui pèse 100 kg sur la Terre, a une masse d\\'un gramme sur la comète, a recueilli une mine d\\'images et de données scientifiques, transmis à la sonde Rosetta qui les a renvoyés sur Terre.  C2']\n",
            "['Monet peignit ce portrait emplit de sensualité et lourd de symbolisme.  C2']\n",
            "[\"Certains métiers vont disparaître, mais d'autres apparaître.  B1\"]\n",
            "[\"Les arêtes de ce réseau sont les chemins parcourus, qui esquintent les pieds et abîment l'allure ; les noeuds se composent des lieux d'accueil, où les vagabonds aspirent au repos physique et moral, mais qu'ils obtiennent rarement.  C2\"]\n",
            "['Comment est votre blanquette ?  A1']\n",
            "[\"Au cours des années 1970 et 1980, plusieurs groupes d'environnementalistes de pays industrialisés d'Europe de l'ouest et d'Amérique du Nord ont organisé des campagnes contre la chasse aux baleines et aux phoques.  C1\"]\n",
            "['Sa grossesse se passe bien et elle travaille toujours dans le même restaurant.  B1']\n",
            "[\"Quand j'ai attteint mes 1 ans et demi, j'ai appris à marcher de manière autonome et assurée.  B1\"]\n",
            "[\"Ce système s'inspire de celui contre la désinformation liée aux élections et processus civiques, qui a notamment conduit Twitter à bannir l'ancien président américain Donald Trump.  C1\"]\n",
            "[\"Bref, première leçon, le québécois n'est pas un français déformé mais plutôt un français historique, proche de celui qui était parlé en France avant le 17e siècle  B1\"]\n",
            "['Innovation et simplicité sont les jalons du seul chemin à parcourir pour retrouver concrètement et durablement un élan créatif adapté à un monde qui change, évolue mais reste friand de bonnes choses.  C2']\n",
            "[\"A l'origine, Bergmann et Sams, qui ont véritablement fait découvrir la méthode, ont travaillé avec des capsules vidéo, donc ce qui suppose un enregistrement.  B1\"]\n",
            "['La religion est la grande consolatrice des virginités  A1']\n",
            "[\"Alors, tu voyais le film, tu écrivais un texte et tu décrivais l'histoire.  A2\"]\n",
            "['La blanquette est bonne.  A1']\n",
            "[\"Le sort, qui semblait contrarier leur passion, ne fit que l'animer.  C1\"]\n",
            "[\"C'est un parc où les gens viennent se promener en famille et entre amis  B1\"]\n",
            "['Le petit chat plaît à mes parents.  A1']\n",
            "['Autrement dit, peut-on se contenter du sentiment de notre liberté pour en déduire son existence certaine  C2']\n",
            "[\"Ma mère s'appelle Emilie Summer ; elle est infirmière dans un hôpital non loin de notre maison.  A1\"]\n",
            "[\"Et ça c'est à cause de l'école, parce que l'école les a dégoûtés, ils avaient plus envie d'apprendre ; alors maintenant ils sont dans la rue et ils font n'importe quoi.  A2\"]\n",
            "[\"J'ai bien reçu ton message  A1\"]\n",
            "['Pour vérifier que vous avez bien compris, répondez à ces questions.  A2']\n",
            "[\"L'ambitieux a les dents longues mais pour réussir, les ambitieux doivent être prudents et persévérants sinon ils peuvent se casser les dents.  B2\"]\n",
            "[\"Je crois que c'est surtout pour me faire plaisir.  B1\"]\n",
            "[\"Accusé de manger à tous les râteliers, l'élu démissionne.  B2\"]\n",
            "['Devant chaque porte se trouvait une botte de paille, pour empêcher le froid de passer dessous.  C1']\n",
            "[\"Rencontrant dans mon cours de biologie une notion complexe, je descendis pour aller demander à mon père d'éclairer ma lanterne.  A2\"]\n",
            "[\"Entre-temps, cette inflation a dopé les interactions et donné une place nouvelle à l'Europe vis-à-vis des autres ensembles sociaux de l'Ancien Monde.  B2\"]\n",
            "['Vous mangeâtes des escargots et des langoustines servis dans un plat garnit de glace pillée afin de conserver le met prestigieux au frais.  C1']\n",
            "['La merveilleuse paix de cet été endormi entrait en moi comme une marée.  C2']\n",
            "[\"L'absence d'ivrognerie rend praticables les plus basses classes de Constantinople, et les Orientaux ont une dignité naturelle inconnue chez nous.  C2\"]\n",
            "[\"Aujourd'hui, c'est une tarte aux framboises avec de la confiture faite maison  A1\"]\n",
            "['Quand j\\'étais petit, ma mère, elle m\\'entendait chanter et elle me disait \"Jamais tu seras dans la musique, toi !\"  A1']\n",
            "[\"Mais, à partir de ce moment, elle n'écouta plus ; et le choeur des conviés, la scène d'Ashton et de son valet, le grand duo en ré majeur, tout passa pour elle dans l'éloignement, comme si les instruments fussent devenus moins sonores et les personnages plus reculés ; elle se rappelait les parties de cartes chez le pharmacien, et la promenade chez la nourrice, les lectures sous la tonnelle, les tête-à-tête au coin du feu, tout ce pauvre amour si calme et si long, si discret, si tendre, et qu'elle avait oublié cependant.  C2\"]\n",
            "[\"A 59 ans, cet ex-chef d'entreprise enchaîne les missions dans le domaine de la logistique.  C1\"]\n",
            "[\"L'opinion se convainc de l'inanité du bellicisme.  C1\"]\n",
            "['Soyons sérieux  C1']\n",
            "['D\\'ici là, \"l\\'infosphère\" continuera son expansion vertigineuse ; la masse de connaissances double déjà tous les deux ans.  C1']\n",
            "[\"Dans d'autres cas il s'agit de limites relatives, basées sur un taux de croissance démographique de référence, valables là aussi uniquement hors centres ou pondérées en fonction du degré de centralité.  C2\"]\n",
            "[\"S'il existe des dizaines de variantes à cette recette, le chef Gérard- Michel Corbin nous propose d'y apporter lui aussi sa touche personnelle  B2\"]\n",
            "['Pour courir le moins de risques possible, il chargea le bon abbé Blanès, curé de Grianta, de faire continuera Fabrice ses études en latin.  C1']\n",
            "[\"De plus, ce dernier doit apprendre à bien tenir son chien pour permettre à l'animal de bien le conduire.  B1\"]\n",
            "[\"Non, dit l'un de ces messieurs, nous vous demandons si vous n'aimez pas tendrement le roi des Bulgares.  B1\"]\n",
            "[\"Merci Marco, c'est très gentil !  A1\"]\n",
            "[\"On avait apporté le rôti, des perdreaux flanqués de cailles, puis des petits pois, puis une terrine de foie gras accompagnée d'une salade aux feuilles dentelées, emplissant comme une mousse verte un grand saladier en forme de cuvette.  C2\"]\n",
            "['Il prend le bus tous les soirs.  A1']\n",
            "[\"Ce n'est vraiment pas simple de transmettre sa langue lorsqu'on n'est pas dans son pays d'origine !  B1\"]\n",
            "[\"Quand tu eus appelé à l'aide, ils vinrent nous porter secours  B1\"]\n",
            "[\"Dès sa création, le travail possède cette dimension pénible et négative liée au seul fait qu'il s'agit d'une action dictée par l'extérieur et qui pèse sur l'être humain Que ce soit dans les religions monothéistes ou polythéistes le travail possède, dans les récits, la caractéristique de n'être pas naturel chez l'Homme, et donc d'être imposé par un élément externe  C2\"]\n",
            "['Bruno Boulianne et la petite Lila plantent des graines de fines herbes.  C2']\n",
            "[\"Enfin, vous signerez avec votre certificat électronique l'ensemble de ces éléments avant de cliquer sur envoi .  B2\"]\n",
            "['Elle allait vers le sud où il faisait moins froid.  B2']\n",
            "['La huitième édition sera la bonne  A1']\n",
            "[\"Évaluant l'intérêt croissant porté à son récit, l'homme de Barbès sirotait une tasse de thé, étalait son sourire édenté et continuait, d'une voix encore plus vive.  C2\"]\n",
            "['Ce rendez-vous des gourmands et des passionnés de chocolat a lieu tous les ans entre fin octobre et début novembre à Paris  B2']\n",
            "[\"Le seuil de douleur est à environ 120 dB, mais l'oreille est vulnérable dès le seuil de 90 dB avec une écoute de plusieurs heures.  B2\"]\n",
            "['Vous avez 10 minutes pour faire le test.  A1']\n",
            "['Dans la Caraïbe, la saison des cyclones commence en juin et dure environ six mois  C1']\n",
            "[\"C'est pratique, je veux dire, le moment de convalescence, vous portez un masque, donc de toute façon en règle générale ça ne se voit pas  A2\"]\n",
            "[\"Je suis malade, je reste dans mon lit aujourd'hui.  A2\"]\n",
            "[\"Depuis 1975 l'établissement public a protégé quoi, à peu près 10% du linéaire côtier du béton.  C1\"]\n",
            "['Chaque miette de vie doit servir à conquérir la dignité.  C1']\n",
            "[\"Comme il ne pouvait pas sortir, il s'enveloppa dans son manteau, se coucha à terre, et dormit comme les serpents.  B1\"]\n",
            "[\"Ils ne se parlent plus depuis qu'ils se sont disputés.  C1\"]\n",
            "['La vie en France est très différente de celle au Canada.  B1']\n",
            "['Ils ont pris une pizza  A2']\n",
            "['Considéré dès sa naissance comme un fils à part entière par son père, il ne fut cependant jamais légitimé.  C2']\n",
            "['Des mesures vont être prises par le ministre de la santé oublique  B2']\n",
            "['Vous devez habiter dans le centre de Limoges ou avoir une voiture.  A2']\n",
            "['On en trouve des exemples dans l\\'ouvrage \"L\\'informatique sans ordinateur\", disponible gratuitement, qui propose un catalogue d\\'exercices et d\\'activités d\\'éveil débranchées à partir du primaire.  C2']\n",
            "['Salut!  A1']\n",
            "['Les oncles, les grands-parents, les cousins, cette année toute la famille se rassemble afin de fêter Noël comme il se doit  B1']\n",
            "['Outre les économies substantielles que permet une telle collaboration, les entreprises bénéficient désormais de jeunes formés à leurs besoins spécifiques.  B2']\n",
            "[\"D'après Marx, les Hommes qui font du travail une contrainte sont ceux qui produisent les objets du désir des Hommes  C2\"]\n",
            "[\"La trap, ça reste du rap, c'est juste un petit dérivé  A1\"]\n",
            "[\"J'ai souscris un abonement hebdomadaire à un magazine de cuisine.  B1\"]\n",
            "[\"Vous voulez écouter d'autres histoires de Noël ?  A2\"]\n",
            "[\"Je m'appelle Jessica. Je suis une fille, je suis française et j'ai treize ans.  A2\"]\n",
            "['Il avait marché brûlant, imprudent et damné, ses paupières frémissant sur ses épaisses prunelles, noires de la douleur d\\'une participation qui devait, quatre siècles plus tard, faire de lui une victime lorsqu\\'il sentit dans sa propre gorge l\\'écho du cri qui avait couru jadis sur la Piazza Montanara : \"Roba Vecchia !\" - la dégradation au prix de laquelle les siens avaient survécu.  C2']\n",
            "[\"Eus-tu sorti les abats congelés du frigo hier soir afin qu'ils soient à température ambiantes pour le repas de ce midi ?  A2\"]\n",
            "['À la radio, le journaliste a conservé les intonations de son Pays basque natal dans le Sud de la France.  B1']\n",
            "['Oui, prenons-en pour le trajet!  B1']\n",
            "[\"Mais si, ça me fait plaisir d'aller à Bâle avec vous.  B1\"]\n",
            "['Il y aura bientôt une salle de consommation à moindre risque pour les toxicomanes  A1']\n",
            "[\"Si l'épicerie de quartier avait été ouverte en ce jour congé, comme indiqué sur le panneau informatif nous aurions acheté du lait et du sirop d'érable pour préparer du pain perdu aux enfants.  B2\"]\n",
            "['Les horaires de travail sont parfois décalés en fonction de la nature et de la disponibilité des publics contactés (le soir par exemple).  C1']\n",
            "[\"Le montant des dépenses électorales est plafonné, sous réserve d'aménagements pour les circonscriptions particulières.  C2\"]\n",
            "['Je recherche une personne pour garder mes enfants de 1 et 7 ans.  A2']\n",
            "['Je suis bien arrivé à Londres  A2']\n",
            "[\"Aussitôt installés derrière nos pupitres, nous commençâmes la discussion thématique inscrite à l'ordre du jour.  B2\"]\n",
            "['Avant, je me disais que ma vie était une tragédie.  A2']\n",
            "[\"Le travail d'Alain Reynaud sur la Chine des Zhou orientaux, où l'on comprend que l'unification du monde des Han découle de la configuration géographique des principautés et de leur situation dans l'ensemble des sociétés de l'Eurasie orientale, peut être considéré comme la première oeuvre de cette géohistoire postbraudélienne.  C2\"]\n",
            "[\"D'autre part les pays détenant une partie de la forêt tropicale en font une source de revenus optimale à court terme.  B2\"]\n",
            "[\"Evoquant les conditions d'examen concomitantes au Sénat du présent projet de loi et des projets de loi relatifs à la limitation du cumul des mandats, il s'est élevé contre le choix du Sénat de lier, par le biais d'un marchandage choquant, sa décision de rétablir un seuil de 3 500 habitants pour l'application aux conseillers municipaux de la limitation du cumul des mandats, avec celle, prise par l'Assemblée nationale, dans le projet sur la parité, d'abaisser à 2 000 habitants le seuil à partir duquel les élections municipales auraient lieu au scrutin de liste majoritaire à deux tours.  C1\"]\n",
            "[\"L'Auberge du Presbytère nous attendait, chambre des vicaires  C2\"]\n",
            "['Finies mes journées tranquilles  A1']\n",
            "[\"Cela est, selon moi, d'une valeur inestimable sur le plan du développement culturel, intellectuel et même moral de l'enfant  B2\"]\n",
            "[\"Pourtant, les conséquences de la mise en place de telles pratiques de gestion permettent de s'interroger sur les raisons véritables qui poussent une entreprise à évaluer ses connaissances  C1\"]\n",
            "[\"Le verbe d'Adnane était entièrement vacciné contre les mots omniprésents de la langue de bois de l'époque, comme s'il avait des oreilles-passoires filtrant les mots des médias et des haut-parleurs plantés sur chaque quartier.  C1\"]\n",
            "[\"Mais, tout comme l'uploading du cerveau peut être considéré comme un archétype nous permettant de penser l'identité numérique, les rêveries de la nanotechnologie moléculaire apparaissent comme l'horizon lointain des recherches d'aujourd'hui.  C2\"]\n",
            "['À chaque respiration elle sentait la fumée entrer dans ses poumons, tel un insidieux poison.  B1']\n",
            "['Puis-je utiliser les toilettes?  A2']\n",
            "[\"Se reconvertir, mode d'emploi, les deux auteures donnent des indices.  C2\"]\n",
            "['Mais le weekend, nous nous levons tous les deux à neuf heures.  A1']\n",
            "[\"La journée n'est pas fini pour Théo qui doit rentrer à la maison pour faire ses devoirs  A2\"]\n",
            "['Régine Lemoine-Darthois et Elisabeth Weissman ont fait le même constat.  B2']\n",
            "['Aussi, les jeunes heureux réussissent à acheter leur autonomie et leur tranquillité par une réussite au lycée qui ne les dévore pas.  B2']\n",
            "[\"J'ai 18 ans.  A1\"]\n",
            "['Il hochait la tête doucement tout en regardant mon avion.  B1']\n",
            "['Le restaurant \"Bon appétit\" recherche des serveurs pour l\\'été.  B1']\n",
            "['Et ce soir, il peut prendre son temps car sa femme et ses enfants vont rentrer tard.  A2']\n",
            "['Le chef du gouvernement appelle à des élections.  B2']\n",
            "[\"Le travail permet en effet à l'Homme de se libérer d'aspects contraignant liés à l'existence humaine  C2\"]\n",
            "['ne te fais pas tuer.  A1']\n",
            "['Et bien, pourquoi pas ?  A1']\n",
            "['Ensuite, il se sèche très vite les cheveux pour aller manger son petit déjeuner.  A1']\n",
            "['Et le roman peut alors être acheté par de nombreux lecteurs  B2']\n",
            "[\"Quand j'écoute ma musique, il faut que je l'apprécie et c'est pour ça que je suis exigeant, je crois  A2\"]\n",
            "[\"Cependant une invincible timidité m'arrêtait : tous mes discours expiraient sur mes lèvres, ou se terminaient tout autrement que je ne l'avais projeté.  C2\"]\n",
            "[\"Un bruit qui se produit dans l'estomac quand on a faim.  C2\"]\n",
            "['Se précipiter avec violence sur une personne ou sur quelque chose.  B1']\n",
            "['Des crèches vivantes y sont organisées et la paroisse se prépare pour la messe de minuit  C2']\n",
            "[\"Et aussi grâce à la télévision parce qu'on regardait tous les soirs deux ou trois épisodes de mes séries préférées.  C2\"]\n",
            "['Les enfants et les ados de certains quartiers sont sous haute surveillance.  B2']\n",
            "[\"Alors, la fusée s'en va.  B1\"]\n",
            "['Nous crûmes longtemps que nos ancêtres eurent vécu une vie de rêve.  C2']\n",
            "['Il passe la matinée au Mucem qui est un musée récent et très connu  B1']\n",
            "['Nous sommes tous des planches lithographiques dont une infinité de copies se tirent par la médisance  C2']\n",
            "[\"Le précepteur Pangloss était l'oracle de la maison, et le petit Candide écoutait ses leçons avec toute la bonne foi de son âge et de son caractère.  C2\"]\n",
            "['Ensuite, je vais faire mes courses au supermarché où je vais acheter des fruits et des légumes  A1']\n",
            "['Il a participé à la construction du canal ?  C2']\n",
            "['Je lis un livre très intéressant !  A2']\n",
            "['Aussitôt que Julie eut découvert la vérité, elle fut furieuse  C2']\n",
            "['De délicieux petits beignets tendres et croustillants à la fois, une recette idéale pour voyager sous le soleil des tropiques  C2']\n",
            "[\"Une partie de l'énergie fournie pour se déplacer est transformée en chaleur.  B1\"]\n",
            "[\"Dans une grande salle au design épuré, ils sont une cinquantaine d'étudiants de 18 à 34 ans, les yeux rivés sur leur écran d'ordinateur.  C1\"]\n",
            "[\"Celles-ci n'influeront sur la recherche scientifique que vers le milieu du XVIIe siècle: et l'on peut, il me semble, attribuer au grand naturaliste Réaumur le mérite d'en avoir tiré les premières conséquences expérimentales dans ses recherches sur la prolongation de la vie chez les insectes.  C2\"]\n",
            "[\"Je m'appelle Bob, je suis médecin et j'ai 35 ans.  A2\"]\n",
            "[\"Trois applicatifs à long terme portent sur la conception d'une poche de perfusion, la sélection d'une bande de contention et l'optimisation d'ampoules injectables.  C2\"]\n",
            "['On va manger dans le jardin.  A2']\n",
            "['Ils ont chaud, donc ils profitent de la piscine du camping et de la mer pour se baigner.  C2']\n",
            "['\"Je les ai subis, et je les ai fait subir à mes enfants, jusqu\\'à ce que j\\'ose m\\'en affranchir, résume cet inventeur de produits plus ludiques  A2']\n",
            "['Comment a-t-il trouvé ce joli chemin ?  A2']\n",
            "['Elle cueillera les roses et elle les arrosera si nécessaire.  B1']\n",
            "[\"La poitrine désigne aussi les seins d'une femme.  B1\"]\n",
            "[\"Félix n'arrête pas de manger des bredele (des biscuits spéciaux d'ici). C'est vrai qu'ils sont très bons mais j'ai peur qu'il tombe malade.  B1\"]\n",
            "[\"Je viens d'emménager dans ma nouvelle maison  A2\"]\n",
            "['Comme un rappel du massacre des quelque 60 millions de bisons orchestré à la fin du XIXe siècle pour venir à bout des Peaux Rouges.  C1']\n",
            "['Elle est rapide.  A1']\n",
            "['Domi était très contente de découvrir ce monde magnifique.  A2']\n",
            "[\"Julie : pas avec la table, mais avec ceux de la table d'à côté ; ils parlent très fort.  A2\"]\n",
            "['Je suis contente, je vais voir Amélie  A2']\n",
            "['Elle était très religieuse, parce que la religion condamnait rigoureusement son genre de vie.  C2']\n",
            "[\"Enfin, elle s'est occupée du nouveau stagiaire et elle lui a expliqué le fonctionnement de l'entreprise ainsi que le règlement intérieur  B1\"]\n",
            "['Je mange souvent une salade ou un sandwich dans mon bureau.  B1']\n",
            "[\"On l'examinait avec intérêt et curiosité, comme un bel orage.  C2\"]\n",
            "[\"Finies les façades grises et ternes, terminée la morosité ambiante : les rues se parent de guirlandes scintillantes et les vitrines rivalisent d'imagination pour leur décoration.  B2\"]\n",
            "[\"Les enfants aiment faire du vélo avec leur grand-père après l'école.  A2\"]\n",
            "['Or Skype refuse de donner aux autorités policières les clés qui leur permettraient de décoder les conversations téléphoniques des suspects faites avec le logiciel.  C1']\n",
            "['Il y a une armoire ?  A1']\n",
            "[\"Le bac en poche, le premier d'entre eux choisit d'en faire son métier.  B1\"]\n",
            "[\"Éric va s'éloigner au fur à mesure d'Elsa, la mettant dans le doute, mais surtout en danger.  B1\"]\n",
            "[\"Mais, poursuit Bacon, la science se doit de surmonter ces craintes et ces scrupules: elle doit triompher du sentiment d'impuissance qui la paralyse.  C2\"]\n",
            "[\"Certaines entreprises refusent systématiquement les quinquas, s'insurge Danièle Lepeu, qui dirige l'agence seniors de la société de travail temporaire Adecco, à Boulogne-Billancourt.  C1\"]\n",
            "['La très grande majorité des jeunes Français pensent que le téléphone portable est synonyme de liberté.  B2']\n",
            "['Merci beaucoup pour cette histoire.  A2']\n",
            "[\"Faute de temps, nous n'avons pas pu visiter le musée d'art contemporain.  B1\"]\n",
            "[\"Elle a remis de l'ordre sur son bureau, elle a envoyé des fax et répondu au courrier  C2\"]\n",
            "['Idem pour les voies technologiques.  B2']\n",
            "['Votre lycée français organise chaque année une journée où les familles peuvent venir observer des cours.  A1']\n",
            "[\"Une dictature c'est quand les gens sont communistes, déjà.  B2\"]\n",
            "[\"Leur vue parut frapper si vivement l'adjudant sousofficier, qu'aussitôt il changea de pensée, et se mit à interroger aussi le domestique.  B2\"]\n",
            "[\"Je réponds toujours que ça n'a pas été difficile physiquement, mais que j'ai dû travailler sur l'image que donnait ce comique.  A2\"]\n",
            "['À mi-parcours, il doit souvent faire demi-tour.  B2']\n",
            "[\"Durant les années 1990, beaucoup de gens étaient réticent à cette nouvelle fête : Les parents et les enseignants n'y voyaient qu'une fête commerciale  B2\"]\n",
            "['Bruno Bonnell Le vieil adage \"on n\\'arrête pas le progrès\" n\\'a jamais été aussi vivace. D\\'autres pays s\\'équipent en robotique pour atteindre des taux de productivité supérieurs aux nôtres.  B1']\n",
            "[\"Le service des affaires socio-culturelles de l'Université  B2\"]\n",
            "['Pour les couples déjà installés, et notamment ceux avec enfants, le problème du partage des tâches domestiques est accentué par une proximité ininterrompue.  C2']\n",
            "['La météo pourrie inonde les réseaux sociaux  B2']\n",
            "[\"J'ai juré de dire la vérité sans concession au bon dieu.  A2\"]\n",
            "[\"Dans tous les cas, l'un des conjoints était belge, l'autre étant italien, marocain ou zaïrois.  C1\"]\n",
            "[\"Des coutumes similaires ont existé autrefois notamment dans le Finistère : les enfants s'amusaient à creuser des betteraves au moment de la Toussaint pour faire peur aux gens du voisinage  C2\"]\n",
            "[\"Et effectivement dans les zones sinistrées, c'est l'heure du bilan  C1\"]\n",
            "['Malheureusement, une semaine est vite passée et nous serons bientôt de retour à Paris.  A1']\n",
            "[\"C'est comme ça qu'est née l'association Éco Cocotte  A1\"]\n",
            "['Nous avons commencé un nouveau cours  A1']\n",
            "[\"Nos prophéties disent que tant qu'il y aura des bisons sauvages, nous survivrons.  C2\"]\n",
            "[\"Bien sûr, il ne s'agit pas de travailler mais bien de participer et les séjours sont aussi organisés de manière à se faire plaisir.  B1\"]\n",
            "['Tu as réussi ton examen de maths ?  A1']\n",
            "[\"Elle peut donc ouvrir d'autres réflexions et finalement devenir très enrichissante.  B1\"]\n",
            "[\"Puis, quand ils eurent dépassé le bûcheron, celui-ci les rappela pour leur demander s'ils souhaitaient un cheval.  C2\"]\n",
            "['Dans le centre de la ville, il y a un très joli quartier, plein de magasins chics et de bons restaurants  B1']\n",
            "[\"S'il fait beau, l'après-midi vous pouvez aller au jardin du Luxembourg et, le soir vous pouvez faire un tour en bateau jusqu'à la Tour Eiffel.  A1\"]\n",
            "[\"À l'aise devant la vie, séduisant, nonchalant, souriant, au-dessus des mesquineries et des jalousies, impavide devant l'hypocrisie, la discourtoisie, la vulgarité d'âme.  C2\"]\n",
            "['Et, en France, beaucoup moins de filles que de garçons vont choisir la voie des sciences dites dures , parmi lesquelles les mathématiques.  B2']\n",
            "['Je ne comprends pas.  A2']\n",
            "['Des enfants en choeur : Des petits pois avec de la salade !  C2']\n",
            "['Depuis la salle panoramique de ce restaurant, la vue sur la ville est magnifique.  B1']\n",
            "['Elle a 20 ans  A1']\n",
            "[\"J'ai fait un aprèm chill, en mode lecture, chat et canapé.  B1\"]\n",
            "['Je peux voir le docteur le matin  A1']\n",
            "[\"J'ai mangé un hamburger et des frites.  A1\"]\n",
            "['Il porte aussi des lunettes rouges  A1']\n",
            "['Ensuite, on ira au cinéma du quartier qui organise tous les ans des séances spéciales  C1']\n",
            "['Je te propose un rendez-vous à 20 heures au bar  A1']\n",
            "[\"Bon résultat de l'économie française ce mois-ci, plus quatre pour cent  C1\"]\n",
            "[\"Ce n'était pas le cas il y a cent ans, et c'est très bien.  A1\"]\n",
            "['Si le député avait respecté les électeurs, il aurait démissionné.  B2']\n",
            "[\"J'ai raccroché et j'ai ri.  A2\"]\n",
            "['Il avait une de ces pâleurs splendides qui donnent quelque chose de la majesté des marbres aux races ardentes du Midi.  C2']\n",
            "['Se sentant lésée, elle veut déposer une plainte contre la direction.  C1']\n",
            "[\"Ceux qui, même adultes, apprennent le breton ou l'apprennent à leurs enfants, sont dignes d'admiration  B2\"]\n",
            "[\"L'ascenseur est en panne.  A1\"]\n",
            "['Ils ne connaissaient des contrées voisines que ce que leur révélaient les visites rares de voyageurs égarés ou de hardis marchands, et ne désiraient pas en connaître davantage, leur sol étant fécond et suffisant à leurs besoins.  B2']\n",
            "[\"Débuter la journée par un premier repas organisé autour d'une de ces boissons dopantes que l'on sucre preut sembler passablement anecdotique.  C1\"]\n",
            "[\"C'est quelqu'un sur qui vous pouvez compter, vous pouvez vous fier à lui.  A1\"]\n",
            "[\"Les journalistes ont mis la vérité au grand jour sur l'affaire des déchets radioactifs.  B2\"]\n",
            "[\"Toutes ses velléités de dénigrement s'évanouissaient sous la poésie du rôle qui l'envahissait, et, entraînée vers l'homme par l'illusion du personnage, elle tâcha de se figurer sa vie, cette vie rétentissante, extraordinaire, splendide, et qu'elle aurait pu mener cependant, si le hasard l'avait voulu.  C2\"]\n",
            "['En mode Scénario Bombe, les terroristes doivent poser une bombe et la faire exploser ou bien éliminer la totalité des antiterroristes.  C2']\n",
            "[\"Qu'est ce que vous faites dans le parc?  A1\"]\n",
            "[\"C'est son cas.  B1\"]\n",
            "[\"Il l'avait tenue là sévèrement enfermée, cloîtrée, ignorée et ignorante des choses humaines.  C2\"]\n",
            "[\"La seconde modernité y adjoint un individualisme plus concret qui valorise la construction des identités de chacun et de chacune, puisque l'émancipation des femmes ressortit de cette période.  C2\"]\n",
            "['Je fais du sport tous les jours.  A2']\n",
            "['Mon second copain fit des études de commerce.  C2']\n",
            "['Ouais !  A1']\n",
            "['Non, bien sûr que non.  A1']\n",
            "[\"Alors qu'ils représentent 20 % de la population, les retraités forment déjà 30 % des électeurs.  B2\"]\n",
            "[\"Qu'est-ce que je vous sers, mesdemoiselles ?  A2\"]\n",
            "[\"Mes souvenirs reparurent, d'abord confus, bientôt plus vifs.  A1\"]\n",
            "['Comme il faisait très beau, nous nous sommes promenés le long de la Seine  B1']\n",
            "['Il y a deux trains pour Lille le matin  A1']\n",
            "[\"J'ai soif.  A1\"]\n",
            "['En fin de scolarité, les garçons ont de meilleurs résultats aux exercices faisant appel à la réflexion.  B2']\n",
            "['A ce titre, la commune a engagé une procédure de classement en site patrimonial remarquable.  C1']\n",
            "[\"A cause de la pollution, j'ai le cancer des poumons.  B1\"]\n",
            "[\"Celui-ci se hisse, en effet, au quatrième rang mondial du marché noir, derrière les stupéfiants, la contrefaçon et le trafic d'êtres humains.  C1\"]\n",
            "[\"Qu'est-ce que vous faites le soir ?  A1\"]\n",
            "['Avec les prévisions météo, on peut savoir quel temps il fera le soir, le lendemain ou dans la semaine  B1']\n",
            "['Habitant dans la même région, ils vont souvent boire un verre en ville  B1']\n",
            "['Je suis dans ma chambre.  A2']\n",
            "[\"Les premiers jours, nous ne lui avons rien dit et elle n'a parlé à personne.  B1\"]\n",
            "[\"J'aimerais vous présenter un nouveau collègue, Jacques Servat qui arrive de Madrid où il vient de passer cinq ans dans un grand groupe d'ameublement au poste de chef d'équipe des commerciaux.  B1\"]\n",
            "[\"En province, les centres d'administration laïque ou cléricale, les sièges de parlements groupent des ecclésiastiques et des laïques instruits en nombre considérable, ils copient les salons et créent des centres locaux, lieux d'échange des idées.  C2\"]\n",
            "[\"Mon amourpropre s'y mêlait.  A2\"]\n",
            "[\"Même si on adore un livre, il faut, je pense, accepter que certains passages du livre soient coupés ou modifiés, car le travail d'écriture est complètement différent du travail d'adaptation cinématographique.  B1\"]\n",
            "['Il est assez calme.  A1']\n",
            "[\"J'ai oublié de vous dire : elle s'appelle Sarah.  A1\"]\n",
            "['Il est peut-être chez moi.  A1']\n",
            "[\"Le bras est relié au tronc par l'épaule et à l'avant-bras par le coude  C1\"]\n",
            "[\"J'ai 23 ans, je parle chinois, j'aime la lecture !  A1\"]\n",
            "['Un petit garçon : On essaye de leur parler  A2']\n",
            "[\"Les cinq confédérations syndicales, l'épiscopat, la Fédération protestante de France, les petits patrons de la CGPME, les artisans de l'UPA, les députés socialistes et une soixantaine de leurs collègues de l'UMP: tous sont montés au créneau pour dire non à la proposition de loi d'extension du travail dominical.  C2\"]\n",
            "[\"La première critique consistera à remarquer que Lafcadio fait reposer son passage à l'acte sur des signes extérieurs, en l'occurrence l'apparition ou la non apparition d'un feu dans la campagne  C2\"]\n",
            "[\"Il existe une théorie sur l'attrait exercé par la courbe féminine sur l'homme, et cette théorie est qu'une femme callipyge signale.  C2\"]\n",
            "[\"Au début, l'Homme est un être naturel comme les animaux, or il est aussi naturellement démuni face aux autres car le frère de Prométhée, Epiméthée, omet de le doter d'une capacité qui lui permettrait de survivre  C2\"]\n",
            "['Là-bas tout le monde parle anglais  A1']\n",
            "['Le soir venu, il faut rentrer en prenant le même chemin que le matin  A2']\n",
            "[\"Certains, juchés sur le toit ou l'aile, refusaient de descendre.  C2\"]\n",
            "[\"J'ai une soeur  A1\"]\n",
            "[\"Ainsi, Pierre a le privilège d'admirer chaque jour l'un des monuments les plus visités au monde  B1\"]\n",
            "[\"Un beau jour, il apprit que Sa Majesté avait daigné accepter gracieusement la démission qu'il donnait de son emploi dans l'administration, et en même temps lui conférait la place de second grand majordome major du royaume lombardo-vénitien.  C2\"]\n",
            "['Ils faisaient une grande fête à chaque année.  A2']\n",
            "[\"Pas question d'être 13 à table, ça porterait malheur  A1\"]\n",
            "[\"L'analyse des valeurs de l'indice de consolidation institutionnelle montre également le caractère très fragmenté du maillage communal suisse en comparaison européenne.  C1\"]\n",
            "[\"Si j'étais plus attirante, tous les garçons tomberaient raide dingues de mon charme envoutant.  B1\"]\n",
            "[\"Je leur donnai le bijou seulement après qu'ils l'eurent payé.  C2\"]\n",
            "[\"J'en conclus que les Réalistes de talent devraient s'appeler plutôt des Illusionnistes.  C2\"]\n",
            "['Nous allons bien, nous habitons dans une petite maison ancienne avec un très beau jardin  A1']\n",
            "[\"Dans la tribu, on n'aime pas les enfants sans père, on dit que ce sont les enfants des mauvais esprits.  B1\"]\n",
            "[\"Mais c'est tout.  A1\"]\n",
            "[\"Quand ils s'approchent trop près de la tribu, les femmes leur jettent des pierres et les hommes les chassent.  C2\"]\n",
            "[\"J'eus de nombreuses maladies infectieuses et je dus garder le lit durant des semaines en isolement total sans l'ombre d'un espoir.  C1\"]\n",
            "['Vous regardez la télévision.  A1']\n",
            "[\"A l'intérieur de ma maison, il y a un grand salon avec une table et quatre chaises pour accueillir mes amis.  A2\"]\n",
            "['Cet auteur tellement lu pour sa Grammaire impertinente propose aussi. des Jeux pour lire vite (Retz)  C2']\n",
            "['Chaque organe doit trouver sa place en fonction de critères différents comme le centre de gravité.  C1']\n",
            "[\"Quand il parcourait à cheval les plaines de son royaume, vêtu seulement de grègues en cuir et d'un manteau de laine qui flottait au vent, les femmes et les jeunes filles le regardaient passer en retenant leur souffle.  B2\"]\n",
            "['On doit toujours écouter ses parents  A2']\n",
            "['Le jour de Pâques est le jour de la résurrection du Christ  A2']\n",
            "[\"Maintenant que je le connais, je n'ai plus peur !  A2\"]\n",
            "[\"Il s'agit d'un processus volontaire et tourné vers l'avenir, qui permet aux deux parties de trouver une issue, leur issue.  B2\"]\n",
            "[\"Il était équipé, alors, d'un moteur à vapeur entraînant la roue arrière et de pédales agissant sur la roue avant.  C2\"]\n",
            "[\"Perpétuel clandestin, c'est muni d'un faux titre de séjour, photocopie de la carte de résident d'un copain-complice, qu'il avait ensuite sillonné l'Hexagone, au bon vouloir d'employeurs peu scrupuleux.  B1\"]\n",
            "[\"C'est pourquoi, il décida de remplacer les habi-tuelles portes automatiques par des portiers en superbe livrée, ce qui donna un caractère très luxueux à cet aéro-port.  C2\"]\n",
            "['Je préfère un autre bijou.  A2']\n",
            "['Le départ est le seul horizon offert à ceux qui cherchent les mille écrins où le destin cache les solutions de ses mille erreurs.  C1']\n",
            "[\"Car là où elle est appliquée, cette indemnité a produit d'excellents résultats.  A1\"]\n",
            "['Comme le signale l\\'expression \"lingua franca\", le français a été pendant très longtemps la langue internationale, eu égard à notre rayonnement politique aussi bien que culturel  B1']\n",
            "[\"Les périodes favorables entre 3 et 4 ans et 10 et 13 ans, la capacité d'apprentissage des langues est la plus forte  C1\"]\n",
            "['Si vous me dites où vous avez passé l\\'hiver, je vous donnerai une grande somme d\\'argent.\"  B1']\n",
            "['Ses idées semblaient se faire jour à travers les obstacles, et sortir de cette lutte plus agréables, plus naïves et plus neuves ; car les idiomes étrangers rajeunissent les pensées, et les débarrassent de ces tournures qui les font paraître tour à tour communes et affectées.  C2']\n",
            "[\"Elle voulut parler : je lui demandai de m'écouter.  A2\"]\n",
            "[\"Richard Castelli Les machines robots ou non remplacent déjà beaucoup d'humains, mais on a oublié que c'étaient eux qui effectuaient ces travaux auparavant.  C2\"]\n",
            "[\"Un samedi sur deux, les étudiants de l'école de journalisme organisent des discussions dans le café internet du centre.  C2\"]\n",
            "[\"Il est alors témoin d'un spectacle étonnant.  A1\"]\n",
            "[\"Sans y penser, j'ai fait des erreurs !  B1\"]\n",
            "[\"Les papy-boomers sont individualistes, ce sont d'ailleurs eux qui ont mis en vogue le concept.  B2\"]\n",
            "['Le danseur est un sportif de haut niveau, en effet les danseurs sont des athlètes qui doivent avoir un entraînement quotidien.  C1']\n",
            "['Les deux veuves se souvinrent avec mélancolie de leurs jeunes années.  C2']\n",
            "[\"L'on vécut ainsi pendant l'hiver de 1814 à 1815.  B1\"]\n",
            "[\"Aujourd'hui, j'ai mangé une mousse au chocolat parce que je ne suis pas à la diète.  A2\"]\n",
            "[\"Mes amis américains me disent que je m'exprime sans accent  B1\"]\n",
            "['La vie en France est très différente de celle au Canada. Ici, il fait toujours chaud.  B1']\n",
            "['Le conducteur, appelé cyclomotoriste, motard ou motocycliste, y est assis à califourchon sur la selle, les mains tiennent le guidon et les pieds sont sur des repose-pieds.  C2']\n",
            "['Où est-ce que vous allez Madame ?  A1']\n",
            "['Elle présente un style très cohérent, car elle a été construite assez rapidement.  B1']\n",
            "[\"Il y a beaucoup de désordre dans l'appartement.  B1\"]\n",
            "[\"J'ai une arme, et toi non.  A2\"]\n",
            "[\"Ainsi, une grande partie des espèces végétales ou animales en péril ne sont connues à l'heure actuelle que par certains peuples, dont les langues s'éteignent.  C2\"]\n",
            "['Nous sommes au Théâtre de la Jeunesse à Hanoï pour une soirée \"Cabaret des artistes\".  B2']\n",
            "['Cette femme mourut seule et misérable.  B1']\n",
            "['Cette réponse me bouleversa.  C2']\n",
            "['Ainsi, Madame, qui est irlandaise et vit à lieu, témoigne : \"En France, si je parle anglais à mon fils, il me répond plutôt en français.  B1']\n",
            "[\"Ils l'appelaient tous monseigneur, et ils riaient quand il faisait des contes.  B1\"]\n",
            "['Ancien sénateur pendant plus de 35 ans, le démocrate se targue de connaître la maison et de vouloir chercher des accords entre partis au Congrès.  B2']\n",
            "[\"D'abord, les produits fabriqués en France sont en moyenne 30 pour cent plus chers que les autres  B1\"]\n",
            "[\"Tout petit, quand j'étais malade, eh bien, on mettait Blanche Neige dans mon lit pour m'endormir le soir.  A2\"]\n",
            "['La raison invoquée : la mise en péril du mode de vie ancestral du peuple Inuit, du fait des changements climatiques provoqués par les activités humaines.  C2']\n",
            "['Il suffit de rester 30 minutes dans la cabine LIRVA pour être capable de se débrouiller dans toutes les situations de la vie quotidienne et dans la langue de son choix.  C2']\n",
            "['Le repos absolu produit le spleen.  C2']\n",
            "[\"J'espère que tu vas bien et que tes vacances au ski se passent bien aussi  A2\"]\n",
            "[\"S'il était à l'origine destiné à surveiller le bétail, il est doux avec les enfants.  B1\"]\n",
            "['À 40 ans, il est usé.  A1']\n",
            "[\"Elles étaient très amies mais l'une des deux est partie en Suède.  B2\"]\n",
            "['Je profite aussi du petit déjeuner pour lire les infos en ligne  A1']\n",
            "['Je voudrais bien construire les bâtiments les plus hauts du monde.  B1']\n",
            "[\"Ce triomphe, dont le marquis jouissait avec une insolence rare, ne dura que quelques mois, et fut suivi d'un revers humiliant.  C2\"]\n",
            "['Vous avez des enfants ?  A1']\n",
            "[\"Ce mémoire concerne l'étude de la retrocycloaddition d'oxazolidines conduisant a l'espece reactive ylure d'azomethine.  B2\"]\n",
            "['Il a trouvé un copain.  A2']\n",
            "[\"C'est loin de Paris ça !  A1\"]\n",
            "['Il faut prendre la mesure de ces bouleversements pour repenser les contenus scolaires, les manières de les enseigner et de les apprendre.  B2']\n",
            "['Tu ne comprends pas.  A1']\n",
            "[\"Le soir, je regarde la télé jusqu'à 11 heures.  A1\"]\n",
            "[\"Perrette, retenant sa respiration tellement était forte l'odeur nauséabonde d'huile de vidange, dans la chambre-garage.  C1\"]\n",
            "[\"À l'ère de l'Internet des Objets, les maisons intelligentes sont de plus en plus équipés d'objets connectés, dont les implications sur la vie privée restent largement inconnues des utilisateurs finaux.  C2\"]\n",
            "['Peut-on évoquer des sujets sérieux avec un accent du Sud de la France ?  B1']\n",
            "['En ces temps où un virus soumet nos existences, déjoue nos projets, crée partout un climat d\\'incertitude, le hasard a voulu que je trouve quelque lumière dans les pages de Pascal sur la \"disproportion de l\\'homme\" (Pensées, Brunschvicg, 72), ce texte que chacun a lu une fois dans sa jeunesse, jamais médité depuis : \"Voilà où nous mènent les connaissances naturelles.  C2']\n",
            "['Il peut survenir à toute heure, mais de préférence quand un petit rayon de soleil réchauffe votre ordinateur.  A2']\n",
            "[\"Et toi, qu'est-ce que tu as prévu pendant les vacances ?  A1\"]\n",
            "['Tu es très sympa.  A1']\n",
            "[\"Environ 2 300 enseignants et chercheurs ainsi que 950 collaborateurs administratifs et techniques assurent la bonne marche de l'institution qui compte plus de 14 000 étudiants provenant de plus de 86 pays.  C1\"]\n",
            "[\"Je dois aller au bureau trois fois par semaine parce que j'ai des réunions pour déjeuner avec des clients  A2\"]\n",
            "['La société SpaceX conçoit, construit et commercialise les lanceurs Falcon 9, les moteurs Merlin qui les propulsent ainsi que le vaisseau cargo Dragon et sa version habitée, le Crew Dragon.  C2']\n",
            "[\"Lorsqu'un cinéaste adapte un livre au cinéma, il donne sa propre vision de ce livre.  C1\"]\n",
            "[\"Ils rentrèrent au pays après qu'ils eurent vécu en Europe  C2\"]\n",
            "[\"250 nouveaux talents seront sur le marché du travail d'ici la fin de l'année.  B1\"]\n",
            "[\"Ce processus d'homogénéisation s'est renforcé avec l'industrialisation et le progrès scientifique, qui ont imposé de nouveaux modes de communication, rapides, simples et pratiques.  C2\"]\n",
            "[\"C'était une pièce vide et triste ; aux parois lépreuses des murs s'effiloquaient des débris d'affiches officielles  C2\"]\n",
            "['Une langue qui n\\'est pas employée sur Internet \"n\\'existe plus\" dans le monde moderne.  B1']\n",
            "[\"Pour l'économiste Jeremy Rifkin, dont le livre La Fin du Travail suscita un large débat, le travail est sur la pente d'un inexorable déclin.  B1\"]\n",
            "[\"Je me contenais à peine lorsqu'un autre que moi s'entretenait à part avec Ellénore ; j'interrompais brusquement ces entretiens.  C2\"]\n",
            "[\"Passionnée par l'histoire des civilisations disparues, elle veut être archéologue.  C1\"]\n",
            "[\"Où est-ce que tu travaillais avant d'être avec nous ici ?  A1\"]\n",
            "[\"Ces enfants s'étaient procuré quelques petites clefs, et quand la nuit était bien noire, ils essayaient d'ouvrir les cadenas de ces chaînes qui attachent les bateaux à quelque grosse pierre ou à quelque arbre voisin du rivage.  C2\"]\n",
            "['Un journaliste de Art Press a interviewé Agathe sur la performance dans laquelle elle a participé.  C2']\n",
            "[\"L'artiste peignit un paysage qu'il eut vu  C2\"]\n",
            "[\"Quand le téléphone retentissait, on s'empressait de répondre immédiatement.  B2\"]\n",
            "['Walter White est professeur de chimie dans un lycée, et vit avec son fils handicapé moteur et sa femme enceinte à Albuquerque, au Nouveau-Mexique.  C1']\n",
            "[\"Nous avions l'intention d'appeler ce journal Changer de vie, révèle sa fondatrice.  A1\"]\n",
            "[\"Je saute et vous n'aurez jamais les plans !  B1\"]\n",
            "['Quand vous disposez de tous vos fichiers numérisés, vous pouvez effectuer la formalité en ligne en remplissant le formulaire interactif que vous validerez en fin de saisie.  B1']\n",
            "['Dans le centre de la ville, il y a un très joli quartier, plein de magasins chics et de bons restaurants. Pour se déplacer, il y a des bus, des vélos et un métro.  B1']\n",
            "[\"J'adore ça.  A1\"]\n",
            "[\"Au sein du gouvernement français, rares sont ceux qui peuvent afficher sur leur CV ne serait-ce qu'une année à la fac!  B2\"]\n",
            "['La marche était cassée et je suis tombé par terre.  A2']\n",
            "[\"Quelle est la plus belle qualité de la femme d'Azaël ?  A1\"]\n",
            "['Peux-tu parler plus lentement?  A1']\n",
            "[\"Nous comprenons qu'une partie du personnel soit mécontente et méfiante mais nous prendrons toutes les mesures pour éviter que cela nuise au personnel et à notre image de marque.  B2\"]\n",
            "[\"Il sut comment poursuivre dans les prés les poulains à demi sauvages, comment les approcher en secret, les surprendre d'un saut et les maintenir par force, les par la fatigue.  C2\"]\n",
            "[\"Son accent est si naturel que cela n'a posé aucun problème.  B1\"]\n",
            "['Il sait écrire son nom.  A2']\n",
            "['Ils sont pas chers  A1']\n",
            "[\"S'obstiner à acheter 100 pour cent français reviendrait à vivre sans réfrigérateur, sans lave linge, sans smartphone, sans ordinateur. Autrement dit, les plus patriotes et les plus écolos devront soit mettre de l'eau dans leur vin soit revenir à un mode de vie d'un autre âge  C1\"]\n",
            "['Cette quête de l\\'altérité zonale laissa au milieu du XXe une marque géographique frappante : lorsque s\\'imposa l\\'idée de tiers-monde, il s\\'avéra que les pays sous-développés étaient alors très majoritairement situés dans la zone intertropicale, le \"Sud\".  C2']\n",
            "[\"L'originalité du mécanisme est d'utiliser des photons et de les convertir en énergie chimique qui se retrouve dans l'énergie de liaison des atomes de carbone et d'hydrogène dans les glucides formés.  C2\"]\n",
            "['Selon les familles, la soirée peut être animée par des lectures de contes horrifiques ou de poème évoquant Halloween.  C1']\n",
            "[\"Les importateurs s'engagent aussi à verser un acompte et à privilégier des relations commerciales durables avec les producteurs.  C1\"]\n",
            "['Je poursuivis longtemps de la sorte, levant toutes les objections, retournant de mille manières tous les raisonnements qui plaidaient en ma faveur.  C2']\n",
            "[\"C'est très simple !  A1\"]\n",
            "['Edgar, étincelant de furie, dominait tous les autres de sa voix plus claire.  C1']\n",
            "[\"Bruxelles est en droit de défendre les politiques qu'elle conduit.  A2\"]\n",
            "[\"Pour l'heure, l'isolement à l'improviste semble leur réussir : ils ont ouvert une bouteille de champagne pour fêter leur emménagement ensemble et en gardent une au frais pour célébrer la fin du confinement.  C2\"]\n",
            "['Est-ce que tu veux que je regarde avec toi ?  A1']\n",
            "[\"La chronologie antique ne prend sens que sur un large pourtour de la Méditerranée, de même que ce découpage spatial n'est pertinent comme entité géographique que durant cette période pendant laquelle la mer intérieure n'est pas vécue comme une limite.  C2\"]\n",
            "[\"C'est un fait inquiétant qu'on constate dans toutes les capitales européennes : les touristes séjournent de plus en plus dans des appartements loués sur des sites internet.  C2\"]\n",
            "['Je vous demanderai de tout lui montrer et de le seconder cette semaine.  B1']\n",
            "[\"Le domestique de Fabrice s'approcha avec les deux chevaux.  C1\"]\n",
            "['Un enseignement scolaire pour créer des liens entre les matières  C2']\n",
            "['Dans un premier temps, les locuteurs subissent une très forte pression - politique, sociale ou économique - pour parler la langue dominante.  C1']\n",
            "['Cette ribaude ricane et échafaude !  C2']\n",
            "[\"Je ne comprends rien à ce site d'achat en ligne !  A1\"]\n",
            "['Il parle italien et anglais  A1']\n",
            "['Les responsables européens sont dos au mur.  B2']\n",
            "['Mais la chute de Neera Tanden annonce les autres batailles plus rudes à venir au Sénat  B2']\n",
            "['Genre de plantes de la pentandrie trigynie et de la famille des portulacées, dont les caractères consistent : en un calice infundibuliforme, à limbe divisé en cinq parties.  C2']\n",
            "[\"C'est un petit appartement, sans beaucoup de confort, mais près du centre-ville.  A1\"]\n",
            "[\"Parce que la philosophie se trouve de plus en plus mobilisée en étendard face à un religieux invasif ou agressif, et parce qu'elle prend aujourd'hui les traits d'une quasi-religion laïque, un ouvrage comme celui de Pierre Bouretz brouille des pistes trop tracées.  C2\"]\n",
            "[\"Le brun, aussi appelé marron, est la couleur du café, de la terre et de l'écorce des arbres.  A1\"]\n",
            "[\"L'intervalle entre les deux séances est trop long.  C2\"]\n",
            "[\"On se revoit après que vous passez votre entretien dans l'entreprise.  B1\"]\n",
            "['Il a cinq heures de français par semaine.  A1']\n",
            "[\"Dans le cadre d'une recherche en sociolinguistique urbaine, s'intéressant aux parlers de jeunes en parcours d'insertion sociale et professionnelle, évoluant au sein de centres de formation, nous nous sommes interrogées sur la construction et l'hétérogénéité des interactions dans le cadre de situations de communication données, dont témoigne la diversité des corpus recueillis.  C2\"]\n",
            "[\"Kassák témoigne du lourd protocole d'admission aux asiles de nuit, lieux de charité recherchés, tant la perspective d'une nuit sans toit sur la tête est éprouvante, mais aussi craints pour les mauvais traitements qu'on y subit.  C2\"]\n",
            "[\"Débuter la journée par un premier repas organisé autour d'une de ces boissons dopantes que l'on sucre peut sembler passablement anecdotique.  C2\"]\n",
            "[\"Je prends congé aujourd'hui : je suis fatigué et j'ai besoin de repos.  A2\"]\n",
            "[\"Ce qu'elle taisait, c'était l'escapade amoureuse de Jean, des lettres écrites à une fillette noble de la ville, des baisers échangés pardessus un mur, tout un scandale qui l'avait déterminée au départ ; et elle accompagnait surtout son frère à Paris pour veiller sur lui, prise de terreurs maternelles, devant ce grand enfant si beau et si gai, que toutes les femmes adoraient.  C2\"]\n",
            "['Réponds-moi vite et fais ta réservation pour venir.  A1']\n",
            "[\"Par contre, les sports d'équipe comme le foot ou le basket, je n'aime pas du tout !  A2\"]\n",
            "['Pendant que les humains bavardaient, Mimi le caniche, Fido le berger allemand et moi, on se donnait les nouvelles du quartier et on reniflait les nouveaux arrivants  B1']\n",
            "[\"Personne n'a envie de vivre dans la rue.  B1\"]\n",
            "[\"Ces molécules organiques pouvaient être récoltées grâce à l'échantillon au sol (qui devait ensuite être réchauffé avant de pouvoir être analysé) mais pas seulement.  B2\"]\n",
            "[\"Les ordinateurs peuvent être classés selon plusieurs critères tels que le domaine d'application, la taille ou l'architecture.  C1\"]\n",
            "['Elle passe aussi à la boulangerie et elle achète une baguette toute chaude et des croissants pour le petit-déjeuner  A1']\n",
            "['Elle a dû faire beaucoup de rééducation mais elle est presque rétablie maintenant.  B1']\n",
            "['Nous avons reçu plusieurs plaintes à ce sujet.  A1']\n",
            "[\"Après quelques phrases banales, je lui parlai, en déguisant mon trouble, du départ subit d'Ellénore.  C2\"]\n",
            "['Les piscines partagées par exemple ou ce genre de chose, là je me suis dit, cet été, bof quoi.  B1']\n",
            "['Tout le contraire de moi.  A1']\n",
            "[\"Vous ne vous rendez pas compte, monsieur, j'ai douze ans et demi, et je n'ai rien fait.  B1\"]\n",
            "[\"Il n'y a qu'à observer la métamorphose des rues commerçantes pouren être convaincu.  C2\"]\n",
            "['Le serveur : Oui, ça commence dans quelques minutes !  A2']\n",
            "['En le voyant, vous comprendez mieux.  B1']\n",
            "[\"C'est pourquoi, il décida de remplacer les habituelles portes automatiques par des portiers en superbe livrée, ce qui donna un caractère très luxueux à cet aéroport.  C2\"]\n",
            "[\"Elle raconte leur quotidien à travers les enfants qu'elle a aussi aidés à faire leurs devoirs  A1\"]\n",
            "[\"La force des livres de Marie NDiaye réside dans la frontière indéterminée entre le réalisme et l'onirisme.  C1\"]\n",
            "[\"En kiosque depuis le 1er mars, le magazine Changer tout résume l'ambition de leur reconversion.  B2\"]\n",
            "[\"L'univers des francophones est un métissage unique et fertile  A1\"]\n",
            "['M. Aphatie a été le premier à animer une émission dite sérieuse à la radio puis à la télévision.  B1']\n",
            "['La compétence fiscale des communes est réduite car elle dépend du droit cantonal.  C2']\n",
            "[\"Si t'as trouvé le vidéo le fun, pense à aimer notre chaine YouTube et notre page Facebook  C1\"]\n",
            "[\"Pour que le rocher s'ouvre, il faut le toucher avec un brin d'herbe.  B1\"]\n",
            "[\"C'est un gentil bouledogue qui aime les câlins.  A1\"]\n",
            "[\"Or, le Code du travail stipule que pour pouvoir bénéficier d'un congé sabbatique, le salarié doit remplir une double condition d'ancienneté de trente-six mois, consécutifs ou non, dans l'entreprise et six années d'activité professionnelle antérieure  C1\"]\n",
            "['Un débat public et démocratique est donc nécessaire!  C1']\n",
            "[\"C'est l'instru - l'instrumental - qui va faire sortir les mots de ma tête, en fait  A2\"]\n",
            "[\"Quand l'homme de condition moyenne devient un grand personnage, les flatteries commencent à se terner et les médisances à fleurir  C2\"]\n",
            "['Il faut leur faciliter la tâche, quand même, dans les écarts, dans les rythmes.  C1']\n",
            "[\"Il faut aussi poser des questions sur le travail et les horaires de l'entreprise  C2\"]\n",
            "['Il a repris sa voiture et il est rentré chez lui pour boire son verre de vin blanc en prenant un bon bain bien chaud  B1']\n",
            "['Elle se retrouvait dans les lectures de sa jeunesse, en plein Walter Scott.  B2']\n",
            "[\"Grâce à un bienfaiteur, Julien a grandi dans une famille qui s'est occupée de lui et qui l'a éduqué.  C2\"]\n",
            "['Ma mère est allemande et est avocate  A1']\n",
            "['Les Cyanobactéries se distinguent des Bactéries par la présence de chlorophylle A et de pigments accessoires hydrosolubles, les phycobilines rouge et bleue.  C2']\n",
            "[\"La FAO (Organisation pour l'alimentation et l'agriculture) estime que 95 % des personnes victimes de sous-alimentation chronique vivent dans les pays en voie de développement.  C1\"]\n",
            "[\"Je m'appelle Laurent et j'habite à Paris avec mes parents, ma soeur ainée et mon frère.  A1\"]\n",
            "[\"J'aime la musique classique et le rock.  A1\"]\n",
            "[\"L'outil de travail, c'est le téléphone, avec lequel on fait tout : conseil, vente, suivi commercial mais surtout de la vente.  B1\"]\n",
            "[\"Quelques sermons de quelques hypocondriaques sont-ils à ce point, parvenus à déconcilier l'Algérien avec sa santé ?  C1\"]\n",
            "[\"Le quotidien Dallas Morning News a même sorti qu'il s'agissait de la pancarte la plus étrange qu'ils avaient jamais vue.  C2\"]\n",
            "['Les écarts hommes-femmes restent \"particulièrement marqués\" chez les plus jeunes : 50% des femmes âgées de 16 à 24 ans déclarent avoir pratiqué au moins une activité physique ou sportive dans l\\'année et 33% régulièrement chaque semaine, contre respectivement 63% et 45% des hommes de cette classe d\\'âge.  B2']\n",
            "[\"Les incidents sont disposés et gradués vers le point culminant et l'effet de la fin, qui est un événement capital et décisif, satisfaisant toutes les curiosités éveillées au début, mettant une barrière à l'intérêt, et terminant si complètement l'histoire racontée qu'on ne désire plus savoir ce que deviendront, le lendemain, les personnages les plus attachants.  B2\"]\n",
            "[\"Alors, tu as vu le film, tu as écrit un texte et tu as décrit l'histoire.  A1\"]\n",
            "['Mets ça sur ton pied, ça va soulager la douleur.  A1']\n",
            "[\"Quand vous voyez toutes ces blessures, tous ces dégâts occasionnés par un cyclone, c'est monumental  B1\"]\n",
            "[\"Quoique habillé d'un complet de soixante francs, il gardait une certaine élégance tapageuse, un peu commune, réelle cependant.  B2\"]\n",
            "[\"Un descendant est un individu qui descend d'un autre autrement dit l'enfant d'un individu.  C2\"]\n",
            "[\"Bonsoir, J'ai une réservation pour 21h au nom de Smith.  A2\"]\n",
            "['Ma mère viendra en France.  A2']\n",
            "[\"T'as pas honte.  A1\"]\n",
            "['Il joue de la guitare dans un bar.  A1']\n",
            "['Elle cherche un travail de réceptionniste dans un hôtel  B1']\n",
            "['Il faisait toujours très beau et surtout très chaud  B1']\n",
            "[\"Le comte de P *** était absent * Les combats que j'avais livrés longtemps à mon propre caractère, l'impatience que j'éprouvais de n'avoir pu le surmonter, mon incertitude sur le succès de ma tentative, jetèrent dans ma lettre une agitation qui ressemblait fort à l'amour.  C2\"]\n",
            "[\"Je ne t'ai pas téléphoné parce que j'ai eu trop de travail.  A2\"]\n",
            "[\"Le bleu, c'est ma couleur préférée mais je n'aime pas le vert!  A1\"]\n",
            "[\"J'ouvre la porte.  B2\"]\n",
            "[\"J'ai écris un roman, c'est le premier, je ne sais pas si c'est le premier, je ne sais pas si j'en écrirai d'autres.  A2\"]\n",
            "[\"Les mois de mars et avril passent en accéléré : procès, rendez-vous médicaux, concerts, ballets, devoirs et match de baseball s'enchaînent à une vitesse incroyable, et pendant tout ce temps, le ventre de Chelsea ne cesse de s'étirer.  C1\"]\n",
            "[\"Chéri, tu pourrais me masser le haut du dos, s'il te plaît ?  A1\"]\n",
            "['Si vous voulez attendre au bar, on vous appellera quand ce sera prêt.  B1']\n",
            "[\"A ces deux types de raisons, facilement identifiables à travers la littérature, qui poussent les entreprises à mener une réflexion sur l'évaluation des connaissances, sont associées d'autres raisons plus difficiles caractériser qui semblent inspirées par une volonté de transformation de l'organisation  C2\"]\n",
            "['Pourtant ni parmi les nobles, ni parmi les marchands, ni parmi les laboureurs il ne se put trouver de vierge assez irréprochable.  B2']\n",
            "['Le soir, ils sont allés à un concert  A2']\n",
            "['Mais il y a un problème .  A2']\n",
            "[\"Si j'appuie là, c'est douleureux.  A1\"]\n",
            "['Le slogan \"100 % de nos clients achètent nos produits\" est une tautologie.  B2']\n",
            "['Comme pour les autres sciences, la démarche des enseignants intéressés par les ressources pédagogiques et les formations de La Main à la pâte est une démarche volontaire.  C2']\n",
            "[\"L'autre élément est que certains enseignants développent un usage pédagogique des outils numériques.  B2\"]\n",
            "[\"Un enseignement fondé sur l'expérimentation et la pratique, des objectifs d'apprentissage transversaux, des actions tournées en priorité vers la formation continue des enseignants, menées en collaboration avec la communauté scientifique et professionnelle : le travail de défrichage réalisé par la fondation dans le domaine des sciences pourrait s'appliquer parfaitement à la problématique de l'enseignement de la culture informatique.  C1\"]\n",
            "[\"Et il y a en ce sens comme une chute temporelle de Jésus s'abaissant pour s'accommoder aux concepts hébraïques.  B2\"]\n",
            "[\"En été, j'aime faire de la randonnée et vous, que faites-vous le soir en hiver ?  B1\"]\n",
            "[\"J'écris un peu.  A2\"]\n",
            "[\"Ils s'engouffraient dans les sentiers, puis se ruaient sur les arbres et tiraient sur leurs branches.  C2\"]\n",
            "[\"Tous les prix sont affichés, mais si besoin, j'ai mis la liste des prix à côté de la caisse.  C1\"]\n",
            "[\"Très présente dans l'alimentation antillaise, la morue a été introduite aux Petites Antilles par les premiers colons  C1\"]\n",
            "['On réinvente le dimanche dans une perspective laïque.  A1']\n",
            "['Pour les femmes surtout, nuancent Régine Lemoine-Darthois et Elisabeth Weissman.  B2']\n"
          ]
        },
        {
          "output_type": "execute_result",
          "data": {
            "text/plain": [
              "   difficulty\n",
              "id           \n",
              "0          C2\n",
              "1          B1\n",
              "2          A1\n",
              "3          A1\n",
              "4          C2"
            ],
            "text/html": [
              "\n",
              "  <div id=\"df-41edf225-3405-4452-96d4-6ae3220e5193\">\n",
              "    <div class=\"colab-df-container\">\n",
              "      <div>\n",
              "<style scoped>\n",
              "    .dataframe tbody tr th:only-of-type {\n",
              "        vertical-align: middle;\n",
              "    }\n",
              "\n",
              "    .dataframe tbody tr th {\n",
              "        vertical-align: top;\n",
              "    }\n",
              "\n",
              "    .dataframe thead th {\n",
              "        text-align: right;\n",
              "    }\n",
              "</style>\n",
              "<table border=\"1\" class=\"dataframe\">\n",
              "  <thead>\n",
              "    <tr style=\"text-align: right;\">\n",
              "      <th></th>\n",
              "      <th>difficulty</th>\n",
              "    </tr>\n",
              "    <tr>\n",
              "      <th>id</th>\n",
              "      <th></th>\n",
              "    </tr>\n",
              "  </thead>\n",
              "  <tbody>\n",
              "    <tr>\n",
              "      <th>0</th>\n",
              "      <td>C2</td>\n",
              "    </tr>\n",
              "    <tr>\n",
              "      <th>1</th>\n",
              "      <td>B1</td>\n",
              "    </tr>\n",
              "    <tr>\n",
              "      <th>2</th>\n",
              "      <td>A1</td>\n",
              "    </tr>\n",
              "    <tr>\n",
              "      <th>3</th>\n",
              "      <td>A1</td>\n",
              "    </tr>\n",
              "    <tr>\n",
              "      <th>4</th>\n",
              "      <td>C2</td>\n",
              "    </tr>\n",
              "  </tbody>\n",
              "</table>\n",
              "</div>\n",
              "      <button class=\"colab-df-convert\" onclick=\"convertToInteractive('df-41edf225-3405-4452-96d4-6ae3220e5193')\"\n",
              "              title=\"Convert this dataframe to an interactive table.\"\n",
              "              style=\"display:none;\">\n",
              "        \n",
              "  <svg xmlns=\"http://www.w3.org/2000/svg\" height=\"24px\"viewBox=\"0 0 24 24\"\n",
              "       width=\"24px\">\n",
              "    <path d=\"M0 0h24v24H0V0z\" fill=\"none\"/>\n",
              "    <path d=\"M18.56 5.44l.94 2.06.94-2.06 2.06-.94-2.06-.94-.94-2.06-.94 2.06-2.06.94zm-11 1L8.5 8.5l.94-2.06 2.06-.94-2.06-.94L8.5 2.5l-.94 2.06-2.06.94zm10 10l.94 2.06.94-2.06 2.06-.94-2.06-.94-.94-2.06-.94 2.06-2.06.94z\"/><path d=\"M17.41 7.96l-1.37-1.37c-.4-.4-.92-.59-1.43-.59-.52 0-1.04.2-1.43.59L10.3 9.45l-7.72 7.72c-.78.78-.78 2.05 0 2.83L4 21.41c.39.39.9.59 1.41.59.51 0 1.02-.2 1.41-.59l7.78-7.78 2.81-2.81c.8-.78.8-2.07 0-2.86zM5.41 20L4 18.59l7.72-7.72 1.47 1.35L5.41 20z\"/>\n",
              "  </svg>\n",
              "      </button>\n",
              "      \n",
              "  <style>\n",
              "    .colab-df-container {\n",
              "      display:flex;\n",
              "      flex-wrap:wrap;\n",
              "      gap: 12px;\n",
              "    }\n",
              "\n",
              "    .colab-df-convert {\n",
              "      background-color: #E8F0FE;\n",
              "      border: none;\n",
              "      border-radius: 50%;\n",
              "      cursor: pointer;\n",
              "      display: none;\n",
              "      fill: #1967D2;\n",
              "      height: 32px;\n",
              "      padding: 0 0 0 0;\n",
              "      width: 32px;\n",
              "    }\n",
              "\n",
              "    .colab-df-convert:hover {\n",
              "      background-color: #E2EBFA;\n",
              "      box-shadow: 0px 1px 2px rgba(60, 64, 67, 0.3), 0px 1px 3px 1px rgba(60, 64, 67, 0.15);\n",
              "      fill: #174EA6;\n",
              "    }\n",
              "\n",
              "    [theme=dark] .colab-df-convert {\n",
              "      background-color: #3B4455;\n",
              "      fill: #D2E3FC;\n",
              "    }\n",
              "\n",
              "    [theme=dark] .colab-df-convert:hover {\n",
              "      background-color: #434B5C;\n",
              "      box-shadow: 0px 1px 3px 1px rgba(0, 0, 0, 0.15);\n",
              "      filter: drop-shadow(0px 1px 2px rgba(0, 0, 0, 0.3));\n",
              "      fill: #FFFFFF;\n",
              "    }\n",
              "  </style>\n",
              "\n",
              "      <script>\n",
              "        const buttonEl =\n",
              "          document.querySelector('#df-41edf225-3405-4452-96d4-6ae3220e5193 button.colab-df-convert');\n",
              "        buttonEl.style.display =\n",
              "          google.colab.kernel.accessAllowed ? 'block' : 'none';\n",
              "\n",
              "        async function convertToInteractive(key) {\n",
              "          const element = document.querySelector('#df-41edf225-3405-4452-96d4-6ae3220e5193');\n",
              "          const dataTable =\n",
              "            await google.colab.kernel.invokeFunction('convertToInteractive',\n",
              "                                                     [key], {});\n",
              "          if (!dataTable) return;\n",
              "\n",
              "          const docLinkHtml = 'Like what you see? Visit the ' +\n",
              "            '<a target=\"_blank\" href=https://colab.research.google.com/notebooks/data_table.ipynb>data table notebook</a>'\n",
              "            + ' to learn more about interactive tables.';\n",
              "          element.innerHTML = '';\n",
              "          dataTable['output_type'] = 'display_data';\n",
              "          await google.colab.output.renderOutput(dataTable, element);\n",
              "          const docLink = document.createElement('div');\n",
              "          docLink.innerHTML = docLinkHtml;\n",
              "          element.appendChild(docLink);\n",
              "        }\n",
              "      </script>\n",
              "    </div>\n",
              "  </div>\n",
              "  "
            ]
          },
          "metadata": {},
          "execution_count": 28
        }
      ]
    },
    {
      "cell_type": "markdown",
      "metadata": {
        "id": "9D3_dp3apcmr"
      },
      "source": [
        "Have a look at the confusion matrix and identify a few examples of sentences that are not well classified."
      ]
    },
    {
      "cell_type": "code",
      "source": [
        "def evaluate(test, pred):\n",
        "  print(f'CONFUSION MATRIX:\\n{confusion_matrix(test, pred)}')\n",
        "evaluate(y_test, y_pred)\n",
        "\n",
        "sns.heatmap(pd.DataFrame(confusion_matrix(y_test, y_pred)), annot=True, cmap='Oranges', fmt='.4g');"
      ],
      "metadata": {
        "id": "_X606b3MKsCH",
        "colab": {
          "base_uri": "https://localhost:8080/",
          "height": 384
        },
        "outputId": "560096f0-1dff-4e5e-c7ce-1ae014ac7c84"
      },
      "execution_count": 29,
      "outputs": [
        {
          "output_type": "stream",
          "name": "stdout",
          "text": [
            "CONFUSION MATRIX:\n",
            "[[91 40 22  4  2  2]\n",
            " [49 59 34  7  4 11]\n",
            " [16 27 76 12  9 20]\n",
            " [10  2 18 55 25 34]\n",
            " [ 6  3 12 25 66 61]\n",
            " [ 6  6  8 17 23 98]]\n"
          ]
        },
        {
          "output_type": "display_data",
          "data": {
            "text/plain": [
              "<Figure size 432x288 with 2 Axes>"
            ],
            "image/png": "[encoded data removed]"
          },
          "metadata": {
            "needs_background": "light"
          }
        }
      ]
    },
    {
      "cell_type": "markdown",
      "metadata": {
        "id": "9TTEiuXasNFg"
      },
      "source": [
        "Generate your first predictions on the `unlabelled_test_data.csv`. make sure your predictions match the format of the `unlabelled_test_data.csv`."
      ]
    },
    {
      "cell_type": "markdown",
      "metadata": {
        "id": "vXG_yIG_pQ8t"
      },
      "source": [
        "#### 4.3. KNN (without data cleaning)\n",
        "\n",
        "Train a KNN classification model using a Tfidf vectoriser. Show the accuracy, precision, recall and F1 score on the test set."
      ]
    },
    {
      "cell_type": "code",
      "execution_count": null,
      "metadata": {
        "id": "GPRjD1rSqKKZ"
      },
      "outputs": [],
      "source": [
        "#Vectorize the dataset\n",
        "X_train_text = text_transformer.fit_transform(X_train)\n",
        "X_test_text = text_transformer.transform(X_test)\n",
        "\n",
        "#Split into Train and Test set\n",
        "X_train, X_test, y_train, y_test = sklearn.model_selection.train_test_split(X, newY, test_size=0.2, random_state=0)"
      ]
    },
    {
      "cell_type": "markdown",
      "metadata": {
        "id": "D6rH2Hx0qtB2"
      },
      "source": [
        "Try to improve it by tuning the hyper parameters (`n_neighbors`,   `p`, `weights`)."
      ]
    },
    {
      "cell_type": "code",
      "execution_count": null,
      "metadata": {
        "id": "wRy18Ce_qxPc",
        "colab": {
          "base_uri": "https://localhost:8080/"
        },
        "outputId": "8d5757b6-117f-4630-8930-2cc81dae67d8"
      },
      "outputs": [
        {
          "output_type": "stream",
          "name": "stdout",
          "text": [
            "Fitting 10 folds for each of 19 candidates, totalling 190 fits\n"
          ]
        }
      ],
      "source": [
        "#KNN with 6 neightbors accuracy 0.2073\n",
        "#KNN with 8 Neightbors accuracy 0.2073\n",
        "\n",
        "knn = KNeighborsClassifier()\n",
        "#K in range from 1 to 8\n",
        "k_range = list(range(1, 20))\n",
        "param_grid = dict(n_neighbors=k_range)\n",
        "\n",
        "# defining parameter range\n",
        "knn_cv = GridSearchCV(knn, param_grid, cv=10, scoring='accuracy', return_train_score=False,verbose=1)\n",
        "  \n",
        "# fitting the model for grid search\n",
        "knn_cv.fit(X_train_text, y_train)\n",
        "\n",
        "y_pred_knn = knn_cv.predict(X_test_text)"
      ]
    },
    {
      "cell_type": "code",
      "source": [
        "#KNN with minkowski and algorithm brute give us accuracy of: 0.1719\n",
        "KNeighborsClassifier(algorithm='brute', leaf_size=10, metric='minkowski',\n",
        "                     metric_params=None, n_jobs=None, n_neighbors=5, p=2,\n",
        "                     weights='uniform')\n",
        "knn.fit(X_train_text, y_train)\n",
        "\n",
        "y_pred_knn = knn.predict(X_test_text)"
      ],
      "metadata": {
        "id": "0PV9gUSySFY4"
      },
      "execution_count": null,
      "outputs": []
    },
    {
      "cell_type": "code",
      "source": [
        "y_pred = knn.predict(X_test_text)\n",
        "#Accuracy\n",
        "accuracy = accuracy_score(X_test_text, y_pred_knn)\n",
        "print('Accuracy: %f' % accuracy)\n",
        "\n",
        "#Precision\n",
        "precision = precision_score(X_test_text, y_pred_knn)\n",
        "print('Precision: %f' % precision)\n",
        "\n",
        "#Recall\n",
        "recall = recall_score(X_test_text, y_pred_knn)\n",
        "print('Recall: %f' % recall)\n",
        "\n",
        "#F1\n",
        "f1 = f1_score(X_test_text, y_pred_knn)\n",
        "print('F1 score: %f' % f1)"
      ],
      "metadata": {
        "id": "AYR3ax_IHMIW"
      },
      "execution_count": null,
      "outputs": []
    },
    {
      "cell_type": "markdown",
      "metadata": {
        "id": "FFNH1WgNqc62"
      },
      "source": [
        "#### 4.4. Decision Tree Classifier (without data cleaning)\n",
        "\n",
        "Train a Decison Tree classifier, using a Tfidf vectoriser. Show the accuracy, precision, recall and F1 score on the test set."
      ]
    },
    {
      "cell_type": "markdown",
      "metadata": {
        "id": "yQHjvOp7q11L"
      },
      "source": [
        "Try to improve it by tuning the hyper parameters (`max_depth`, the depth of the decision tree)."
      ]
    },
    {
      "cell_type": "code",
      "execution_count": null,
      "metadata": {
        "id": "x1Fzl5BUq8JN"
      },
      "outputs": [],
      "source": [
        "# first we tried depth 10, and accuracy of 0.1885\n",
        "# with deph=16 we have accuracy =0.1969\n",
        "# with deph=26 accuracy = 0.2042\n",
        "# with deph =40. accuracy=0.2021\n",
        "\n",
        "tree = DecisionTreeClassifier(ccp_alpha=0.0, class_weight=None, criterion='gini',\n",
        "                       max_depth=4000, \n",
        "                       random_state=50)\n",
        "tree.fit(X_train_text, y_train)\n",
        "y_pred_tree = tree.predict(X_test_text)"
      ]
    },
    {
      "cell_type": "code",
      "source": [
        "#Accuracy, precision, f1\n",
        "\n",
        "y_pred = tree.predict(X_test_text)\n",
        "#Accuracy\n",
        "accuracy = accuracy_score(X_test_text, y_pred_knn)\n",
        "print('Accuracy: %f' % accuracy)\n",
        "\n",
        "#Precision\n",
        "precision = precision_score(X_test_text, y_pred_knn)\n",
        "print('Precision: %f' % precision)\n",
        "\n",
        "#Recall\n",
        "recall = recall_score(X_test_text, y_pred_knn)\n",
        "print('Recall: %f' % recall)\n",
        "\n",
        "#F1\n",
        "f1 = f1_score(X_test_text, y_pred_knn)\n",
        "print('F1 score: %f' % f1)"
      ],
      "metadata": {
        "id": "0hGXj6RaaSAU"
      },
      "execution_count": null,
      "outputs": []
    },
    {
      "cell_type": "markdown",
      "metadata": {
        "id": "M52Ys3hcq7ku"
      },
      "source": [
        "#### 4.5. Random Forest Classifier (without data cleaning)\n",
        "\n",
        "Try a Random Forest Classifier, using a Tfidf vectoriser. Show the accuracy, precision, recall and F1 score on the test set."
      ]
    },
    {
      "cell_type": "code",
      "source": [
        "#One hot encoder ou label encoder \n",
        "\n",
        "df['oe_difficulty'] = ['0' if x == 'A1'\n",
        "                   else '1' if x =='A2'\n",
        "                   else '2' if x == 'B1'\n",
        "                   else '3' if x=='B2'\n",
        "                   else '4' if x== 'C1'\n",
        "                   else '5'\n",
        "                   for x in df.difficulty]\n",
        "\n",
        "df.oe_difficulty.value_counts()\n",
        "newY = df['oe_difficulty']\n",
        "\n",
        "X= df['sentence']\n",
        "newY = df['oe_difficulty']\n",
        "X_train, X_test, y_train, y_test = sklearn.model_selection.train_test_split(X, newY, test_size=0.2, random_state=0)"
      ],
      "metadata": {
        "id": "hMgVlrBb-wTh"
      },
      "execution_count": null,
      "outputs": []
    },
    {
      "cell_type": "code",
      "source": [
        "texts = df['sentence']\n",
        "tfidf = TfidfVectorizer(ngram_range=(1, 1))\n",
        "features = tfidf.fit_transform(texts)\n",
        "pd.DataFrame(\n",
        "    features.todense(),\n",
        "    columns=tfidf.get_feature_names())"
      ],
      "metadata": {
        "id": "gw_8yLbsAvuw"
      },
      "execution_count": null,
      "outputs": []
    },
    {
      "cell_type": "code",
      "source": [
        "text_transformer = TfidfVectorizer(ngram_range=(1, 2), lowercase=True, max_features=150000)\n",
        "X_train_text = text_transformer.fit_transform(X_train)\n",
        "X_test_text = text_transformer.transform(X_test)"
      ],
      "metadata": {
        "id": "6ptuGy7SBE_m"
      },
      "execution_count": null,
      "outputs": []
    },
    {
      "cell_type": "code",
      "source": [
        "#from sklearn.ensemble import RandomForestRegressor\n",
        "\n",
        "## Doesnt work because it's for continuous variable like housing price \n",
        "\n",
        "#rf = RandomForestRegressor(random_state = 42)\n",
        "#from pprint import pprint\n",
        "# Look at parameters used by our current forest\n",
        "#print('Parameters currently in use:\\n')\n",
        "#pprint(rf.get_params())"
      ],
      "metadata": {
        "id": "zbvloIiy7coB"
      },
      "execution_count": null,
      "outputs": []
    },
    {
      "cell_type": "code",
      "source": [
        "#Using GridSearch to find the optimal parameters\n",
        "\n",
        "from sklearn.model_selection import RandomizedSearchCV\n",
        "# Number of trees in random forest\n",
        "n_estimators = [int(x) for x in np.linspace(start = 200, stop = 2000, num = 10)]\n",
        "# Number of features to consider at every split\n",
        "max_features = ['auto', 'sqrt']\n",
        "# Maximum number of levels in tree\n",
        "max_depth = [int(x) for x in np.linspace(10, 110, num = 11)]\n",
        "max_depth.append(None)\n",
        "# Minimum number of samples required to split a node\n",
        "min_samples_split = [2, 5, 10]\n",
        "# Minimum number of samples required at each leaf node\n",
        "min_samples_leaf = [1, 2, 4]\n",
        "# Method of selecting samples for training each tree\n",
        "bootstrap = [True, False]\n",
        "# Create the random grid\n",
        "\n",
        "random_grid = {'n_estimators': n_estimators,\n",
        "               'max_features': max_features,\n",
        "               'max_depth': max_depth,\n",
        "               'min_samples_split': min_samples_split,\n",
        "               'min_samples_leaf': min_samples_leaf,\n",
        "               'bootstrap': bootstrap}\n",
        "print(random_grid)"
      ],
      "metadata": {
        "id": "OcJh0i-y7krX",
        "colab": {
          "base_uri": "https://localhost:8080/"
        },
        "outputId": "daf408f6-5b4e-4378-b4ab-acfa61d5d089"
      },
      "execution_count": null,
      "outputs": [
        {
          "output_type": "stream",
          "name": "stdout",
          "text": [
            "{'n_estimators': [200, 400, 600, 800, 1000, 1200, 1400, 1600, 1800, 2000], 'max_features': ['auto', 'sqrt'], 'max_depth': [10, 20, 30, 40, 50, 60, 70, 80, 90, 100, 110, None], 'min_samples_split': [2, 5, 10], 'min_samples_leaf': [1, 2, 4], 'bootstrap': [True, False]}\n"
          ]
        }
      ]
    },
    {
      "cell_type": "code",
      "source": [
        "# Use the random grid to search for best hyperparameters\n",
        "# First create the base model to tune\n",
        "\n",
        "rf = RandomForestClassifier()\n",
        "# Random search of parameters, using 3 fold cross validation, \n",
        "# search across 100 different combinations, and use all available cores\n",
        "rf_clf = RandomizedSearchCV(estimator = rf, param_distributions = random_grid, n_iter = 4, cv = 2, verbose=1, random_state=42, n_jobs = -1)\n",
        "# Fit the random search model\n",
        "rf_clf.fit(X_train_text, y_train)"
      ],
      "metadata": {
        "id": "8XZqDNxD7oFE"
      },
      "execution_count": null,
      "outputs": []
    },
    {
      "cell_type": "code",
      "source": [
        "rf_clf_test = rf_clf.score(X_test_text, y_test)\n",
        "rf_clf_test\n"
      ],
      "metadata": {
        "colab": {
          "base_uri": "https://localhost:8080/"
        },
        "id": "ug4FBMTZUlAU",
        "outputId": "aa0b1048-335b-42a3-9967-d5c90c24db52"
      },
      "execution_count": null,
      "outputs": [
        {
          "output_type": "execute_result",
          "data": {
            "text/plain": [
              "0.40625"
            ]
          },
          "metadata": {},
          "execution_count": 179
        }
      ]
    },
    {
      "cell_type": "code",
      "source": [
        "##Marche beaucoup moins bien\n",
        "\n",
        "rf = RandomForestClassifier()\n",
        "# Random search of parameters, using 3 fold cross validation, \n",
        "# search across 100 different combinations, and use all available cores\n",
        "rf_clf = RandomForestClassifier(criterion='gini',\n",
        "                                 n_estimators=5,\n",
        "                                 random_state=42,\n",
        "                                 n_jobs=20,\n",
        "                                max_depth=40,\n",
        "                                min_samples_split=5,\n",
        "                                max_features=30000,\n",
        "                                bootstrap = bool,\n",
        "                                oob_score= bool,\n",
        "                                warm_start= bool)\n",
        "# Fit the random search model\n",
        "rf_clf.fit(X_train_text, y_train)"
      ],
      "metadata": {
        "id": "xkEw2RuzUAi7"
      },
      "execution_count": null,
      "outputs": []
    },
    {
      "cell_type": "code",
      "source": [
        "rf_clf_test = rf_clf.score(X_test_text, y_test)\n",
        "rf_clf_test"
      ],
      "metadata": {
        "colab": {
          "base_uri": "https://localhost:8080/"
        },
        "id": "-ebo8JJYXFyf",
        "outputId": "6ca54cc5-3f40-48a5-ceb4-57f6afbd078f"
      },
      "execution_count": null,
      "outputs": [
        {
          "output_type": "execute_result",
          "data": {
            "text/plain": [
              "0.325"
            ]
          },
          "metadata": {},
          "execution_count": 176
        }
      ]
    },
    {
      "cell_type": "code",
      "source": [
        "rf_clf_test = rf_clf.score(X_test_text, y_test)\n",
        "rf_clf_test"
      ],
      "metadata": {
        "colab": {
          "base_uri": "https://localhost:8080/"
        },
        "id": "o1jk8RyOBwsN",
        "outputId": "0d19dfff-fc8b-4c99-a499-f2f476111991"
      },
      "execution_count": null,
      "outputs": [
        {
          "output_type": "execute_result",
          "data": {
            "text/plain": [
              "0.40625"
            ]
          },
          "metadata": {},
          "execution_count": 180
        }
      ]
    },
    {
      "cell_type": "code",
      "source": [
        "def evaluate(model, test_features, test_labels):\n",
        "    predictions = model.predict(test_features)\n",
        "    errors = abs(predictions - test_labels)\n",
        "    mape = 100 * np.mean(errors / test_labels)\n",
        "    accuracy = 100 - mape\n",
        "    print('Model Performance')\n",
        "    print('Average Error: {:0.4f} degrees.'.format(np.mean(errors)))\n",
        "    print('Accuracy = {:0.2f}%.'.format(accuracy))\n",
        "    \n",
        "    return accuracy\n",
        "\n",
        "base_model = RandomForestRegressor(n_estimators = 10, random_state = 42)\n",
        "base_model.fit(X_train_text, y_train)\n",
        "base_accuracy = evaluate(base_model, X_test_text, y_test)\n",
        "\n",
        "\n",
        "best_random = rf_random.best_estimator_\n",
        "random_accuracy = evaluate(best_random, X_test_text, y_test)\n",
        "\n",
        "\n",
        "print('Improvement of {:0.2f}%.'.format( 100 * (random_accuracy - base_accuracy) / base_accuracy))\n"
      ],
      "metadata": {
        "id": "1BW7KfuTBsvE"
      },
      "execution_count": null,
      "outputs": []
    },
    {
      "cell_type": "code",
      "source": [
        "from sklearn.model_selection import GridSearchCV\n",
        "# Create the parameter grid based on the results of random search \n",
        "param_grid = {\n",
        "    'bootstrap': [True],\n",
        "    'max_depth': [80, 90, 100, 110],\n",
        "    'max_features': [2, 3],\n",
        "    'min_samples_leaf': [3, 4, 5],\n",
        "    'min_samples_split': [8, 10, 12],\n",
        "    'n_estimators': [100, 200, 300, 1000]\n",
        "}\n",
        "# Create a based model\n",
        "rf = RandomForestRegressor()\n",
        "# Instantiate the grid search model\n",
        "grid_search = GridSearchCV(estimator = rf, param_grid = param_grid, \n",
        "                          cv = 3, n_jobs = -1, verbose = 2)\n",
        "grid_search = GridSearchCV(estimator = RandomForestRegressor(), param_grid = param_grid, cv = 3, n_jobs = -1, verbose = 2)\n",
        "grid_search.fit(X_train_text, y_train)\n",
        "grid_search.best_params_\n",
        "best_grid = grid_search.best_estimator_\n",
        "grid_accuracy = evaluate(best_grid, X_test_text, y_test)\n",
        "print('Improvement of {:0.2f}%.'.format( 100 * (grid_accuracy - base_accuracy) / base_accuracy))"
      ],
      "metadata": {
        "id": "8ANhf-Eg7MlI"
      },
      "execution_count": null,
      "outputs": []
    },
    {
      "cell_type": "code",
      "execution_count": null,
      "metadata": {
        "id": "sssF4NIGrNLa"
      },
      "outputs": [],
      "source": [
        "#X, y = make_classification(n_samples=1000, n_features=4,\n",
        "                          #n_informative=2, n_redundant=0,\n",
        "                          #random_state=0, shuffle=False)\n",
        "\n",
        "\n",
        "clf = RandomForestClassifier(random_state=0, bootstrap= True, max_depth= 80,\n",
        " max_features= 3, min_samples_leaf =5, n_estimators= 100)\n",
        "\n",
        "clf.fit(X_train_text, y_train)\n",
        "RandomForestClassifier(...)\n",
        "\n",
        "y_pred_forest =  clf.predict(X_test_text)\n"
      ]
    },
    {
      "cell_type": "code",
      "source": [
        "def evaluate(train, pred):\n",
        "  precision = precision_score(train, pred,pos_label='positive',\n",
        "                                           average='micro')\n",
        "  recall = recall_score(train, pred,pos_label='positive',\n",
        "                                           average='micro')\n",
        "  f1= f1_score(train, pred,pos_label='positive',\n",
        "                                           average='micro')\n",
        "  print(f'CLASSIFICATION REPORT:\\n\\tPrecision: {precision:.4f}\\n\\tRecall: {recall:.4f}\\n\\tF1_Score: {f1:.4f}')\n",
        "evaluate(y_test, y_pred_forest)"
      ],
      "metadata": {
        "id": "K1F5ZCGgcjeR",
        "colab": {
          "base_uri": "https://localhost:8080/"
        },
        "outputId": "7329656e-bb39-4fb5-d1b0-2d75391c001e"
      },
      "execution_count": null,
      "outputs": [
        {
          "output_type": "stream",
          "name": "stdout",
          "text": [
            "CLASSIFICATION REPORT:\n",
            "\tPrecision: 0.1646\n",
            "\tRecall: 0.1646\n",
            "\tF1_Score: 0.1646\n"
          ]
        }
      ]
    },
    {
      "cell_type": "code",
      "source": [
        "clf.score(X_train_text, y_train)\n",
        "accur_train_forest = clf.score(X_train_text, y_train)\n",
        "accur_train_forest"
      ],
      "metadata": {
        "id": "u8qnuSbjaV_S"
      },
      "execution_count": null,
      "outputs": []
    },
    {
      "cell_type": "code",
      "source": [
        "clf.score(X_test_text, y_pred)\n",
        "accur_test_forest = clf.score(X_test_text, y_test)\n",
        "accur_test_forest"
      ],
      "metadata": {
        "id": "xpjEP1YtbCGc"
      },
      "execution_count": null,
      "outputs": []
    },
    {
      "cell_type": "markdown",
      "metadata": {
        "id": "z-8_3MK1rpZr"
      },
      "source": [
        "#### 4.6. Any other technique, including data cleaning if necessary\n",
        "\n",
        "Try to improve accuracy by training a better model using the techniques seen in class, or combinations of them.\n",
        "\n",
        "As usual, show the accuracy, precision, recall and f1 score on the test set."
      ]
    },
    {
      "cell_type": "code",
      "source": [
        "#first let's check if there are NA's\n",
        "df.isnull().sum()"
      ],
      "metadata": {
        "colab": {
          "base_uri": "https://localhost:8080/"
        },
        "id": "4gIJjicHh2B_",
        "outputId": "9fefab04-6e80-4ffa-ea54-0fd13acec6e5"
      },
      "execution_count": null,
      "outputs": [
        {
          "output_type": "execute_result",
          "data": {
            "text/plain": [
              "id            0\n",
              "sentence      0\n",
              "difficulty    0\n",
              "dtype: int64"
            ]
          },
          "metadata": {},
          "execution_count": 68
        }
      ]
    },
    {
      "cell_type": "code",
      "source": [
        "le_diff = pd.Series(LabelEncoder().fit_transform(df[\"difficulty\"]), name=\"le_diff\")\n",
        "le_diff"
      ],
      "metadata": {
        "id": "jC8R5PMViQDH"
      },
      "execution_count": null,
      "outputs": []
    },
    {
      "cell_type": "markdown",
      "source": [
        "Here we one hot encoded y, because we thought that it will make the model easier to perform:"
      ],
      "metadata": {
        "id": "LlKm94F2Ne2G"
      }
    },
    {
      "cell_type": "code",
      "source": [
        "#One hot encoder or label encoder \n",
        "\n",
        "X= df['sentence']\n",
        "df['oe_difficulty'] = ['0' if x == 'A1'\n",
        "                   else '1' if x =='A2'\n",
        "                   else '2' if x == 'B1'\n",
        "                   else '3' if x=='B2'\n",
        "                   else '4' if x== 'C1'\n",
        "                   else '5'\n",
        "                   for x in df.difficulty]\n",
        "\n",
        "df.oe_difficulty.value_counts()\n",
        "newY = df['oe_difficulty']\n",
        "\n",
        "X_train, X_test, y_train, y_test = sklearn.model_selection.train_test_split(X, newY, test_size=0.1, random_state=0)\n",
        "\n",
        "text_transformer = TfidfVectorizer(ngram_range=(1, 2), lowercase=True, max_features=150000)\n",
        "X_train_text = text_transformer.fit_transform(X_train)\n",
        "X_test_text = text_transformer.transform(X_test)"
      ],
      "metadata": {
        "id": "SMPE78ouNY3Q"
      },
      "execution_count": 36,
      "outputs": []
    },
    {
      "cell_type": "markdown",
      "source": [
        "Let's try the logistic regression with the encoded Y:"
      ],
      "metadata": {
        "id": "cIdGMFHEN2pm"
      }
    },
    {
      "cell_type": "code",
      "source": [
        "LR = LogisticRegressionCV(solver='lbfgs', cv=10, max_iter=100, random_state = 5)\n",
        "LR.fit(X_train_text, y_train)"
      ],
      "metadata": {
        "id": "TGLnPCrtOgJw",
        "outputId": "872f1465-f123-40a3-d14b-d299dc57d528",
        "colab": {
          "base_uri": "https://localhost:8080/",
          "height": 324
        }
      },
      "execution_count": 43,
      "outputs": [
        {
          "output_type": "error",
          "ename": "ValueError",
          "evalue": "ignored",
          "traceback": [
            "\u001b[0;31m---------------------------------------------------------------------------\u001b[0m",
            "\u001b[0;31mValueError\u001b[0m                                Traceback (most recent call last)",
            "\u001b[0;32m<ipython-input-43-a9a3cb6ac595>\u001b[0m in \u001b[0;36m<module>\u001b[0;34m\u001b[0m\n\u001b[1;32m      1\u001b[0m \u001b[0mLR\u001b[0m \u001b[0;34m=\u001b[0m \u001b[0mLogisticRegressionCV\u001b[0m\u001b[0;34m(\u001b[0m\u001b[0msolver\u001b[0m\u001b[0;34m=\u001b[0m\u001b[0;34m'lbfgs'\u001b[0m\u001b[0;34m,\u001b[0m \u001b[0mcv\u001b[0m\u001b[0;34m=\u001b[0m\u001b[0;36m10\u001b[0m\u001b[0;34m,\u001b[0m \u001b[0mmax_iter\u001b[0m\u001b[0;34m=\u001b[0m\u001b[0;36m100\u001b[0m\u001b[0;34m,\u001b[0m \u001b[0mrandom_state\u001b[0m \u001b[0;34m=\u001b[0m \u001b[0;36m5\u001b[0m\u001b[0;34m)\u001b[0m\u001b[0;34m\u001b[0m\u001b[0;34m\u001b[0m\u001b[0m\n\u001b[0;32m----> 2\u001b[0;31m \u001b[0mLR\u001b[0m\u001b[0;34m.\u001b[0m\u001b[0mfit\u001b[0m\u001b[0;34m(\u001b[0m\u001b[0mX_train_text\u001b[0m\u001b[0;34m,\u001b[0m \u001b[0my_train\u001b[0m\u001b[0;34m)\u001b[0m\u001b[0;34m\u001b[0m\u001b[0;34m\u001b[0m\u001b[0m\n\u001b[0m",
            "\u001b[0;32m/usr/local/lib/python3.8/dist-packages/sklearn/linear_model/_logistic.py\u001b[0m in \u001b[0;36mfit\u001b[0;34m(self, X, y, sample_weight)\u001b[0m\n\u001b[1;32m   2075\u001b[0m             )\n\u001b[1;32m   2076\u001b[0m \u001b[0;34m\u001b[0m\u001b[0m\n\u001b[0;32m-> 2077\u001b[0;31m         X, y = self._validate_data(\n\u001b[0m\u001b[1;32m   2078\u001b[0m             \u001b[0mX\u001b[0m\u001b[0;34m,\u001b[0m\u001b[0;34m\u001b[0m\u001b[0;34m\u001b[0m\u001b[0m\n\u001b[1;32m   2079\u001b[0m             \u001b[0my\u001b[0m\u001b[0;34m,\u001b[0m\u001b[0;34m\u001b[0m\u001b[0;34m\u001b[0m\u001b[0m\n",
            "\u001b[0;32m/usr/local/lib/python3.8/dist-packages/sklearn/base.py\u001b[0m in \u001b[0;36m_validate_data\u001b[0;34m(self, X, y, reset, validate_separately, **check_params)\u001b[0m\n\u001b[1;32m    579\u001b[0m                 \u001b[0my\u001b[0m \u001b[0;34m=\u001b[0m \u001b[0mcheck_array\u001b[0m\u001b[0;34m(\u001b[0m\u001b[0my\u001b[0m\u001b[0;34m,\u001b[0m \u001b[0;34m**\u001b[0m\u001b[0mcheck_y_params\u001b[0m\u001b[0;34m)\u001b[0m\u001b[0;34m\u001b[0m\u001b[0;34m\u001b[0m\u001b[0m\n\u001b[1;32m    580\u001b[0m             \u001b[0;32melse\u001b[0m\u001b[0;34m:\u001b[0m\u001b[0;34m\u001b[0m\u001b[0;34m\u001b[0m\u001b[0m\n\u001b[0;32m--> 581\u001b[0;31m                 \u001b[0mX\u001b[0m\u001b[0;34m,\u001b[0m \u001b[0my\u001b[0m \u001b[0;34m=\u001b[0m \u001b[0mcheck_X_y\u001b[0m\u001b[0;34m(\u001b[0m\u001b[0mX\u001b[0m\u001b[0;34m,\u001b[0m \u001b[0my\u001b[0m\u001b[0;34m,\u001b[0m \u001b[0;34m**\u001b[0m\u001b[0mcheck_params\u001b[0m\u001b[0;34m)\u001b[0m\u001b[0;34m\u001b[0m\u001b[0;34m\u001b[0m\u001b[0m\n\u001b[0m\u001b[1;32m    582\u001b[0m             \u001b[0mout\u001b[0m \u001b[0;34m=\u001b[0m \u001b[0mX\u001b[0m\u001b[0;34m,\u001b[0m \u001b[0my\u001b[0m\u001b[0;34m\u001b[0m\u001b[0;34m\u001b[0m\u001b[0m\n\u001b[1;32m    583\u001b[0m \u001b[0;34m\u001b[0m\u001b[0m\n",
            "\u001b[0;32m/usr/local/lib/python3.8/dist-packages/sklearn/utils/validation.py\u001b[0m in \u001b[0;36mcheck_X_y\u001b[0;34m(X, y, accept_sparse, accept_large_sparse, dtype, order, copy, force_all_finite, ensure_2d, allow_nd, multi_output, ensure_min_samples, ensure_min_features, y_numeric, estimator)\u001b[0m\n\u001b[1;32m    979\u001b[0m     \u001b[0my\u001b[0m \u001b[0;34m=\u001b[0m \u001b[0m_check_y\u001b[0m\u001b[0;34m(\u001b[0m\u001b[0my\u001b[0m\u001b[0;34m,\u001b[0m \u001b[0mmulti_output\u001b[0m\u001b[0;34m=\u001b[0m\u001b[0mmulti_output\u001b[0m\u001b[0;34m,\u001b[0m \u001b[0my_numeric\u001b[0m\u001b[0;34m=\u001b[0m\u001b[0my_numeric\u001b[0m\u001b[0;34m)\u001b[0m\u001b[0;34m\u001b[0m\u001b[0;34m\u001b[0m\u001b[0m\n\u001b[1;32m    980\u001b[0m \u001b[0;34m\u001b[0m\u001b[0m\n\u001b[0;32m--> 981\u001b[0;31m     \u001b[0mcheck_consistent_length\u001b[0m\u001b[0;34m(\u001b[0m\u001b[0mX\u001b[0m\u001b[0;34m,\u001b[0m \u001b[0my\u001b[0m\u001b[0;34m)\u001b[0m\u001b[0;34m\u001b[0m\u001b[0;34m\u001b[0m\u001b[0m\n\u001b[0m\u001b[1;32m    982\u001b[0m \u001b[0;34m\u001b[0m\u001b[0m\n\u001b[1;32m    983\u001b[0m     \u001b[0;32mreturn\u001b[0m \u001b[0mX\u001b[0m\u001b[0;34m,\u001b[0m \u001b[0my\u001b[0m\u001b[0;34m\u001b[0m\u001b[0;34m\u001b[0m\u001b[0m\n",
            "\u001b[0;32m/usr/local/lib/python3.8/dist-packages/sklearn/utils/validation.py\u001b[0m in \u001b[0;36mcheck_consistent_length\u001b[0;34m(*arrays)\u001b[0m\n\u001b[1;32m    330\u001b[0m     \u001b[0muniques\u001b[0m \u001b[0;34m=\u001b[0m \u001b[0mnp\u001b[0m\u001b[0;34m.\u001b[0m\u001b[0munique\u001b[0m\u001b[0;34m(\u001b[0m\u001b[0mlengths\u001b[0m\u001b[0;34m)\u001b[0m\u001b[0;34m\u001b[0m\u001b[0;34m\u001b[0m\u001b[0m\n\u001b[1;32m    331\u001b[0m     \u001b[0;32mif\u001b[0m \u001b[0mlen\u001b[0m\u001b[0;34m(\u001b[0m\u001b[0muniques\u001b[0m\u001b[0;34m)\u001b[0m \u001b[0;34m>\u001b[0m \u001b[0;36m1\u001b[0m\u001b[0;34m:\u001b[0m\u001b[0;34m\u001b[0m\u001b[0;34m\u001b[0m\u001b[0m\n\u001b[0;32m--> 332\u001b[0;31m         raise ValueError(\n\u001b[0m\u001b[1;32m    333\u001b[0m             \u001b[0;34m\"Found input variables with inconsistent numbers of samples: %r\"\u001b[0m\u001b[0;34m\u001b[0m\u001b[0;34m\u001b[0m\u001b[0m\n\u001b[1;32m    334\u001b[0m             \u001b[0;34m%\u001b[0m \u001b[0;34m[\u001b[0m\u001b[0mint\u001b[0m\u001b[0;34m(\u001b[0m\u001b[0ml\u001b[0m\u001b[0;34m)\u001b[0m \u001b[0;32mfor\u001b[0m \u001b[0ml\u001b[0m \u001b[0;32min\u001b[0m \u001b[0mlengths\u001b[0m\u001b[0;34m]\u001b[0m\u001b[0;34m\u001b[0m\u001b[0;34m\u001b[0m\u001b[0m\n",
            "\u001b[0;31mValueError\u001b[0m: Found input variables with inconsistent numbers of samples: [4320, 3840]"
          ]
        }
      ]
    },
    {
      "cell_type": "code",
      "source": [
        "accur_test_LR = LR.score(X_test_text, y_test)\n",
        "accur_test_LR\n",
        "#0.4635416666666667"
      ],
      "metadata": {
        "id": "rtHy2MBlNvWN",
        "outputId": "cb59d254-8c2c-413c-bd25-ac3d8b125f4e",
        "colab": {
          "base_uri": "https://localhost:8080/"
        }
      },
      "execution_count": 40,
      "outputs": [
        {
          "output_type": "execute_result",
          "data": {
            "text/plain": [
              "0.4708333333333333"
            ]
          },
          "metadata": {},
          "execution_count": 40
        }
      ]
    },
    {
      "cell_type": "markdown",
      "source": [
        "In the following we tried another method, we droped most of the vectorized columns that contained integers and also hours. "
      ],
      "metadata": {
        "id": "RTyPTjWcZmHQ"
      }
    },
    {
      "cell_type": "code",
      "source": [
        "#NEW TEST\n",
        "#Vectorize\n",
        "#Drop columns with integer & hours\n",
        "\n",
        "X = pd.DataFrame(features.todense(), columns=tfidf.get_feature_names())\n",
        "y= df['difficulty']\n",
        "\n",
        "X.drop(X.iloc[:, 1:2000], inplace=True, axis=1)\n",
        "\n",
        "text_transformer = TfidfVectorizer(ngram_range=(1, 2), lowercase=True, max_features=13000)\n",
        "\n",
        "X_train, X_test, y_train, y_test = sklearn.model_selection.train_test_split(X, y, test_size=0.2, random_state=5)\n",
        "\n",
        "\n",
        "LR_cv = LogisticRegressionCV(solver='lbfgs', cv=10, max_iter=100, random_state = 0)\n",
        "\n",
        "LR_cv.fit(X_train, y_train)\n",
        "\n",
        "LR_accur_test = LR_cv.score(X_test, y_test)\n",
        "LR_accur_test"
      ],
      "metadata": {
        "id": "TJ0GcsL5ZlJ8"
      },
      "execution_count": null,
      "outputs": []
    },
    {
      "cell_type": "markdown",
      "metadata": {
        "id": "82FvnJycsBFf"
      },
      "source": [
        "#### 4.7. Show a summary of your results"
      ]
    },
    {
      "cell_type": "markdown",
      "source": [
        "In the following table there are the accuracy on the test set for each model & the variations of the model:"
      ],
      "metadata": {
        "id": "48sDwICbO-bd"
      }
    },
    {
      "cell_type": "code",
      "source": [
        "Label = [' Model', 'CV', 'Solver', 'Specifity', 'max_iter', 'Accuracy']\n",
        "LR_1 = ['Log_Reg', '2', 'lbfgs','Basic model', '10','0.4635']\n",
        "LR_2 = ['Log_Reg', '2', 'lbfgs','Label encoded Y','10', '0.4635']\n",
        "LR_3 = ['Log_Reg', '5', 'lbfgs','Label encoded Y','10', '0.4625'] #Cross validation sinks our accuracy\n",
        "LR_4 = ['Log_Reg', '5', 'lbfgs','Label encoded Y','100', '0.4677']\n",
        "LR_5 = ['Log_Reg', '5', 'newton-cg','Label encoded Y','100','0.46770'] #Multiclass probelms is newton-cg good, so we test it \n",
        "LR_5 = ['Log_Reg', '5', 'lbfgs','Label encoded Y','100','0.47083'] #\n",
        "LR_6 = ['Log_Reg', '10', 'lbfgs','Label encoded Y','500','0.55208'] #We augmented the cv and the number of iterations + vectorized sentences\n",
        "\n",
        "#After that we saw that if we would chan"
      ],
      "metadata": {
        "id": "eiRmSgkqPG-9"
      },
      "execution_count": null,
      "outputs": []
    },
    {
      "cell_type": "code",
      "source": [
        "tableau_data = {'Logistic Regression': [0.565376, accur_test_LR, accur_train_LR,  precision_score_LR_train, recall_score_LR_train],\n",
        "        'KNN': [0.565376, accur_test_KNN , accur_train_KNN, precision_score_KNN, recall_score_KNN],\n",
        "        'Decision Tree' : [accur_test_tree, accur_train_tree, precision_score_tree, recall_score_tree]\n",
        "        'Random Forest': [accur_test_forest, accur_train_forest, precision_score_forest, recall_score_forest]}\n",
        "  \n",
        "# Creates pandas DataFrame.\n",
        "tableau_df = pd.DataFrame(tableau_data, index=[ 'Base rate', 'Accuracy Test',\n",
        "                               'Accuracy Train',\n",
        "                               'Precision',\n",
        "                               'Recall'])\n",
        "\n",
        "tableau_df"
      ],
      "metadata": {
        "id": "GtoMd99OU9lp",
        "colab": {
          "base_uri": "https://localhost:8080/",
          "height": 130
        },
        "outputId": "300571e6-0725-47a3-afb6-ca41b3ca5758"
      },
      "execution_count": null,
      "outputs": [
        {
          "output_type": "error",
          "ename": "SyntaxError",
          "evalue": "ignored",
          "traceback": [
            "\u001b[0;36m  File \u001b[0;32m\"<ipython-input-19-7afa79be8071>\"\u001b[0;36m, line \u001b[0;32m4\u001b[0m\n\u001b[0;31m    'Random Forest': [accur_test_forest, accur_train_forest, precision_score_forest, recall_score_forest]}\u001b[0m\n\u001b[0m    ^\u001b[0m\n\u001b[0;31mSyntaxError\u001b[0m\u001b[0;31m:\u001b[0m invalid syntax\n"
          ]
        }
      ]
    },
    {
      "cell_type": "markdown",
      "source": [
        "#### 4.8. Log regression, SVM, Naive Bayes"
      ],
      "metadata": {
        "id": "vIDBOPu4-AHY"
      }
    },
    {
      "cell_type": "code",
      "source": [
        "#Instantiate the encoder\n",
        "oe=OrdinalEncoder()\n",
        "\n",
        "# set the order of your categories\n",
        "oe.set_params(categories= [['0', '1', '2', '3', '4','5']])\n",
        "\n",
        "# fit-transform a dataframe of the categorical age variable\n",
        "oe_difficulty =oe.fit_transform(df[['oe_difficulty']])\n",
        "\n",
        "#number of values per class\n",
        "oe_difficulty = pd.DataFrame(oe_difficulty).astype('int')\n",
        "oe_difficulty.value_counts()"
      ],
      "metadata": {
        "id": "-8FFD5uDy-fv"
      },
      "execution_count": null,
      "outputs": []
    },
    {
      "cell_type": "code",
      "source": [
        "#### NEW TEST\n",
        "\n",
        "#Encode Data\n",
        "#Split data set\n",
        "\n",
        "X= df['sentence']\n",
        "y= df['difficulty']\n",
        "X_train, X_test, y_train, y_test = sklearn.model_selection.train_test_split(X, y, test_size=0.2, random_state=0)\n",
        "\n",
        "df['oe_difficulty'] = [0 if x == 'A1'\n",
        "                   else 2 if x =='A2'\n",
        "                   else 1 if x== 'B1'\n",
        "                   else 3 if x == 'B2'\n",
        "                   else 4 if x == 'C1'\n",
        "                   else 5\n",
        "                   for x in df.difficulty]\n",
        "df.drop(labels='difficulty', axis=1)\n",
        "\n",
        "#Encode column\n",
        "df.oe_difficulty.value_counts()\n",
        "newY = df['oe_difficulty']\n",
        "X= df['sentence']\n",
        "newY = df['oe_difficulty']\n",
        "\n",
        "#Encoded dataframe\n",
        "df_encoded= df.drop('difficulty', axis = 1)\n",
        "df_encoded\n",
        "\n",
        "#Vectorize\n",
        "text_transformer = TfidfVectorizer(ngram_range=(1, 2), lowercase=True, max_features=150000)\n",
        "X_train_text = text_transformer.fit_transform(X_train)\n",
        "X_test_text = text_transformer.transform(X_test)\n",
        "\n",
        "X_train, X_test, y_train, y_test = sklearn.model_selection.train_test_split(X, newY, test_size=0.2, random_state=0)\n"
      ],
      "metadata": {
        "id": "6742PIoRdWpd"
      },
      "execution_count": null,
      "outputs": []
    },
    {
      "cell_type": "code",
      "source": [
        "#pca = decomposition.PCA()\n",
        "#std_slc = StandardScaler()\n",
        "#logistic_Reg = linear_model.LogisticRegression()\n",
        "#pipe = Pipeline(steps=[('std_slc', std_slc),\n",
        "                           #('pca', pca),\n",
        "                           #('logistic_Reg', logistic_Reg)])\n",
        "\n",
        "#PCA\n",
        "#from sklearn.decomposition import PCA\n",
        "#pca = PCA(n_components=2)\n",
        "#pca.fit(X_train_text)\n",
        "#PCA(n_components=2)\n",
        "#print(pca.explained_variance_ratio_)\n",
        "#print(pca.singular_values_)"
      ],
      "metadata": {
        "id": "KiEWpL8BZp4h"
      },
      "execution_count": null,
      "outputs": []
    },
    {
      "cell_type": "code",
      "source": [
        "##NEW TEST\n",
        "\n",
        "#Vectorize\n",
        "texts = df['sentence']\n",
        "tfidf = TfidfVectorizer(ngram_range=(1, 1))\n",
        "features = tfidf.fit_transform(texts)\n",
        "pd.DataFrame(\n",
        "    features.todense(),\n",
        "    columns=tfidf.get_feature_names())\n",
        "\n",
        "#Transform\n",
        "text_transformer = TfidfVectorizer(ngram_range=(1, 2), lowercase=True, max_features=150000)\n",
        "X_train_text = text_transformer.fit_transform(X_train)\n",
        "X_test_text = text_transformer.transform(X_test)\n",
        "\n",
        "#Split \n",
        "X_train, X_test, y_train, y_test = sklearn.model_selection.train_test_split(X, y, test_size=0.2, random_state=0)"
      ],
      "metadata": {
        "colab": {
          "base_uri": "https://localhost:8080/"
        },
        "id": "eCd2BNvXY4DG",
        "outputId": "72ef8fd2-8e08-4418-e93d-c61e9be0285c"
      },
      "execution_count": null,
      "outputs": [
        {
          "output_type": "stream",
          "name": "stderr",
          "text": [
            "/usr/local/lib/python3.8/dist-packages/sklearn/utils/deprecation.py:87: FutureWarning: Function get_feature_names is deprecated; get_feature_names is deprecated in 1.0 and will be removed in 1.2. Please use get_feature_names_out instead.\n",
            "  warnings.warn(msg, category=FutureWarning)\n"
          ]
        }
      ]
    },
    {
      "cell_type": "code",
      "source": [
        "LR_cv = LogisticRegressionCV(solver='lbfgs', cv=10, max_iter=100, random_state = 0)\n",
        "LR_cv.fit(X_train_text, y_train)"
      ],
      "metadata": {
        "id": "HSwzwt_L0pNm"
      },
      "execution_count": null,
      "outputs": []
    },
    {
      "cell_type": "code",
      "source": [
        "LR_accur_test = LR_cv.score(X_test_text, y_test)\n",
        "LR_accur_test"
      ],
      "metadata": {
        "id": "E3qCkfbYgGBz"
      },
      "execution_count": null,
      "outputs": []
    },
    {
      "cell_type": "code",
      "source": [
        "#solver='lbfgs', \n",
        "#cv=10, \n",
        "#max_iter=500, \n",
        "#random_state = 0)\n",
        "0.5520833333333334\n",
        "\n",
        "#With vectorizer\n",
        "#solver='lbfgs', \n",
        "#cv=10, \n",
        "#max_iter=100, \n",
        "#random_state = 0)\n",
        "0.5520833333333334\n",
        "\n",
        "\n",
        "#solver='newton-cholesky', \n",
        "#cv=10\n",
        "#max_iter=100, \n",
        "#random_state = 0)\n",
        "#took to much time\n",
        "\n",
        "\n",
        "#solver='lbfgs'\n",
        "# cv=10, \n",
        "#max_iter=100, \n",
        "#random_state = 0)\n",
        "0.46458333333333335\n",
        "\n",
        "\n",
        "#Vectorize\n",
        "#Encoded Y\n",
        "#solver='lbfgs'\n",
        "# cv=10, \n",
        "#max_iter=100, \n",
        "#random_state = 0)\n",
        "0.553125\n",
        "\n",
        "#Vectorize\n",
        "#Encoded Y TRUUUUUE\n",
        "#solver='lbfgs'\n",
        "# cv=10, \n",
        "#max_iter=100, \n",
        "#random_state = 0)\n",
        "0.46458333333333335\n",
        "\n",
        "#LOG reg\n",
        "#Vectorize\n",
        "#Delete columns with intergers\n",
        "#Random_state 5\n",
        "0.471875"
      ],
      "metadata": {
        "id": "9ovRqV_5VeYB"
      },
      "execution_count": null,
      "outputs": []
    },
    {
      "cell_type": "code",
      "source": [
        "#SUBMIT THIS ONE#\n",
        "\n",
        "#TEST Support Vector Machine\n",
        "#Split \n",
        "from sklearn.model_selection import cross_val_score,KFold\n",
        "X= df['sentence']\n",
        "y= df['difficulty']\n",
        "from sklearn.feature_extraction.text import TfidfTransformer\n",
        "\n",
        "X_train, X_test, y_train, y_test = sklearn.model_selection.train_test_split(X, y, test_size=0.1, random_state=5)\n",
        "\n",
        "#Vectorize\n",
        "texts = df['sentence']\n",
        "tfidf = TfidfVectorizer(ngram_range=(1, 1))\n",
        "features = tfidf.fit_transform(texts)\n",
        "pd.DataFrame(\n",
        "    features.todense(),\n",
        "    columns=tfidf.get_feature_names())\n",
        "\n",
        "#Transform\n",
        "text_transformer = TfidfVectorizer(ngram_range=(1, 2), lowercase=True, max_features=150000)\n",
        "X_train_text = text_transformer.fit_transform(X_train)\n",
        "X_test_text = text_transformer.transform(X_test)\n",
        "\n",
        "#Split here? \n",
        "\n",
        "from sklearn.linear_model import SGDClassifier\n",
        "\n",
        "sgd = Pipeline([('vect', CountVectorizer()),\n",
        "              ('tfidf', TfidfTransformer()),\n",
        "                ('clf', SGDClassifier(loss='hinge', penalty='l2',alpha=1e-3, warm_start= True ,random_state=77777, max_iter=200, class_weight = 'balanced',learning_rate='optimal',validation_fraction = 0.5,tol=None)),\n",
        "               ])\n",
        "#kf=KFold(n_splits=5)\n",
        "\n",
        "\n",
        "sgd.fit(X_train, y_train)\n",
        "\n",
        "y_pred = sgd.predict(X_test)\n",
        "\n",
        "#accuracy 0.5229166666666667#"
      ],
      "metadata": {
        "colab": {
          "base_uri": "https://localhost:8080/"
        },
        "id": "CGD5kWY_9vog",
        "outputId": "d658b7e1-a4dd-4b10-9960-2f991aa70159"
      },
      "execution_count": null,
      "outputs": [
        {
          "output_type": "stream",
          "name": "stderr",
          "text": [
            "/usr/local/lib/python3.8/dist-packages/sklearn/utils/deprecation.py:87: FutureWarning: Function get_feature_names is deprecated; get_feature_names is deprecated in 1.0 and will be removed in 1.2. Please use get_feature_names_out instead.\n",
            "  warnings.warn(msg, category=FutureWarning)\n"
          ]
        },
        {
          "output_type": "stream",
          "name": "stdout",
          "text": [
            "accuracy 0.5229166666666667\n",
            "Cross Validation Scores are [0.45833333 0.45416667 0.45833333 0.44791667 0.43229167]\n",
            "Average Cross Validation score :0.4502083333333333\n"
          ]
        }
      ]
    },
    {
      "cell_type": "code",
      "source": [
        "print('accuracy %s' % accuracy_score(y_pred, y_test))"
      ],
      "metadata": {
        "id": "gJFljYHKl6A8",
        "outputId": "fdf01ccb-10f8-43f4-9092-4573c49885c7",
        "colab": {
          "base_uri": "https://localhost:8080/"
        }
      },
      "execution_count": null,
      "outputs": [
        {
          "output_type": "stream",
          "name": "stdout",
          "text": [
            "accuracy 0.5229166666666667\n"
          ]
        }
      ]
    },
    {
      "cell_type": "code",
      "source": [
        "#WORD 2 VEC + LOG REG\n",
        "import gensim\n",
        "from gensim.models import Word2Vec\n"
      ],
      "metadata": {
        "id": "TLGKQUshsq0k"
      },
      "execution_count": null,
      "outputs": []
    },
    {
      "cell_type": "code",
      "source": [
        "#Naive bayes test\n",
        "\n",
        "# NEW TEST NAIVE BAYES\n",
        "# Gaussian Naive Bayes Classification\n",
        "from sklearn.naive_bayes import BernoulliNB\n",
        "from sklearn.model_selection import GridSearchCV\n",
        "from sklearn.naive_bayes import GaussianNB\n",
        "from sklearn.naive_bayes import ComplementNB\n",
        "from sklearn.naive_bayes import MultinomialNB\n",
        "from sklearn.naive_bayes import CategoricalNB\n",
        "\n",
        "#Encode column\n",
        "df.oe_difficulty.value_counts()\n",
        "newY = df['oe_difficulty']\n",
        "X= df['sentence']\n",
        "newY = df['oe_difficulty']\n",
        "\n",
        "#Encoded dataframe\n",
        "df_encoded= df.drop('difficulty', axis = 1)\n",
        "df_encoded\n",
        "\n",
        "X_train, X_test, y_train, y_test = sklearn.model_selection.train_test_split(X, newY, test_size=0.1, random_state=5)\n",
        "\n",
        "#Vectorize\n",
        "text_transformer = TfidfVectorizer(ngram_range=(1, 2), lowercase=True, max_features=150000)\n",
        "X_train_text = text_transformer.fit_transform(X_train)\n",
        "X_test_text = text_transformer.transform(X_test)\n",
        "\n",
        "from sklearn.naive_bayes import MultinomialNB\n",
        "from sklearn.pipeline import Pipeline\n",
        "from sklearn.feature_extraction.text import TfidfTransformer\n",
        "\n",
        "\n",
        "nb = Pipeline([('vect', CountVectorizer()),\n",
        "               ('tfidf', TfidfTransformer()),\n",
        "               ('clf', MultinomialNB()),\n",
        "              ] )\n",
        "\n",
        "\n",
        "nb.fit(X_train, y_train)\n",
        "\n",
        "\n",
        "from sklearn.metrics import classification_report\n",
        "y_pred = nb.predict(X_test)\n",
        "\n",
        "print('accuracy %s' % accuracy_score(y_pred, y_test))\n"
      ],
      "metadata": {
        "id": "Ac2FwiKxfc3R"
      },
      "execution_count": null,
      "outputs": []
    },
    {
      "cell_type": "markdown",
      "source": [
        "#### 4.9. BERT\n",
        "\n"
      ],
      "metadata": {
        "id": "bH-5SfYm9T5a"
      }
    },
    {
      "cell_type": "code",
      "source": [
        "####################################################### RUN tututututuuu ########################################################\n",
        "##NEW TEST\n",
        "\n",
        "#Vectorize\n",
        "texts = df['sentence']\n",
        "tfidf = TfidfVectorizer(ngram_range=(1, 1))\n",
        "features = tfidf.fit_transform(texts)\n",
        "pd.DataFrame(\n",
        "    features.todense(),\n",
        "    columns=tfidf.get_feature_names())\n",
        "\n",
        "#Transform\n",
        "text_transformer = TfidfVectorizer(ngram_range=(1, 2), lowercase=True, max_features=150000)\n",
        "X_train_text = text_transformer.fit_transform(X_train)\n",
        "X_test_text = text_transformer.transform(X_test)\n",
        "\n",
        "#Split \n",
        "X_train, X_test, y_train, y_test = sklearn.model_selection.train_test_split(X, y, test_size=0.2, random_state=0)"
      ],
      "metadata": {
        "id": "ISHYXWcE_0J3",
        "outputId": "eb225fa3-43e4-48ad-a4b5-5e4185649b1e",
        "colab": {
          "base_uri": "https://localhost:8080/"
        }
      },
      "execution_count": null,
      "outputs": [
        {
          "output_type": "stream",
          "name": "stderr",
          "text": [
            "/usr/local/lib/python3.8/dist-packages/sklearn/utils/deprecation.py:87: FutureWarning: Function get_feature_names is deprecated; get_feature_names is deprecated in 1.0 and will be removed in 1.2. Please use get_feature_names_out instead.\n",
            "  warnings.warn(msg, category=FutureWarning)\n"
          ]
        }
      ]
    },
    {
      "cell_type": "code",
      "source": [
        "####################################################### RUN tututututuuu ########################################################\n",
        "\n",
        "###BERT MODEL\n",
        "\n",
        "import numpy as np\n",
        "import pandas as pd\n",
        "import torch\n",
        "import torch.nn as nn\n",
        "from sklearn.model_selection import train_test_split\n",
        "from sklearn.metrics import classification_report\n",
        "!pip install transformers\n",
        "import transformers\n",
        "from transformers import AutoModel, BertTokenizerFast\n",
        "\n",
        "# specify GPU\n",
        "device = torch.device(\"cuda\")\n",
        "\n",
        "#Import bert model\n",
        "bert = AutoModel.from_pretrained('bert-base-uncased')\n",
        "\n",
        "#Load the tokenizer\n",
        "tokenizer = BertTokenizerFast.from_pretrained('bert-base-uncased')"
      ],
      "metadata": {
        "id": "oJQN5uoJXU4B",
        "outputId": "37dc7033-c74f-43d4-e474-9795964d9f90",
        "colab": {
          "base_uri": "https://localhost:8080/",
          "height": 673,
          "referenced_widgets": [
            "937027335cbf4bfbb84db0fd3b3dc2ac",
            "c5adab679a8a407cb919b09e66d9fa4b",
            "60923b70fa8e4c5aabfd5f3bdfc6dd82",
            "d6aa9a9954bf47579eeaee61f1fe085a",
            "323b6b7557aa4cf7912e916e48625960",
            "b9b1e7ff0442449691c33718a6eafd1e",
            "393bac709a994c2f9fe391c560f0a2c7",
            "a889bdc600a140faa34365086840f4bb",
            "3957641d607a440095c5c6d37fc43d45",
            "9bd42c4efbc54746b8e0cbd5eb6331c8",
            "bdfaab296ceb4969bb01c60737675c8e",
            "d9bd9b60f0904f1f98fae543c5994e5b",
            "2f67276cf5cc40ec91b3dc31a0fd25d4",
            "915cde05d9fe4f5b882f65c54b645a6a",
            "947f7b33bd9347eda4e9aabfbe5df623",
            "382992ce7d75449191bb1048863d822c",
            "243201ff93a4403586deb965093dea97",
            "715a07a2997f4c00ba4537d2f0ef07ce",
            "c7a7c1f5965448bd8b3bead35f2f4f0c",
            "b55b5eabbbd2499f8cfb1503761aa080",
            "e69abbb32e5047e7ac468d95d1e5c3c2",
            "8dea335c70cd478ab4d7c9f224c4c1c4",
            "51963d4ac96344df8a14f404ebdc1707",
            "68686588bf51455b865385124ee8c131",
            "ec2e2bb8df6f4f9d83f44900de4c4659",
            "e2af8ecbb5724c7685a92903a105f321",
            "44636e4e968f4cb7a7e85cd86707744f",
            "78325c1d6b4044d2aa7b2e7c1bfe933a",
            "83ac6e47b40343ebbdf9f40d239d9944",
            "3000cd234eb247d6bb57877c8d0ae309",
            "fb485c63b0cf46f183c1e57fec528578",
            "45fed4c4bf71475d8a072e097f06d739",
            "daee9bd1cae0454084d25abbb348e98c",
            "5c9326bdccb94948a5c8d0cfa6529618",
            "f5a540c1702645aa864933ba108ab033",
            "53825fe1e50a4b03a7b2e47f534db06a",
            "1f041e3b2c3845788f2f775c15579462",
            "e2d47cca6f3642a28a460f59d047b2c9",
            "b66133124eef498d94d8b8df456d63a3",
            "1eec820002194f248a2cef73e0a034cd",
            "4c2d74596da248f2a6e557cdca45dc1b",
            "e87b8aff50434d17ab106bb7976ce8d9",
            "ec2749a083f74719b92a7b26ec452bee",
            "094adeacb87044b3b9367fd7e7f434bc",
            "e94e32608bc04c4496d9d8eb19920ad7",
            "cdcf0463942d4d40a4c5893a2bec0f50",
            "6ad60bcde146437682b8066050b6694e",
            "9895028be7a94755b8ef36296a9e0ed5",
            "2b20de353e054b3c9f3230f168bf26b7",
            "b98f42de04ff449a9e15e2e3e4d22820",
            "80351486346a40438289c5c1c79ed74e",
            "cb0222c5eb4249d9a6ced50f830a7cb6",
            "6b319563110f451c89e1c5934d04b32d",
            "3445d8d322e6474e850e52643bcca63a",
            "db6e5dba15ff429d9a1fa7321985c0f6"
          ]
        }
      },
      "execution_count": null,
      "outputs": [
        {
          "output_type": "stream",
          "name": "stdout",
          "text": [
            "Looking in indexes: https://pypi.org/simple, https://us-python.pkg.dev/colab-wheels/public/simple/\n",
            "Collecting transformers\n",
            "  Downloading transformers-4.25.1-py3-none-any.whl (5.8 MB)\n",
            "\u001b[K     |████████████████████████████████| 5.8 MB 5.0 MB/s \n",
            "\u001b[?25hRequirement already satisfied: tqdm>=4.27 in /usr/local/lib/python3.8/dist-packages (from transformers) (4.64.1)\n",
            "Requirement already satisfied: requests in /usr/local/lib/python3.8/dist-packages (from transformers) (2.23.0)\n",
            "Requirement already satisfied: regex!=2019.12.17 in /usr/local/lib/python3.8/dist-packages (from transformers) (2022.6.2)\n",
            "Collecting tokenizers!=0.11.3,<0.14,>=0.11.1\n",
            "  Downloading tokenizers-0.13.2-cp38-cp38-manylinux_2_17_x86_64.manylinux2014_x86_64.whl (7.6 MB)\n",
            "\u001b[K     |████████████████████████████████| 7.6 MB 67.5 MB/s \n",
            "\u001b[?25hRequirement already satisfied: pyyaml>=5.1 in /usr/local/lib/python3.8/dist-packages (from transformers) (6.0)\n",
            "Requirement already satisfied: packaging>=20.0 in /usr/local/lib/python3.8/dist-packages (from transformers) (21.3)\n",
            "Collecting huggingface-hub<1.0,>=0.10.0\n",
            "  Downloading huggingface_hub-0.11.1-py3-none-any.whl (182 kB)\n",
            "\u001b[K     |████████████████████████████████| 182 kB 76.1 MB/s \n",
            "\u001b[?25hRequirement already satisfied: filelock in /usr/local/lib/python3.8/dist-packages (from transformers) (3.8.2)\n",
            "Requirement already satisfied: numpy>=1.17 in /usr/local/lib/python3.8/dist-packages (from transformers) (1.21.6)\n",
            "Requirement already satisfied: typing-extensions>=3.7.4.3 in /usr/local/lib/python3.8/dist-packages (from huggingface-hub<1.0,>=0.10.0->transformers) (4.4.0)\n",
            "Requirement already satisfied: pyparsing!=3.0.5,>=2.0.2 in /usr/local/lib/python3.8/dist-packages (from packaging>=20.0->transformers) (3.0.9)\n",
            "Requirement already satisfied: chardet<4,>=3.0.2 in /usr/local/lib/python3.8/dist-packages (from requests->transformers) (3.0.4)\n",
            "Requirement already satisfied: idna<3,>=2.5 in /usr/local/lib/python3.8/dist-packages (from requests->transformers) (2.10)\n",
            "Requirement already satisfied: urllib3!=1.25.0,!=1.25.1,<1.26,>=1.21.1 in /usr/local/lib/python3.8/dist-packages (from requests->transformers) (1.24.3)\n",
            "Requirement already satisfied: certifi>=2017.4.17 in /usr/local/lib/python3.8/dist-packages (from requests->transformers) (2022.12.7)\n",
            "Installing collected packages: tokenizers, huggingface-hub, transformers\n",
            "Successfully installed huggingface-hub-0.11.1 tokenizers-0.13.2 transformers-4.25.1\n"
          ]
        },
        {
          "output_type": "display_data",
          "data": {
            "text/plain": [
              "Downloading:   0%|          | 0.00/570 [00:00<?, ?B/s]"
            ],
            "application/vnd.jupyter.widget-view+json": {
              "version_major": 2,
              "version_minor": 0,
              "model_id": "937027335cbf4bfbb84db0fd3b3dc2ac"
            }
          },
          "metadata": {}
        },
        {
          "output_type": "display_data",
          "data": {
            "text/plain": [
              "Downloading:   0%|          | 0.00/440M [00:00<?, ?B/s]"
            ],
            "application/vnd.jupyter.widget-view+json": {
              "version_major": 2,
              "version_minor": 0,
              "model_id": "d9bd9b60f0904f1f98fae543c5994e5b"
            }
          },
          "metadata": {}
        },
        {
          "output_type": "stream",
          "name": "stderr",
          "text": [
            "Some weights of the model checkpoint at bert-base-uncased were not used when initializing BertModel: ['cls.predictions.transform.dense.weight', 'cls.seq_relationship.bias', 'cls.predictions.transform.dense.bias', 'cls.predictions.bias', 'cls.seq_relationship.weight', 'cls.predictions.decoder.weight', 'cls.predictions.transform.LayerNorm.bias', 'cls.predictions.transform.LayerNorm.weight']\n",
            "- This IS expected if you are initializing BertModel from the checkpoint of a model trained on another task or with another architecture (e.g. initializing a BertForSequenceClassification model from a BertForPreTraining model).\n",
            "- This IS NOT expected if you are initializing BertModel from the checkpoint of a model that you expect to be exactly identical (initializing a BertForSequenceClassification model from a BertForSequenceClassification model).\n"
          ]
        },
        {
          "output_type": "display_data",
          "data": {
            "text/plain": [
              "Downloading:   0%|          | 0.00/28.0 [00:00<?, ?B/s]"
            ],
            "application/vnd.jupyter.widget-view+json": {
              "version_major": 2,
              "version_minor": 0,
              "model_id": "51963d4ac96344df8a14f404ebdc1707"
            }
          },
          "metadata": {}
        },
        {
          "output_type": "display_data",
          "data": {
            "text/plain": [
              "Downloading:   0%|          | 0.00/232k [00:00<?, ?B/s]"
            ],
            "application/vnd.jupyter.widget-view+json": {
              "version_major": 2,
              "version_minor": 0,
              "model_id": "5c9326bdccb94948a5c8d0cfa6529618"
            }
          },
          "metadata": {}
        },
        {
          "output_type": "display_data",
          "data": {
            "text/plain": [
              "Downloading:   0%|          | 0.00/466k [00:00<?, ?B/s]"
            ],
            "application/vnd.jupyter.widget-view+json": {
              "version_major": 2,
              "version_minor": 0,
              "model_id": "e94e32608bc04c4496d9d8eb19920ad7"
            }
          },
          "metadata": {}
        }
      ]
    },
    {
      "cell_type": "code",
      "source": [
        "####################################################### RUN tututututuuu ########################################################\n",
        "df_one = df.drop(['difficulty'], axis=1)\n",
        "df_one['oe_difficulty'].value_counts(normalize = True)\n",
        "df_one\n"
      ],
      "metadata": {
        "id": "S_FEeyS8keUb",
        "outputId": "3efcad5d-441d-4309-b425-06513fc9c0aa",
        "colab": {
          "base_uri": "https://localhost:8080/",
          "height": 494
        }
      },
      "execution_count": null,
      "outputs": [
        {
          "output_type": "error",
          "ename": "KeyError",
          "evalue": "ignored",
          "traceback": [
            "\u001b[0;31m---------------------------------------------------------------------------\u001b[0m",
            "\u001b[0;31mKeyError\u001b[0m                                  Traceback (most recent call last)",
            "\u001b[0;32m/usr/local/lib/python3.8/dist-packages/pandas/core/indexes/base.py\u001b[0m in \u001b[0;36mget_loc\u001b[0;34m(self, key, method, tolerance)\u001b[0m\n\u001b[1;32m   3360\u001b[0m             \u001b[0;32mtry\u001b[0m\u001b[0;34m:\u001b[0m\u001b[0;34m\u001b[0m\u001b[0;34m\u001b[0m\u001b[0m\n\u001b[0;32m-> 3361\u001b[0;31m                 \u001b[0;32mreturn\u001b[0m \u001b[0mself\u001b[0m\u001b[0;34m.\u001b[0m\u001b[0m_engine\u001b[0m\u001b[0;34m.\u001b[0m\u001b[0mget_loc\u001b[0m\u001b[0;34m(\u001b[0m\u001b[0mcasted_key\u001b[0m\u001b[0;34m)\u001b[0m\u001b[0;34m\u001b[0m\u001b[0;34m\u001b[0m\u001b[0m\n\u001b[0m\u001b[1;32m   3362\u001b[0m             \u001b[0;32mexcept\u001b[0m \u001b[0mKeyError\u001b[0m \u001b[0;32mas\u001b[0m \u001b[0merr\u001b[0m\u001b[0;34m:\u001b[0m\u001b[0;34m\u001b[0m\u001b[0;34m\u001b[0m\u001b[0m\n",
            "\u001b[0;32m/usr/local/lib/python3.8/dist-packages/pandas/_libs/index.pyx\u001b[0m in \u001b[0;36mpandas._libs.index.IndexEngine.get_loc\u001b[0;34m()\u001b[0m\n",
            "\u001b[0;32m/usr/local/lib/python3.8/dist-packages/pandas/_libs/index.pyx\u001b[0m in \u001b[0;36mpandas._libs.index.IndexEngine.get_loc\u001b[0;34m()\u001b[0m\n",
            "\u001b[0;32mpandas/_libs/hashtable_class_helper.pxi\u001b[0m in \u001b[0;36mpandas._libs.hashtable.PyObjectHashTable.get_item\u001b[0;34m()\u001b[0m\n",
            "\u001b[0;32mpandas/_libs/hashtable_class_helper.pxi\u001b[0m in \u001b[0;36mpandas._libs.hashtable.PyObjectHashTable.get_item\u001b[0;34m()\u001b[0m\n",
            "\u001b[0;31mKeyError\u001b[0m: 'oe_difficulty'",
            "\nThe above exception was the direct cause of the following exception:\n",
            "\u001b[0;31mKeyError\u001b[0m                                  Traceback (most recent call last)",
            "\u001b[0;32m<ipython-input-20-e6c239090266>\u001b[0m in \u001b[0;36m<module>\u001b[0;34m\u001b[0m\n\u001b[1;32m      1\u001b[0m \u001b[0;31m####################################################### RUN tututututuuu ########################################################\u001b[0m\u001b[0;34m\u001b[0m\u001b[0;34m\u001b[0m\u001b[0;34m\u001b[0m\u001b[0m\n\u001b[1;32m      2\u001b[0m \u001b[0mdf_one\u001b[0m \u001b[0;34m=\u001b[0m \u001b[0mdf\u001b[0m\u001b[0;34m.\u001b[0m\u001b[0mdrop\u001b[0m\u001b[0;34m(\u001b[0m\u001b[0;34m[\u001b[0m\u001b[0;34m'difficulty'\u001b[0m\u001b[0;34m]\u001b[0m\u001b[0;34m,\u001b[0m \u001b[0maxis\u001b[0m\u001b[0;34m=\u001b[0m\u001b[0;36m1\u001b[0m\u001b[0;34m)\u001b[0m\u001b[0;34m\u001b[0m\u001b[0;34m\u001b[0m\u001b[0m\n\u001b[0;32m----> 3\u001b[0;31m \u001b[0mdf_one\u001b[0m\u001b[0;34m[\u001b[0m\u001b[0;34m'oe_difficulty'\u001b[0m\u001b[0;34m]\u001b[0m\u001b[0;34m.\u001b[0m\u001b[0mvalue_counts\u001b[0m\u001b[0;34m(\u001b[0m\u001b[0mnormalize\u001b[0m \u001b[0;34m=\u001b[0m \u001b[0;32mTrue\u001b[0m\u001b[0;34m)\u001b[0m\u001b[0;34m\u001b[0m\u001b[0;34m\u001b[0m\u001b[0m\n\u001b[0m\u001b[1;32m      4\u001b[0m \u001b[0mdf_one\u001b[0m\u001b[0;34m\u001b[0m\u001b[0;34m\u001b[0m\u001b[0m\n",
            "\u001b[0;32m/usr/local/lib/python3.8/dist-packages/pandas/core/frame.py\u001b[0m in \u001b[0;36m__getitem__\u001b[0;34m(self, key)\u001b[0m\n\u001b[1;32m   3456\u001b[0m             \u001b[0;32mif\u001b[0m \u001b[0mself\u001b[0m\u001b[0;34m.\u001b[0m\u001b[0mcolumns\u001b[0m\u001b[0;34m.\u001b[0m\u001b[0mnlevels\u001b[0m \u001b[0;34m>\u001b[0m \u001b[0;36m1\u001b[0m\u001b[0;34m:\u001b[0m\u001b[0;34m\u001b[0m\u001b[0;34m\u001b[0m\u001b[0m\n\u001b[1;32m   3457\u001b[0m                 \u001b[0;32mreturn\u001b[0m \u001b[0mself\u001b[0m\u001b[0;34m.\u001b[0m\u001b[0m_getitem_multilevel\u001b[0m\u001b[0;34m(\u001b[0m\u001b[0mkey\u001b[0m\u001b[0;34m)\u001b[0m\u001b[0;34m\u001b[0m\u001b[0;34m\u001b[0m\u001b[0m\n\u001b[0;32m-> 3458\u001b[0;31m             \u001b[0mindexer\u001b[0m \u001b[0;34m=\u001b[0m \u001b[0mself\u001b[0m\u001b[0;34m.\u001b[0m\u001b[0mcolumns\u001b[0m\u001b[0;34m.\u001b[0m\u001b[0mget_loc\u001b[0m\u001b[0;34m(\u001b[0m\u001b[0mkey\u001b[0m\u001b[0;34m)\u001b[0m\u001b[0;34m\u001b[0m\u001b[0;34m\u001b[0m\u001b[0m\n\u001b[0m\u001b[1;32m   3459\u001b[0m             \u001b[0;32mif\u001b[0m \u001b[0mis_integer\u001b[0m\u001b[0;34m(\u001b[0m\u001b[0mindexer\u001b[0m\u001b[0;34m)\u001b[0m\u001b[0;34m:\u001b[0m\u001b[0;34m\u001b[0m\u001b[0;34m\u001b[0m\u001b[0m\n\u001b[1;32m   3460\u001b[0m                 \u001b[0mindexer\u001b[0m \u001b[0;34m=\u001b[0m \u001b[0;34m[\u001b[0m\u001b[0mindexer\u001b[0m\u001b[0;34m]\u001b[0m\u001b[0;34m\u001b[0m\u001b[0;34m\u001b[0m\u001b[0m\n",
            "\u001b[0;32m/usr/local/lib/python3.8/dist-packages/pandas/core/indexes/base.py\u001b[0m in \u001b[0;36mget_loc\u001b[0;34m(self, key, method, tolerance)\u001b[0m\n\u001b[1;32m   3361\u001b[0m                 \u001b[0;32mreturn\u001b[0m \u001b[0mself\u001b[0m\u001b[0;34m.\u001b[0m\u001b[0m_engine\u001b[0m\u001b[0;34m.\u001b[0m\u001b[0mget_loc\u001b[0m\u001b[0;34m(\u001b[0m\u001b[0mcasted_key\u001b[0m\u001b[0;34m)\u001b[0m\u001b[0;34m\u001b[0m\u001b[0;34m\u001b[0m\u001b[0m\n\u001b[1;32m   3362\u001b[0m             \u001b[0;32mexcept\u001b[0m \u001b[0mKeyError\u001b[0m \u001b[0;32mas\u001b[0m \u001b[0merr\u001b[0m\u001b[0;34m:\u001b[0m\u001b[0;34m\u001b[0m\u001b[0;34m\u001b[0m\u001b[0m\n\u001b[0;32m-> 3363\u001b[0;31m                 \u001b[0;32mraise\u001b[0m \u001b[0mKeyError\u001b[0m\u001b[0;34m(\u001b[0m\u001b[0mkey\u001b[0m\u001b[0;34m)\u001b[0m \u001b[0;32mfrom\u001b[0m \u001b[0merr\u001b[0m\u001b[0;34m\u001b[0m\u001b[0;34m\u001b[0m\u001b[0m\n\u001b[0m\u001b[1;32m   3364\u001b[0m \u001b[0;34m\u001b[0m\u001b[0m\n\u001b[1;32m   3365\u001b[0m         \u001b[0;32mif\u001b[0m \u001b[0mis_scalar\u001b[0m\u001b[0;34m(\u001b[0m\u001b[0mkey\u001b[0m\u001b[0;34m)\u001b[0m \u001b[0;32mand\u001b[0m \u001b[0misna\u001b[0m\u001b[0;34m(\u001b[0m\u001b[0mkey\u001b[0m\u001b[0;34m)\u001b[0m \u001b[0;32mand\u001b[0m \u001b[0;32mnot\u001b[0m \u001b[0mself\u001b[0m\u001b[0;34m.\u001b[0m\u001b[0mhasnans\u001b[0m\u001b[0;34m:\u001b[0m\u001b[0;34m\u001b[0m\u001b[0;34m\u001b[0m\u001b[0m\n",
            "\u001b[0;31mKeyError\u001b[0m: 'oe_difficulty'"
          ]
        }
      ]
    },
    {
      "cell_type": "code",
      "source": [
        "####################################################### RUN tututututuuu ########################################################\n",
        "#lenghts of messages\n",
        "df_one['oe_difficulty'] = [0 if x == 'A1'\n",
        "                   else 2 if x =='A2'\n",
        "                   else 1 if x== 'B1'\n",
        "                   else 3 if x == 'B2'\n",
        "                   else 4 if x == 'C1'\n",
        "                   else 5\n",
        "                   for x in df.difficulty]\n",
        "df.drop(labels='difficulty', axis=1)\n",
        "\n",
        "\n",
        "\n",
        "\n",
        "train_text, temp_text, train_labels, temp_labels = train_test_split(df_one['sentence'], df_one['oe_difficulty'],\n",
        "                                                                    random_state=2018,     \n",
        "                                                                    test_size=0.1, \n",
        "                                                                    stratify=df_one['oe_difficulty']) \n",
        "\n",
        "val_text, test_text, val_labels, test_labels = train_test_split(temp_text, temp_labels, \n",
        "                                                                random_state=2018, \n",
        "                                                                test_size=0.1, \n",
        "                                                                stratify=temp_labels)"
      ],
      "metadata": {
        "id": "FLiKL6NEkYGD"
      },
      "execution_count": null,
      "outputs": []
    },
    {
      "cell_type": "code",
      "source": [
        "####################################################### RUN tututututuuu ########################################################\n",
        "# get length of all the messages in the train set\n",
        "seq_len = [len(i.split()) for i in train_text]\n",
        "\n",
        "pd.Series(seq_len).hist(bins = 30)\n",
        "\n",
        "#The longest sequence message is 265\n",
        "max(seq_len)"
      ],
      "metadata": {
        "id": "zDH3a2vGlSMm",
        "outputId": "96ba47c6-92a7-446b-8061-cee0ca6f4729",
        "colab": {
          "base_uri": "https://localhost:8080/",
          "height": 282
        }
      },
      "execution_count": null,
      "outputs": [
        {
          "output_type": "execute_result",
          "data": {
            "text/plain": [
              "265"
            ]
          },
          "metadata": {},
          "execution_count": 21
        },
        {
          "output_type": "display_data",
          "data": {
            "text/plain": [
              "<Figure size 432x288 with 1 Axes>"
            ],
            "image/png": "[encoded data removed]"
          },
          "metadata": {
            "needs_background": "light"
          }
        }
      ]
    },
    {
      "cell_type": "code",
      "source": [
        "####################################################### RUN tututututuuu ########################################################\n",
        "#Tokenization \n",
        "#BERT uses Wordpiece tokenization: \n",
        "#The vocabulary is initialized with all the individual \n",
        "#characters in the language, and then the most frequent/likely combinations \n",
        "#of the existing words in the vocabulary are iteratively added.\n",
        "\n",
        "# tokenize and encode sequences in the training set\n",
        "tokens_train = tokenizer.batch_encode_plus(\n",
        "    train_text.tolist(),\n",
        "    max_length = 200,\n",
        "    pad_to_max_length=True,\n",
        "    truncation=True)\n",
        "\n",
        "# tokenize and encode sequences in the validation set\n",
        "tokens_val = tokenizer.batch_encode_plus(\n",
        "    val_text.tolist(),\n",
        "    max_length = 200,\n",
        "    pad_to_max_length=True,\n",
        "    truncation=True)\n",
        "\n",
        "# tokenize and encode sequences in the test set\n",
        "tokens_test = tokenizer.batch_encode_plus(\n",
        "    test_text.tolist(),\n",
        "    max_length = 200,\n",
        "    pad_to_max_length=True,\n",
        "    truncation=True)\n",
        "\n",
        "print(test_text)\n"
      ],
      "metadata": {
        "id": "VHz-Bcevloc7",
        "outputId": "88f5d918-fd65-4660-87df-acad3c23b22f",
        "colab": {
          "base_uri": "https://localhost:8080/"
        }
      },
      "execution_count": null,
      "outputs": [
        {
          "output_type": "stream",
          "name": "stdout",
          "text": [
            "4652                   Il a cru que nous avons eu raison.\n",
            "1513    La trap, ça reste du rap, c'est juste un petit...\n",
            "3825    Et parions que ces nouvelles technologies saur...\n",
            "4198    Pour que les actions de terrain contre la diff...\n",
            "1826                             Je vous ouvre un compte.\n",
            "7       Il est particulièrement observé chez les perso...\n",
            "229     Même sans se considérer forcément comme un \"cy...\n",
            "3602    Ils permirent ainsi, pour le meilleur et pour ...\n",
            "118     L'émigration galicienne sous-tend l'évolution ...\n",
            "1433    Il y a un an, j'ai décidé de ne plus manger de...\n",
            "2731                 Tous les lundis, c'est la même chose\n",
            "4714    Les filles de la classe, il n'y a que la mode ...\n",
            "4635    Et l'abattage d'un tiers du troupeau de Yellow...\n",
            "2559    Puis, sortant mon mouton de sa poche, il se pl...\n",
            "341     Ainsi une centaine de caméras automatiques ins...\n",
            "4118    Tous ces préparatifs rendent chaque année l'at...\n",
            "2905    Et aussi grâce à la télévision parce qu'on reg...\n",
            "4283    Chère Anna, Je ne suis pas encore prêt pour co...\n",
            "3910          Les responsables européens sont dos au mur.\n",
            "3596    \"Malheureusement, on voit souvent la capacité ...\n",
            "1440    Un ânier, son sceptre à la main, menait, en em...\n",
            "3873                    Qui a arrêté le policier voleur ?\n",
            "2460                                 Je suis nouveau ici.\n",
            "157     Une indéniable sérénité se reflétait sur ses t...\n",
            "2213    Devien-dront-ils les esclaves de la société po...\n",
            "979     Le visage comprend une oreille de chaque côté,...\n",
            "1500                               Je n'ai pas très faim.\n",
            "1113                          J'ai un frère et une soeur.\n",
            "3474    De la même manière, on assiste aujourd'hui à l...\n",
            "2433    Dans un premier temps, les locuteurs subissent...\n",
            "3294    Après avoir identifié les inconvénients de la ...\n",
            "3995    À l'aise devant la vie, séduisant, nonchalant,...\n",
            "2077    L'école de la République qui a été fondée au X...\n",
            "2986    33° à l'ombre, et 80% d'humidité, aujourd'hui,...\n",
            "4483                            L'ascenseur est en panne.\n",
            "802     Il sait bien cuisiner alors en général, il pré...\n",
            "2602                                            J'ai faim\n",
            "1574    C'est juste une petite infection, on va vous s...\n",
            "1735                                          C'est fini.\n",
            "4578    Cet expert affirme que le jeu vidéo permet un ...\n",
            "1621    Serait - ce que la vie semble d'autant plus ré...\n",
            "2724    Le monde se divise en deux catégories: ceux qu...\n",
            "3113    Je lui écrivisse la suppliai de m'accorder une...\n",
            "1251    Le courant d'air ainsi créé permet à la sueur ...\n",
            "4742    Dans le chaos qui s'ensuit, un candélabre à tr...\n",
            "956                                Il faut les fabriquer.\n",
            "2776                                        Je m'en vais.\n",
            "3430    Les policiers font remarquer qu'ils n'ont pas ...\n",
            "Name: sentence, dtype: object\n"
          ]
        },
        {
          "output_type": "stream",
          "name": "stderr",
          "text": [
            "/usr/local/lib/python3.8/dist-packages/transformers/tokenization_utils_base.py:2336: FutureWarning: The `pad_to_max_length` argument is deprecated and will be removed in a future version, use `padding=True` or `padding='longest'` to pad to the longest sequence in the batch, or use `padding='max_length'` to pad to a max length. In this case, you can give a specific length with `max_length` (e.g. `max_length=45`) or leave max_length to None to pad to the maximal input size of the model (e.g. 512 for Bert).\n",
            "  warnings.warn(\n"
          ]
        }
      ]
    },
    {
      "cell_type": "code",
      "source": [
        "####################################################### RUN tututututuuu ########################################################\n",
        "## convert lists to tensors\n",
        "\n",
        "train_seq = torch.tensor(tokens_train['input_ids'])\n",
        "train_mask = torch.tensor(tokens_train['attention_mask'])\n",
        "train_y = torch.tensor(train_labels.tolist())\n",
        "\n",
        "val_seq = torch.tensor(tokens_val['input_ids'])\n",
        "val_mask = torch.tensor(tokens_val['attention_mask'])\n",
        "val_y = torch.tensor(val_labels.tolist())\n",
        "\n",
        "test_seq = torch.tensor(tokens_test['input_ids'])\n",
        "test_mask = torch.tensor(tokens_test['attention_mask'])\n",
        "test_y = torch.tensor(test_labels.tolist())"
      ],
      "metadata": {
        "id": "ZJfqwDq5mi8F"
      },
      "execution_count": null,
      "outputs": []
    },
    {
      "cell_type": "code",
      "source": [
        "####################################################### RUN tututututuuu ########################################################\n",
        "from torch.utils.data import TensorDataset, DataLoader, RandomSampler, SequentialSampler\n",
        "\n",
        "#define a batch size\n",
        "batch_size = 1000\n",
        "\n",
        "# wrap tensors\n",
        "train_data = TensorDataset(train_seq, train_mask, train_y)\n",
        "\n",
        "# sampler for sampling the data during training\n",
        "train_sampler = RandomSampler(train_data)\n",
        "\n",
        "# dataLoader for train set\n",
        "train_dataloader = DataLoader(train_data, sampler=train_sampler, batch_size=batch_size)\n",
        "\n",
        "# wrap tensors\n",
        "val_data = TensorDataset(val_seq, val_mask, val_y)\n",
        "\n",
        "# sampler for sampling the data during training\n",
        "val_sampler = SequentialSampler(val_data)\n",
        "\n",
        "# dataLoader for validation set\n",
        "val_dataloader = DataLoader(val_data, sampler = val_sampler, batch_size=batch_size)"
      ],
      "metadata": {
        "id": "h585hUQWxllD"
      },
      "execution_count": null,
      "outputs": []
    },
    {
      "cell_type": "code",
      "source": [
        "####################################################### RUN tututututuuu ########################################################\n",
        "# freeze all the parameters\n",
        "for param in bert.parameters():\n",
        "    param.requires_grad = False"
      ],
      "metadata": {
        "id": "r2B5Y6TBxsEi"
      },
      "execution_count": null,
      "outputs": []
    },
    {
      "cell_type": "code",
      "source": [
        "####################################################### RUN tututututuuu ########################################################\n",
        "class BERT_Arch(nn.Module):\n",
        "\n",
        "    def __init__(self, bert):\n",
        "        super(BERT_Arch, self).__init__()\n",
        "        \n",
        "        self.bert = bert \n",
        "        \n",
        "        # dropout layer\n",
        "        self.dropout = nn.Dropout(0.1)\n",
        "      \n",
        "        # relu activation function\n",
        "        self.relu =  nn.ReLU()\n",
        "\n",
        "        #Longest sequence = 265\n",
        "        # dense layer 1\n",
        "        self.fc1 = nn.Linear(768,265)\n",
        "      \n",
        "        #longest sequence 265 and 6 classes\n",
        "        # dense layer 2 (Output layer)\n",
        "        \n",
        "        self.fc2 = nn.Linear(265,6)\n",
        "\n",
        "        #softmax activation function\n",
        "        self.softmax = nn.LogSoftmax(dim=1)\n",
        "\n",
        "    #define the forward pass\n",
        "    def forward(self, sent_id, mask):\n",
        "        \n",
        "        #pass the inputs to the model  \n",
        "        _, cls_hs = self.bert(sent_id, attention_mask=mask, return_dict=False)\n",
        "      \n",
        "        x = self.fc1(cls_hs)\n",
        "\n",
        "        x = self.relu(x)\n",
        "\n",
        "        x = self.dropout(x)\n",
        "\n",
        "        # output layer\n",
        "        x = self.fc2(x)\n",
        "      \n",
        "        # apply softmax activation\n",
        "        x = self.softmax(x)\n",
        "\n",
        "        return x"
      ],
      "metadata": {
        "id": "u_QzrWA4xvY1"
      },
      "execution_count": null,
      "outputs": []
    },
    {
      "cell_type": "code",
      "source": [
        "####################################################### RUN tututututuuu ########################################################\n",
        "# pass the pre-trained BERT to our define architecture\n",
        "model = BERT_Arch(bert)\n",
        "\n",
        "# push the model to GPU\n",
        "model = model.to(device)"
      ],
      "metadata": {
        "id": "cUVhhENvx0XS"
      },
      "execution_count": null,
      "outputs": []
    },
    {
      "cell_type": "code",
      "source": [
        "####################################################### RUN tututututuuu ########################################################\n",
        "# optimizer from hugging face transformers\n",
        "from transformers import AdamW\n",
        "\n",
        "# define the optimizer\n",
        "optimizer = AdamW(model.parameters(),lr = 1e-5) "
      ],
      "metadata": {
        "id": "7UYTGvLtx3Fc",
        "outputId": "bd59ffc1-fbfb-4cae-b4d5-9267c3309c1d",
        "colab": {
          "base_uri": "https://localhost:8080/"
        }
      },
      "execution_count": null,
      "outputs": [
        {
          "output_type": "stream",
          "name": "stderr",
          "text": [
            "/usr/local/lib/python3.8/dist-packages/transformers/optimization.py:306: FutureWarning: This implementation of AdamW is deprecated and will be removed in a future version. Use the PyTorch implementation torch.optim.AdamW instead, or set `no_deprecation_warning=True` to disable this warning\n",
            "  warnings.warn(\n"
          ]
        }
      ]
    },
    {
      "cell_type": "code",
      "source": [
        "####################################################### RUN tututututuuu ########################################################\n",
        "from sklearn.utils.class_weight import compute_class_weight\n",
        "\n",
        "#compute the class weights\n",
        "\n",
        "class_weights = compute_class_weight('balanced', classes= np.unique(train_labels), y= train_labels)\n",
        "\n",
        "print(\"Class Weights:\",class_weights)"
      ],
      "metadata": {
        "id": "Oqepu_WRx6BR",
        "outputId": "31b01d83-013e-4e1e-8ab6-a9647ec7bff6",
        "colab": {
          "base_uri": "https://localhost:8080/"
        }
      },
      "execution_count": null,
      "outputs": [
        {
          "output_type": "stream",
          "name": "stdout",
          "text": [
            "Class Weights: [0.98360656 1.00699301 1.00558659 1.00981767 1.00278552 0.99173554]\n"
          ]
        }
      ]
    },
    {
      "cell_type": "code",
      "source": [
        "####################################################### RUN tututututuuu ########################################################\n",
        "# converting list of class weights to a tensor\n",
        "weights= torch.tensor(class_weights,dtype=torch.float)\n",
        "\n",
        "# push to GPU\n",
        "weights = weights.to(device)\n",
        "\n",
        "# define the loss function\n",
        "cross_entropy  = nn.NLLLoss(weight=weights) \n",
        "\n",
        "# number of training epochs\n",
        "epochs = 3000"
      ],
      "metadata": {
        "id": "HiPZ8E2mCBEa"
      },
      "execution_count": null,
      "outputs": []
    },
    {
      "cell_type": "code",
      "source": [
        "####################################################### RUN tututututuuu ########################################################\n",
        "## FINE TUNE\n",
        "\n",
        "# function to train the model\n",
        "def train():\n",
        "    \n",
        "    model.train()\n",
        "    total_loss, total_accuracy = 0, 0\n",
        "  \n",
        "    # empty list to save model predictions\n",
        "    total_preds=[]\n",
        "  \n",
        "    # iterate over batches\n",
        "    for step,batch in enumerate(train_dataloader):\n",
        "        \n",
        "        # progress update after every 50 batches.\n",
        "        if step % 50 == 0 and not step == 0:\n",
        "            print('  Batch {:>5,}  of  {:>5,}.'.format(step, len(train_dataloader)))\n",
        "        \n",
        "        # push the batch to gpu\n",
        "        batch = [r.to(device) for r in batch]\n",
        " \n",
        "        sent_id, mask, labels = batch\n",
        "        print(\"ID\")\n",
        "        print(sent_id.type())\n",
        "        print(\"mask\")\n",
        "        print(mask.type())\n",
        "        # clear previously calculated gradients \n",
        "        model.zero_grad()        \n",
        "\n",
        "        # get model predictions for the current batch\n",
        "        preds = model(sent_id, mask)\n",
        "\n",
        "        # compute the loss between actual and predicted values\n",
        "        loss = cross_entropy(preds, labels)\n",
        "\n",
        "        # add on to the total loss\n",
        "        total_loss = total_loss + loss.item()\n",
        "\n",
        "        # backward pass to calculate the gradients\n",
        "        loss.backward()\n",
        "\n",
        "        # clip the the gradients to 1.0. It helps in preventing the exploding gradient problem\n",
        "        torch.nn.utils.clip_grad_norm_(model.parameters(), 1.0)\n",
        "\n",
        "        # update parameters\n",
        "        optimizer.step()\n",
        "\n",
        "        # model predictions are stored on GPU. So, push it to CPU\n",
        "        preds=preds.detach().cpu().numpy()\n",
        "\n",
        "    # append the model predictions\n",
        "    total_preds.append(preds)\n",
        "\n",
        "    # compute the training loss of the epoch\n",
        "    avg_loss = total_loss / len(train_dataloader)\n",
        "  \n",
        "      # predictions are in the form of (no. of batches, size of batch, no. of classes).\n",
        "      # reshape the predictions in form of (number of samples, no. of classes)\n",
        "    total_preds  = np.concatenate(total_preds, axis=0)\n",
        "\n",
        "    #returns the loss and predictions\n",
        "    return avg_loss, total_preds"
      ],
      "metadata": {
        "id": "HljvGTgXCHGG"
      },
      "execution_count": null,
      "outputs": []
    },
    {
      "cell_type": "code",
      "source": [
        "####################################################### RUN tututututuuu ########################################################\n",
        "# function for evaluating the model\n",
        "def evaluate():\n",
        "    \n",
        "    print(\"\\nEvaluating...\")\n",
        "  \n",
        "    # deactivate dropout layers\n",
        "    model.eval()\n",
        "\n",
        "    total_loss, total_accuracy = 0, 0\n",
        "    \n",
        "    # empty list to save the model predictions\n",
        "    total_preds = []\n",
        "\n",
        "    # iterate over batches\n",
        "    for step,batch in enumerate(val_dataloader):\n",
        "        \n",
        "        # Progress update every 50 batches.\n",
        "        if step % 50 == 0 and not step == 0:\n",
        "            \n",
        "            # Calculate elapsed time in minutes.\n",
        "            elapsed = format_time(time.time() - t0)\n",
        "            \n",
        "            # Report progress.\n",
        "            print('  Batch {:>5,}  of  {:>5,}.'.format(step, len(val_dataloader)))\n",
        "\n",
        "        # push the batch to gpu\n",
        "        batch = [t.to(device) for t in batch]\n",
        "\n",
        "        sent_id, mask, labels = batch\n",
        "\n",
        "        # deactivate autograd\n",
        "        with torch.no_grad():\n",
        "            \n",
        "            # model predictions\n",
        "            preds = model(sent_id, mask)\n",
        "\n",
        "            # compute the validation loss between actual and predicted values\n",
        "            loss = cross_entropy(preds,labels)\n",
        "\n",
        "            total_loss = total_loss + loss.item()\n",
        "\n",
        "            preds = preds.detach().cpu().numpy()\n",
        "\n",
        "            total_preds.append(preds)\n",
        "\n",
        "    # compute the validation loss of the epoch\n",
        "    avg_loss = total_loss / len(val_dataloader) \n",
        "\n",
        "    # reshape the predictions in form of (number of samples, no. of classes)\n",
        "    total_preds  = np.concatenate(total_preds, axis=0)\n",
        "\n",
        "    return avg_loss, total_preds"
      ],
      "metadata": {
        "id": "fO__50MdCK77"
      },
      "execution_count": null,
      "outputs": []
    },
    {
      "cell_type": "code",
      "source": [
        "####################################################### RUN tututututuuu ########################################################\n",
        "# set initial loss to infinite\n",
        "best_valid_loss = float('inf')\n",
        "\n",
        "# empty lists to store training and validation loss of each epoch\n",
        "train_losses=[]\n",
        "valid_losses=[]\n",
        "\n",
        "#for each epoch\n",
        "for epoch in range(epochs):\n",
        "     \n",
        "    print('\\n Epoch {:} / {:}'.format(epoch + 1, epochs))\n",
        "    \n",
        "    #train model\n",
        "    train_loss, _ = train()\n",
        "    \n",
        "    #evaluate model\n",
        "    valid_loss, _ = evaluate()\n",
        "    \n",
        "    #save the best model\n",
        "    if valid_loss < best_valid_loss:\n",
        "        best_valid_loss = valid_loss\n",
        "        torch.save(model.state_dict(), 'saved_weights.pt')\n",
        "    \n",
        "    # append training and validation loss\n",
        "    train_losses.append(train_loss)\n",
        "    valid_losses.append(valid_loss)\n",
        "    \n",
        "    print(f'\\nTraining Loss: {train_loss:.3f}')\n",
        "    print(f'Validation Loss: {valid_loss:.3f}')"
      ],
      "metadata": {
        "id": "L6LkXbVoCW9Q",
        "outputId": "8889bcae-dc54-41d1-d4bf-68a0f7742eb9",
        "colab": {
          "base_uri": "https://localhost:8080/",
          "height": 521
        }
      },
      "execution_count": null,
      "outputs": [
        {
          "output_type": "stream",
          "name": "stdout",
          "text": [
            "\n",
            " Epoch 1 / 3000\n",
            "ID\n",
            "torch.cuda.LongTensor\n",
            "mask\n",
            "torch.cuda.LongTensor\n",
            "ID\n",
            "torch.cuda.LongTensor\n",
            "mask\n",
            "torch.cuda.LongTensor\n"
          ]
        },
        {
          "output_type": "error",
          "ename": "KeyboardInterrupt",
          "evalue": "ignored",
          "traceback": [
            "\u001b[0;31m---------------------------------------------------------------------------\u001b[0m",
            "\u001b[0;31mKeyboardInterrupt\u001b[0m                         Traceback (most recent call last)",
            "\u001b[0;32m<ipython-input-54-920358b589fe>\u001b[0m in \u001b[0;36m<module>\u001b[0;34m\u001b[0m\n\u001b[1;32m     13\u001b[0m \u001b[0;34m\u001b[0m\u001b[0m\n\u001b[1;32m     14\u001b[0m     \u001b[0;31m#train model\u001b[0m\u001b[0;34m\u001b[0m\u001b[0;34m\u001b[0m\u001b[0;34m\u001b[0m\u001b[0m\n\u001b[0;32m---> 15\u001b[0;31m     \u001b[0mtrain_loss\u001b[0m\u001b[0;34m,\u001b[0m \u001b[0m_\u001b[0m \u001b[0;34m=\u001b[0m \u001b[0mtrain\u001b[0m\u001b[0;34m(\u001b[0m\u001b[0;34m)\u001b[0m\u001b[0;34m\u001b[0m\u001b[0;34m\u001b[0m\u001b[0m\n\u001b[0m\u001b[1;32m     16\u001b[0m \u001b[0;34m\u001b[0m\u001b[0m\n\u001b[1;32m     17\u001b[0m     \u001b[0;31m#evaluate model\u001b[0m\u001b[0;34m\u001b[0m\u001b[0;34m\u001b[0m\u001b[0;34m\u001b[0m\u001b[0m\n",
            "\u001b[0;32m<ipython-input-53-da9907627a9d>\u001b[0m in \u001b[0;36mtrain\u001b[0;34m()\u001b[0m\n\u001b[1;32m     36\u001b[0m \u001b[0;34m\u001b[0m\u001b[0m\n\u001b[1;32m     37\u001b[0m         \u001b[0;31m# add on to the total loss\u001b[0m\u001b[0;34m\u001b[0m\u001b[0;34m\u001b[0m\u001b[0;34m\u001b[0m\u001b[0m\n\u001b[0;32m---> 38\u001b[0;31m         \u001b[0mtotal_loss\u001b[0m \u001b[0;34m=\u001b[0m \u001b[0mtotal_loss\u001b[0m \u001b[0;34m+\u001b[0m \u001b[0mloss\u001b[0m\u001b[0;34m.\u001b[0m\u001b[0mitem\u001b[0m\u001b[0;34m(\u001b[0m\u001b[0;34m)\u001b[0m\u001b[0;34m\u001b[0m\u001b[0;34m\u001b[0m\u001b[0m\n\u001b[0m\u001b[1;32m     39\u001b[0m \u001b[0;34m\u001b[0m\u001b[0m\n\u001b[1;32m     40\u001b[0m         \u001b[0;31m# backward pass to calculate the gradients\u001b[0m\u001b[0;34m\u001b[0m\u001b[0;34m\u001b[0m\u001b[0;34m\u001b[0m\u001b[0m\n",
            "\u001b[0;31mKeyboardInterrupt\u001b[0m: "
          ]
        }
      ]
    },
    {
      "cell_type": "code",
      "source": [
        "####################################################### RUN tututututuuu ########################################################\n",
        "path = 'drive/MyDrive/saved_weights.pt'\n",
        "model.load_state_dict(torch.load(path))\n",
        "\n",
        "tokens_test = tokenizer.batch_encode_plus(\n",
        "    df['sentence'][0:20].tolist(),\n",
        "    max_length = 200,\n",
        "    pad_to_max_length=True,\n",
        "    truncation=True)\n",
        "\n",
        "#print(tokens_test)\n",
        "torch.zeros([2,4], dtype=torch.int32)\n",
        "#print(torch.Tensor(tokens_test['attention_mask']))\n",
        "\n",
        "Input_id = torch.Tensor(tokens_test['input_ids'])\n",
        "\n",
        "Input_id = Input_id.type(torch.int64)\n",
        "\n",
        "Attention_mask = torch.Tensor(tokens_test['attention_mask'])\n",
        "Attention_mask = Attention_mask.type(torch.int64)\n",
        "Input_id=Input_id.to(cuda0)\n",
        "Attention_mask=Attention_mask.to(cuda0)\n",
        "\n",
        "print(model(Input_id,Attention_mask))\n",
        "print(df.head(20))"
      ],
      "metadata": {
        "id": "6BxWEFVXDtmG",
        "outputId": "b283e64f-e52f-49ec-bcaf-d5a2050866c4",
        "colab": {
          "base_uri": "https://localhost:8080/"
        }
      },
      "execution_count": null,
      "outputs": [
        {
          "output_type": "stream",
          "name": "stdout",
          "text": [
            "tensor([[-9.2215, -5.7813, -8.0589, -1.9898, -0.5857, -1.1939],\n",
            "        [-1.8517, -1.1688, -0.7128, -3.8838, -4.8434, -4.2996],\n",
            "        [-2.0154, -1.6394, -2.0784, -1.0851, -1.8005, -3.1136],\n",
            "        [-0.8081, -1.7799, -1.1906, -3.3892, -3.9412, -3.5605],\n",
            "        [-6.3138, -3.3145, -4.7795, -1.6145, -0.9906, -0.9595],\n",
            "        [-0.6244, -2.2415, -1.1095, -4.2358, -4.9475, -4.9878],\n",
            "        [-1.4577, -1.2477, -1.3013, -2.2207, -2.7031, -3.4311],\n",
            "        [-6.5703, -2.5159, -4.4201, -1.5898, -1.3024, -0.8441],\n",
            "        [-1.1488, -1.4891, -0.9778, -3.3522, -4.1334, -3.4987],\n",
            "        [-2.3935, -1.2226, -1.3382, -1.8552, -2.3685, -2.2840],\n",
            "        [-0.3203, -2.8454, -1.6090, -4.4832, -5.9186, -6.2913],\n",
            "        [-4.8413, -2.7933, -3.8310, -0.9308, -1.0464, -1.8092],\n",
            "        [-2.4703, -1.0897, -1.4972, -1.9066, -2.2255, -2.3149],\n",
            "        [-0.9674, -1.7242, -1.6350, -1.7208, -2.9871, -4.0571],\n",
            "        [-3.1157, -1.4914, -2.0938, -1.1504, -1.8486, -2.0145],\n",
            "        [-5.8012, -2.5136, -3.7107, -1.7162, -1.2457, -0.8579],\n",
            "        [-3.0890, -1.2202, -1.9673, -1.4561, -1.9231, -1.9651],\n",
            "        [-3.6892, -1.3525, -1.9022, -1.3505, -1.8642, -1.8770],\n",
            "        [-3.9094, -1.5830, -2.4087, -1.4332, -1.6757, -1.3511],\n",
            "        [-0.5395, -2.3113, -1.1999, -4.6343, -5.5228, -5.8418]],\n",
            "       device='cuda:0', grad_fn=<LogSoftmaxBackward0>)\n",
            "    id                                           sentence difficulty\n",
            "0    0  Les coûts kilométriques réels peuvent diverger...         C1\n",
            "1    1  Le bleu, c'est ma couleur préférée mais je n'a...         A1\n",
            "2    2  Le test de niveau en français est sur le site ...         A1\n",
            "3    3           Est-ce que ton mari est aussi de Boston?         A1\n",
            "4    4  Dans les écoles de commerce, dans les couloirs...         B1\n",
            "5    5  voilà une autre histoire que j'ai beaucoup aimée.         A2\n",
            "6    6  Les médecins disent souvent qu'on doit boire u...         A2\n",
            "7    7  Il est particulièrement observé chez les perso...         B2\n",
            "8    8  J'ai retrouvé le plaisir de manger un oeuf à l...         A2\n",
            "9    9  Nous allons bien, nous habitons dans une petit...         B1\n",
            "10  10                            Bonjour et bonne année.         A1\n",
            "11  11  La presse s'est abondamment fait l'écho des ef...         B2\n",
            "12  12  Pour que le rocher s'ouvre, il faut le toucher...         B1\n",
            "13  13  J'habite une belle ville dans le nord de la Fr...         A1\n",
            "14  14  Certes il doit répondre aux goûts du consommat...         B2\n",
            "15  15  Ma timidité me quittait dès que je m'éloignais...         C2\n",
            "16  16  Je pense que fréquenter les galeries est la me...         B2\n",
            "17  17  Le soir, je me cuche tôt parce que je dois êtr...         A1\n",
            "18  18  La mère de Raphaël et de Vanessa exprime sa sa...         B2\n",
            "19  19            Je ne fais pas grand-chose à la maison.         A2\n"
          ]
        },
        {
          "output_type": "stream",
          "name": "stderr",
          "text": [
            "/usr/local/lib/python3.8/dist-packages/transformers/tokenization_utils_base.py:2336: FutureWarning: The `pad_to_max_length` argument is deprecated and will be removed in a future version, use `padding=True` or `padding='longest'` to pad to the longest sequence in the batch, or use `padding='max_length'` to pad to a max length. In this case, you can give a specific length with `max_length` (e.g. `max_length=45`) or leave max_length to None to pad to the maximal input size of the model (e.g. 512 for Bert).\n",
            "  warnings.warn(\n"
          ]
        }
      ]
    },
    {
      "cell_type": "code",
      "source": [
        "####################################################### RUN tututututuuu ########################################################\n",
        "## HERE WE MAKING PREDICTIONS\n",
        "\n",
        "# get predictions for test data\n",
        "with torch.no_grad():\n",
        "    preds = model(test_seq.to(device), test_mask.to(device))\n",
        "    preds = preds.detach().cpu().numpy()"
      ],
      "metadata": {
        "id": "-MjUxPoSDxfi"
      },
      "execution_count": null,
      "outputs": []
    },
    {
      "cell_type": "code",
      "source": [
        "####################################################### RUN tututututuuu ########################################################\n",
        "# model's performance\n",
        "preds = np.argmax(preds, axis = 1)\n",
        "\n",
        "print(classification_report(test_y, preds))"
      ],
      "metadata": {
        "id": "EiDm1VFhD1Se"
      },
      "execution_count": null,
      "outputs": []
    },
    {
      "cell_type": "code",
      "source": [
        "\n",
        "#BERT\n",
        "#Batch 32\n",
        "#epoch 10\n",
        "#Accuracy 0.26\n",
        "\n",
        "#Batch 1000\n",
        "#epoch 1000\n",
        "#Accuracy:\n",
        "# 0.32\n",
        "\n",
        "#Batch 1000\n",
        "#epoch100\n",
        "#tokenization 50\n",
        "#0.33 \n",
        "\n",
        "#Batch 10000\n",
        "#epoch 50\n",
        "#tokenization 100\n",
        "#0.35 \n",
        "\n",
        "#Batch 1000\n",
        "#epoch 300\n",
        "#tokenization 150\n",
        "#0.40 \n",
        "\n",
        "#Naive Bayes \n",
        "0.4822916666666667\n",
        "\n",
        "#Naive bayes with 90% train set\n",
        "0.4979166666666667\n",
        "\n",
        "#Naive bayes \n",
        "#Random state: 5\n",
        "#accuracy 0.5166666666666667\n",
        "\n",
        "\n",
        "#SVM\n",
        "#0.4583333333333333\n",
        "\n",
        "#SVM with 90% train set\n",
        "#random state 5\n",
        "#accuracy 0.5270833333333333\n",
        "\n",
        "#SVM with 90% train set\n",
        "#random state 77777\n",
        "#accuracy 0.5229166666666667"
      ],
      "metadata": {
        "id": "3gs9cNeNGj6z"
      },
      "execution_count": null,
      "outputs": []
    },
    {
      "cell_type": "code",
      "source": [
        "LR_cv = LogisticRegressionCV(solver='sag', cv=10, max_iter=100, random_state = 0, warm_start= bool,)"
      ],
      "metadata": {
        "id": "sktG_K5RloBT"
      },
      "execution_count": null,
      "outputs": []
    },
    {
      "cell_type": "code",
      "source": [
        "#Logistic regression 2.0\n",
        "texts = df['sentence']\n",
        "tfidf = TfidfVectorizer(ngram_range=(1, 1))\n",
        "features = tfidf.fit_transform(texts)\n",
        "df_ed=pd.DataFrame(features.todense(),columns=tfidf.get_feature_names())\n",
        "df_ed"
      ],
      "metadata": {
        "id": "78WBqGLR8rth"
      },
      "execution_count": null,
      "outputs": []
    }
  ],
  "metadata": {
    "colab": {
      "name": "Project_guidelines_2022.ipynb",
      "provenance": [],
      "machine_shape": "hm",
      "include_colab_link": true
    },
    "kernelspec": {
      "display_name": "Python 3 (ipykernel)",
      "language": "python",
      "name": "python3"
    },
    "language_info": {
      "codemirror_mode": {
        "name": "ipython",
        "version": 3
      },
      "file_extension": ".py",
      "mimetype": "text/x-python",
      "name": "python",
      "nbconvert_exporter": "python",
      "pygments_lexer": "ipython3",
      "version": "3.8.12"
    },
    "toc": {
      "base_numbering": 1,
      "nav_menu": {},
      "number_sections": true,
      "sideBar": true,
      "skip_h1_title": false,
      "title_cell": "Table of Contents",
      "title_sidebar": "Contents",
      "toc_cell": false,
      "toc_position": {},
      "toc_section_display": true,
      "toc_window_display": false
    },
    "gpuClass": "premium",
    "accelerator": "GPU",
    "widgets": {
      "application/vnd.jupyter.widget-state+json": {
        "937027335cbf4bfbb84db0fd3b3dc2ac": {
          "model_module": "@jupyter-widgets/controls",
          "model_name": "HBoxModel",
          "model_module_version": "1.5.0",
          "state": {
            "_dom_classes": [],
            "_model_module": "@jupyter-widgets/controls",
            "_model_module_version": "1.5.0",
            "_model_name": "HBoxModel",
            "_view_count": null,
            "_view_module": "@jupyter-widgets/controls",
            "_view_module_version": "1.5.0",
            "_view_name": "HBoxView",
            "box_style": "",
            "children": [
              "IPY_MODEL_c5adab679a8a407cb919b09e66d9fa4b",
              "IPY_MODEL_60923b70fa8e4c5aabfd5f3bdfc6dd82",
              "IPY_MODEL_d6aa9a9954bf47579eeaee61f1fe085a"
            ],
            "layout": "IPY_MODEL_323b6b7557aa4cf7912e916e48625960"
          }
        },
        "c5adab679a8a407cb919b09e66d9fa4b": {
          "model_module": "@jupyter-widgets/controls",
          "model_name": "HTMLModel",
          "model_module_version": "1.5.0",
          "state": {
            "_dom_classes": [],
            "_model_module": "@jupyter-widgets/controls",
            "_model_module_version": "1.5.0",
            "_model_name": "HTMLModel",
            "_view_count": null,
            "_view_module": "@jupyter-widgets/controls",
            "_view_module_version": "1.5.0",
            "_view_name": "HTMLView",
            "description": "",
            "description_tooltip": null,
            "layout": "IPY_MODEL_b9b1e7ff0442449691c33718a6eafd1e",
            "placeholder": "​",
            "style": "IPY_MODEL_393bac709a994c2f9fe391c560f0a2c7",
            "value": "Downloading: 100%"
          }
        },
        "60923b70fa8e4c5aabfd5f3bdfc6dd82": {
          "model_module": "@jupyter-widgets/controls",
          "model_name": "FloatProgressModel",
          "model_module_version": "1.5.0",
          "state": {
            "_dom_classes": [],
            "_model_module": "@jupyter-widgets/controls",
            "_model_module_version": "1.5.0",
            "_model_name": "FloatProgressModel",
            "_view_count": null,
            "_view_module": "@jupyter-widgets/controls",
            "_view_module_version": "1.5.0",
            "_view_name": "ProgressView",
            "bar_style": "success",
            "description": "",
            "description_tooltip": null,
            "layout": "IPY_MODEL_a889bdc600a140faa34365086840f4bb",
            "max": 570,
            "min": 0,
            "orientation": "horizontal",
            "style": "IPY_MODEL_3957641d607a440095c5c6d37fc43d45",
            "value": 570
          }
        },
        "d6aa9a9954bf47579eeaee61f1fe085a": {
          "model_module": "@jupyter-widgets/controls",
          "model_name": "HTMLModel",
          "model_module_version": "1.5.0",
          "state": {
            "_dom_classes": [],
            "_model_module": "@jupyter-widgets/controls",
            "_model_module_version": "1.5.0",
            "_model_name": "HTMLModel",
            "_view_count": null,
            "_view_module": "@jupyter-widgets/controls",
            "_view_module_version": "1.5.0",
            "_view_name": "HTMLView",
            "description": "",
            "description_tooltip": null,
            "layout": "IPY_MODEL_9bd42c4efbc54746b8e0cbd5eb6331c8",
            "placeholder": "​",
            "style": "IPY_MODEL_bdfaab296ceb4969bb01c60737675c8e",
            "value": " 570/570 [00:00&lt;00:00, 41.0kB/s]"
          }
        },
        "323b6b7557aa4cf7912e916e48625960": {
          "model_module": "@jupyter-widgets/base",
          "model_name": "LayoutModel",
          "model_module_version": "1.2.0",
          "state": {
            "_model_module": "@jupyter-widgets/base",
            "_model_module_version": "1.2.0",
            "_model_name": "LayoutModel",
            "_view_count": null,
            "_view_module": "@jupyter-widgets/base",
            "_view_module_version": "1.2.0",
            "_view_name": "LayoutView",
            "align_content": null,
            "align_items": null,
            "align_self": null,
            "border": null,
            "bottom": null,
            "display": null,
            "flex": null,
            "flex_flow": null,
            "grid_area": null,
            "grid_auto_columns": null,
            "grid_auto_flow": null,
            "grid_auto_rows": null,
            "grid_column": null,
            "grid_gap": null,
            "grid_row": null,
            "grid_template_areas": null,
            "grid_template_columns": null,
            "grid_template_rows": null,
            "height": null,
            "justify_content": null,
            "justify_items": null,
            "left": null,
            "margin": null,
            "max_height": null,
            "max_width": null,
            "min_height": null,
            "min_width": null,
            "object_fit": null,
            "object_position": null,
            "order": null,
            "overflow": null,
            "overflow_x": null,
            "overflow_y": null,
            "padding": null,
            "right": null,
            "top": null,
            "visibility": null,
            "width": null
          }
        },
        "b9b1e7ff0442449691c33718a6eafd1e": {
          "model_module": "@jupyter-widgets/base",
          "model_name": "LayoutModel",
          "model_module_version": "1.2.0",
          "state": {
            "_model_module": "@jupyter-widgets/base",
            "_model_module_version": "1.2.0",
            "_model_name": "LayoutModel",
            "_view_count": null,
            "_view_module": "@jupyter-widgets/base",
            "_view_module_version": "1.2.0",
            "_view_name": "LayoutView",
            "align_content": null,
            "align_items": null,
            "align_self": null,
            "border": null,
            "bottom": null,
            "display": null,
            "flex": null,
            "flex_flow": null,
            "grid_area": null,
            "grid_auto_columns": null,
            "grid_auto_flow": null,
            "grid_auto_rows": null,
            "grid_column": null,
            "grid_gap": null,
            "grid_row": null,
            "grid_template_areas": null,
            "grid_template_columns": null,
            "grid_template_rows": null,
            "height": null,
            "justify_content": null,
            "justify_items": null,
            "left": null,
            "margin": null,
            "max_height": null,
            "max_width": null,
            "min_height": null,
            "min_width": null,
            "object_fit": null,
            "object_position": null,
            "order": null,
            "overflow": null,
            "overflow_x": null,
            "overflow_y": null,
            "padding": null,
            "right": null,
            "top": null,
            "visibility": null,
            "width": null
          }
        },
        "393bac709a994c2f9fe391c560f0a2c7": {
          "model_module": "@jupyter-widgets/controls",
          "model_name": "DescriptionStyleModel",
          "model_module_version": "1.5.0",
          "state": {
            "_model_module": "@jupyter-widgets/controls",
            "_model_module_version": "1.5.0",
            "_model_name": "DescriptionStyleModel",
            "_view_count": null,
            "_view_module": "@jupyter-widgets/base",
            "_view_module_version": "1.2.0",
            "_view_name": "StyleView",
            "description_width": ""
          }
        },
        "a889bdc600a140faa34365086840f4bb": {
          "model_module": "@jupyter-widgets/base",
          "model_name": "LayoutModel",
          "model_module_version": "1.2.0",
          "state": {
            "_model_module": "@jupyter-widgets/base",
            "_model_module_version": "1.2.0",
            "_model_name": "LayoutModel",
            "_view_count": null,
            "_view_module": "@jupyter-widgets/base",
            "_view_module_version": "1.2.0",
            "_view_name": "LayoutView",
            "align_content": null,
            "align_items": null,
            "align_self": null,
            "border": null,
            "bottom": null,
            "display": null,
            "flex": null,
            "flex_flow": null,
            "grid_area": null,
            "grid_auto_columns": null,
            "grid_auto_flow": null,
            "grid_auto_rows": null,
            "grid_column": null,
            "grid_gap": null,
            "grid_row": null,
            "grid_template_areas": null,
            "grid_template_columns": null,
            "grid_template_rows": null,
            "height": null,
            "justify_content": null,
            "justify_items": null,
            "left": null,
            "margin": null,
            "max_height": null,
            "max_width": null,
            "min_height": null,
            "min_width": null,
            "object_fit": null,
            "object_position": null,
            "order": null,
            "overflow": null,
            "overflow_x": null,
            "overflow_y": null,
            "padding": null,
            "right": null,
            "top": null,
            "visibility": null,
            "width": null
          }
        },
        "3957641d607a440095c5c6d37fc43d45": {
          "model_module": "@jupyter-widgets/controls",
          "model_name": "ProgressStyleModel",
          "model_module_version": "1.5.0",
          "state": {
            "_model_module": "@jupyter-widgets/controls",
            "_model_module_version": "1.5.0",
            "_model_name": "ProgressStyleModel",
            "_view_count": null,
            "_view_module": "@jupyter-widgets/base",
            "_view_module_version": "1.2.0",
            "_view_name": "StyleView",
            "bar_color": null,
            "description_width": ""
          }
        },
        "9bd42c4efbc54746b8e0cbd5eb6331c8": {
          "model_module": "@jupyter-widgets/base",
          "model_name": "LayoutModel",
          "model_module_version": "1.2.0",
          "state": {
            "_model_module": "@jupyter-widgets/base",
            "_model_module_version": "1.2.0",
            "_model_name": "LayoutModel",
            "_view_count": null,
            "_view_module": "@jupyter-widgets/base",
            "_view_module_version": "1.2.0",
            "_view_name": "LayoutView",
            "align_content": null,
            "align_items": null,
            "align_self": null,
            "border": null,
            "bottom": null,
            "display": null,
            "flex": null,
            "flex_flow": null,
            "grid_area": null,
            "grid_auto_columns": null,
            "grid_auto_flow": null,
            "grid_auto_rows": null,
            "grid_column": null,
            "grid_gap": null,
            "grid_row": null,
            "grid_template_areas": null,
            "grid_template_columns": null,
            "grid_template_rows": null,
            "height": null,
            "justify_content": null,
            "justify_items": null,
            "left": null,
            "margin": null,
            "max_height": null,
            "max_width": null,
            "min_height": null,
            "min_width": null,
            "object_fit": null,
            "object_position": null,
            "order": null,
            "overflow": null,
            "overflow_x": null,
            "overflow_y": null,
            "padding": null,
            "right": null,
            "top": null,
            "visibility": null,
            "width": null
          }
        },
        "bdfaab296ceb4969bb01c60737675c8e": {
          "model_module": "@jupyter-widgets/controls",
          "model_name": "DescriptionStyleModel",
          "model_module_version": "1.5.0",
          "state": {
            "_model_module": "@jupyter-widgets/controls",
            "_model_module_version": "1.5.0",
            "_model_name": "DescriptionStyleModel",
            "_view_count": null,
            "_view_module": "@jupyter-widgets/base",
            "_view_module_version": "1.2.0",
            "_view_name": "StyleView",
            "description_width": ""
          }
        },
        "d9bd9b60f0904f1f98fae543c5994e5b": {
          "model_module": "@jupyter-widgets/controls",
          "model_name": "HBoxModel",
          "model_module_version": "1.5.0",
          "state": {
            "_dom_classes": [],
            "_model_module": "@jupyter-widgets/controls",
            "_model_module_version": "1.5.0",
            "_model_name": "HBoxModel",
            "_view_count": null,
            "_view_module": "@jupyter-widgets/controls",
            "_view_module_version": "1.5.0",
            "_view_name": "HBoxView",
            "box_style": "",
            "children": [
              "IPY_MODEL_2f67276cf5cc40ec91b3dc31a0fd25d4",
              "IPY_MODEL_915cde05d9fe4f5b882f65c54b645a6a",
              "IPY_MODEL_947f7b33bd9347eda4e9aabfbe5df623"
            ],
            "layout": "IPY_MODEL_382992ce7d75449191bb1048863d822c"
          }
        },
        "2f67276cf5cc40ec91b3dc31a0fd25d4": {
          "model_module": "@jupyter-widgets/controls",
          "model_name": "HTMLModel",
          "model_module_version": "1.5.0",
          "state": {
            "_dom_classes": [],
            "_model_module": "@jupyter-widgets/controls",
            "_model_module_version": "1.5.0",
            "_model_name": "HTMLModel",
            "_view_count": null,
            "_view_module": "@jupyter-widgets/controls",
            "_view_module_version": "1.5.0",
            "_view_name": "HTMLView",
            "description": "",
            "description_tooltip": null,
            "layout": "IPY_MODEL_243201ff93a4403586deb965093dea97",
            "placeholder": "​",
            "style": "IPY_MODEL_715a07a2997f4c00ba4537d2f0ef07ce",
            "value": "Downloading: 100%"
          }
        },
        "915cde05d9fe4f5b882f65c54b645a6a": {
          "model_module": "@jupyter-widgets/controls",
          "model_name": "FloatProgressModel",
          "model_module_version": "1.5.0",
          "state": {
            "_dom_classes": [],
            "_model_module": "@jupyter-widgets/controls",
            "_model_module_version": "1.5.0",
            "_model_name": "FloatProgressModel",
            "_view_count": null,
            "_view_module": "@jupyter-widgets/controls",
            "_view_module_version": "1.5.0",
            "_view_name": "ProgressView",
            "bar_style": "success",
            "description": "",
            "description_tooltip": null,
            "layout": "IPY_MODEL_c7a7c1f5965448bd8b3bead35f2f4f0c",
            "max": 440473133,
            "min": 0,
            "orientation": "horizontal",
            "style": "IPY_MODEL_b55b5eabbbd2499f8cfb1503761aa080",
            "value": 440473133
          }
        },
        "947f7b33bd9347eda4e9aabfbe5df623": {
          "model_module": "@jupyter-widgets/controls",
          "model_name": "HTMLModel",
          "model_module_version": "1.5.0",
          "state": {
            "_dom_classes": [],
            "_model_module": "@jupyter-widgets/controls",
            "_model_module_version": "1.5.0",
            "_model_name": "HTMLModel",
            "_view_count": null,
            "_view_module": "@jupyter-widgets/controls",
            "_view_module_version": "1.5.0",
            "_view_name": "HTMLView",
            "description": "",
            "description_tooltip": null,
            "layout": "IPY_MODEL_e69abbb32e5047e7ac468d95d1e5c3c2",
            "placeholder": "​",
            "style": "IPY_MODEL_8dea335c70cd478ab4d7c9f224c4c1c4",
            "value": " 440M/440M [00:05&lt;00:00, 77.2MB/s]"
          }
        },
        "382992ce7d75449191bb1048863d822c": {
          "model_module": "@jupyter-widgets/base",
          "model_name": "LayoutModel",
          "model_module_version": "1.2.0",
          "state": {
            "_model_module": "@jupyter-widgets/base",
            "_model_module_version": "1.2.0",
            "_model_name": "LayoutModel",
            "_view_count": null,
            "_view_module": "@jupyter-widgets/base",
            "_view_module_version": "1.2.0",
            "_view_name": "LayoutView",
            "align_content": null,
            "align_items": null,
            "align_self": null,
            "border": null,
            "bottom": null,
            "display": null,
            "flex": null,
            "flex_flow": null,
            "grid_area": null,
            "grid_auto_columns": null,
            "grid_auto_flow": null,
            "grid_auto_rows": null,
            "grid_column": null,
            "grid_gap": null,
            "grid_row": null,
            "grid_template_areas": null,
            "grid_template_columns": null,
            "grid_template_rows": null,
            "height": null,
            "justify_content": null,
            "justify_items": null,
            "left": null,
            "margin": null,
            "max_height": null,
            "max_width": null,
            "min_height": null,
            "min_width": null,
            "object_fit": null,
            "object_position": null,
            "order": null,
            "overflow": null,
            "overflow_x": null,
            "overflow_y": null,
            "padding": null,
            "right": null,
            "top": null,
            "visibility": null,
            "width": null
          }
        },
        "243201ff93a4403586deb965093dea97": {
          "model_module": "@jupyter-widgets/base",
          "model_name": "LayoutModel",
          "model_module_version": "1.2.0",
          "state": {
            "_model_module": "@jupyter-widgets/base",
            "_model_module_version": "1.2.0",
            "_model_name": "LayoutModel",
            "_view_count": null,
            "_view_module": "@jupyter-widgets/base",
            "_view_module_version": "1.2.0",
            "_view_name": "LayoutView",
            "align_content": null,
            "align_items": null,
            "align_self": null,
            "border": null,
            "bottom": null,
            "display": null,
            "flex": null,
            "flex_flow": null,
            "grid_area": null,
            "grid_auto_columns": null,
            "grid_auto_flow": null,
            "grid_auto_rows": null,
            "grid_column": null,
            "grid_gap": null,
            "grid_row": null,
            "grid_template_areas": null,
            "grid_template_columns": null,
            "grid_template_rows": null,
            "height": null,
            "justify_content": null,
            "justify_items": null,
            "left": null,
            "margin": null,
            "max_height": null,
            "max_width": null,
            "min_height": null,
            "min_width": null,
            "object_fit": null,
            "object_position": null,
            "order": null,
            "overflow": null,
            "overflow_x": null,
            "overflow_y": null,
            "padding": null,
            "right": null,
            "top": null,
            "visibility": null,
            "width": null
          }
        },
        "715a07a2997f4c00ba4537d2f0ef07ce": {
          "model_module": "@jupyter-widgets/controls",
          "model_name": "DescriptionStyleModel",
          "model_module_version": "1.5.0",
          "state": {
            "_model_module": "@jupyter-widgets/controls",
            "_model_module_version": "1.5.0",
            "_model_name": "DescriptionStyleModel",
            "_view_count": null,
            "_view_module": "@jupyter-widgets/base",
            "_view_module_version": "1.2.0",
            "_view_name": "StyleView",
            "description_width": ""
          }
        },
        "c7a7c1f5965448bd8b3bead35f2f4f0c": {
          "model_module": "@jupyter-widgets/base",
          "model_name": "LayoutModel",
          "model_module_version": "1.2.0",
          "state": {
            "_model_module": "@jupyter-widgets/base",
            "_model_module_version": "1.2.0",
            "_model_name": "LayoutModel",
            "_view_count": null,
            "_view_module": "@jupyter-widgets/base",
            "_view_module_version": "1.2.0",
            "_view_name": "LayoutView",
            "align_content": null,
            "align_items": null,
            "align_self": null,
            "border": null,
            "bottom": null,
            "display": null,
            "flex": null,
            "flex_flow": null,
            "grid_area": null,
            "grid_auto_columns": null,
            "grid_auto_flow": null,
            "grid_auto_rows": null,
            "grid_column": null,
            "grid_gap": null,
            "grid_row": null,
            "grid_template_areas": null,
            "grid_template_columns": null,
            "grid_template_rows": null,
            "height": null,
            "justify_content": null,
            "justify_items": null,
            "left": null,
            "margin": null,
            "max_height": null,
            "max_width": null,
            "min_height": null,
            "min_width": null,
            "object_fit": null,
            "object_position": null,
            "order": null,
            "overflow": null,
            "overflow_x": null,
            "overflow_y": null,
            "padding": null,
            "right": null,
            "top": null,
            "visibility": null,
            "width": null
          }
        },
        "b55b5eabbbd2499f8cfb1503761aa080": {
          "model_module": "@jupyter-widgets/controls",
          "model_name": "ProgressStyleModel",
          "model_module_version": "1.5.0",
          "state": {
            "_model_module": "@jupyter-widgets/controls",
            "_model_module_version": "1.5.0",
            "_model_name": "ProgressStyleModel",
            "_view_count": null,
            "_view_module": "@jupyter-widgets/base",
            "_view_module_version": "1.2.0",
            "_view_name": "StyleView",
            "bar_color": null,
            "description_width": ""
          }
        },
        "e69abbb32e5047e7ac468d95d1e5c3c2": {
          "model_module": "@jupyter-widgets/base",
          "model_name": "LayoutModel",
          "model_module_version": "1.2.0",
          "state": {
            "_model_module": "@jupyter-widgets/base",
            "_model_module_version": "1.2.0",
            "_model_name": "LayoutModel",
            "_view_count": null,
            "_view_module": "@jupyter-widgets/base",
            "_view_module_version": "1.2.0",
            "_view_name": "LayoutView",
            "align_content": null,
            "align_items": null,
            "align_self": null,
            "border": null,
            "bottom": null,
            "display": null,
            "flex": null,
            "flex_flow": null,
            "grid_area": null,
            "grid_auto_columns": null,
            "grid_auto_flow": null,
            "grid_auto_rows": null,
            "grid_column": null,
            "grid_gap": null,
            "grid_row": null,
            "grid_template_areas": null,
            "grid_template_columns": null,
            "grid_template_rows": null,
            "height": null,
            "justify_content": null,
            "justify_items": null,
            "left": null,
            "margin": null,
            "max_height": null,
            "max_width": null,
            "min_height": null,
            "min_width": null,
            "object_fit": null,
            "object_position": null,
            "order": null,
            "overflow": null,
            "overflow_x": null,
            "overflow_y": null,
            "padding": null,
            "right": null,
            "top": null,
            "visibility": null,
            "width": null
          }
        },
        "8dea335c70cd478ab4d7c9f224c4c1c4": {
          "model_module": "@jupyter-widgets/controls",
          "model_name": "DescriptionStyleModel",
          "model_module_version": "1.5.0",
          "state": {
            "_model_module": "@jupyter-widgets/controls",
            "_model_module_version": "1.5.0",
            "_model_name": "DescriptionStyleModel",
            "_view_count": null,
            "_view_module": "@jupyter-widgets/base",
            "_view_module_version": "1.2.0",
            "_view_name": "StyleView",
            "description_width": ""
          }
        },
        "51963d4ac96344df8a14f404ebdc1707": {
          "model_module": "@jupyter-widgets/controls",
          "model_name": "HBoxModel",
          "model_module_version": "1.5.0",
          "state": {
            "_dom_classes": [],
            "_model_module": "@jupyter-widgets/controls",
            "_model_module_version": "1.5.0",
            "_model_name": "HBoxModel",
            "_view_count": null,
            "_view_module": "@jupyter-widgets/controls",
            "_view_module_version": "1.5.0",
            "_view_name": "HBoxView",
            "box_style": "",
            "children": [
              "IPY_MODEL_68686588bf51455b865385124ee8c131",
              "IPY_MODEL_ec2e2bb8df6f4f9d83f44900de4c4659",
              "IPY_MODEL_e2af8ecbb5724c7685a92903a105f321"
            ],
            "layout": "IPY_MODEL_44636e4e968f4cb7a7e85cd86707744f"
          }
        },
        "68686588bf51455b865385124ee8c131": {
          "model_module": "@jupyter-widgets/controls",
          "model_name": "HTMLModel",
          "model_module_version": "1.5.0",
          "state": {
            "_dom_classes": [],
            "_model_module": "@jupyter-widgets/controls",
            "_model_module_version": "1.5.0",
            "_model_name": "HTMLModel",
            "_view_count": null,
            "_view_module": "@jupyter-widgets/controls",
            "_view_module_version": "1.5.0",
            "_view_name": "HTMLView",
            "description": "",
            "description_tooltip": null,
            "layout": "IPY_MODEL_78325c1d6b4044d2aa7b2e7c1bfe933a",
            "placeholder": "​",
            "style": "IPY_MODEL_83ac6e47b40343ebbdf9f40d239d9944",
            "value": "Downloading: 100%"
          }
        },
        "ec2e2bb8df6f4f9d83f44900de4c4659": {
          "model_module": "@jupyter-widgets/controls",
          "model_name": "FloatProgressModel",
          "model_module_version": "1.5.0",
          "state": {
            "_dom_classes": [],
            "_model_module": "@jupyter-widgets/controls",
            "_model_module_version": "1.5.0",
            "_model_name": "FloatProgressModel",
            "_view_count": null,
            "_view_module": "@jupyter-widgets/controls",
            "_view_module_version": "1.5.0",
            "_view_name": "ProgressView",
            "bar_style": "success",
            "description": "",
            "description_tooltip": null,
            "layout": "IPY_MODEL_3000cd234eb247d6bb57877c8d0ae309",
            "max": 28,
            "min": 0,
            "orientation": "horizontal",
            "style": "IPY_MODEL_fb485c63b0cf46f183c1e57fec528578",
            "value": 28
          }
        },
        "e2af8ecbb5724c7685a92903a105f321": {
          "model_module": "@jupyter-widgets/controls",
          "model_name": "HTMLModel",
          "model_module_version": "1.5.0",
          "state": {
            "_dom_classes": [],
            "_model_module": "@jupyter-widgets/controls",
            "_model_module_version": "1.5.0",
            "_model_name": "HTMLModel",
            "_view_count": null,
            "_view_module": "@jupyter-widgets/controls",
            "_view_module_version": "1.5.0",
            "_view_name": "HTMLView",
            "description": "",
            "description_tooltip": null,
            "layout": "IPY_MODEL_45fed4c4bf71475d8a072e097f06d739",
            "placeholder": "​",
            "style": "IPY_MODEL_daee9bd1cae0454084d25abbb348e98c",
            "value": " 28.0/28.0 [00:00&lt;00:00, 2.17kB/s]"
          }
        },
        "44636e4e968f4cb7a7e85cd86707744f": {
          "model_module": "@jupyter-widgets/base",
          "model_name": "LayoutModel",
          "model_module_version": "1.2.0",
          "state": {
            "_model_module": "@jupyter-widgets/base",
            "_model_module_version": "1.2.0",
            "_model_name": "LayoutModel",
            "_view_count": null,
            "_view_module": "@jupyter-widgets/base",
            "_view_module_version": "1.2.0",
            "_view_name": "LayoutView",
            "align_content": null,
            "align_items": null,
            "align_self": null,
            "border": null,
            "bottom": null,
            "display": null,
            "flex": null,
            "flex_flow": null,
            "grid_area": null,
            "grid_auto_columns": null,
            "grid_auto_flow": null,
            "grid_auto_rows": null,
            "grid_column": null,
            "grid_gap": null,
            "grid_row": null,
            "grid_template_areas": null,
            "grid_template_columns": null,
            "grid_template_rows": null,
            "height": null,
            "justify_content": null,
            "justify_items": null,
            "left": null,
            "margin": null,
            "max_height": null,
            "max_width": null,
            "min_height": null,
            "min_width": null,
            "object_fit": null,
            "object_position": null,
            "order": null,
            "overflow": null,
            "overflow_x": null,
            "overflow_y": null,
            "padding": null,
            "right": null,
            "top": null,
            "visibility": null,
            "width": null
          }
        },
        "78325c1d6b4044d2aa7b2e7c1bfe933a": {
          "model_module": "@jupyter-widgets/base",
          "model_name": "LayoutModel",
          "model_module_version": "1.2.0",
          "state": {
            "_model_module": "@jupyter-widgets/base",
            "_model_module_version": "1.2.0",
            "_model_name": "LayoutModel",
            "_view_count": null,
            "_view_module": "@jupyter-widgets/base",
            "_view_module_version": "1.2.0",
            "_view_name": "LayoutView",
            "align_content": null,
            "align_items": null,
            "align_self": null,
            "border": null,
            "bottom": null,
            "display": null,
            "flex": null,
            "flex_flow": null,
            "grid_area": null,
            "grid_auto_columns": null,
            "grid_auto_flow": null,
            "grid_auto_rows": null,
            "grid_column": null,
            "grid_gap": null,
            "grid_row": null,
            "grid_template_areas": null,
            "grid_template_columns": null,
            "grid_template_rows": null,
            "height": null,
            "justify_content": null,
            "justify_items": null,
            "left": null,
            "margin": null,
            "max_height": null,
            "max_width": null,
            "min_height": null,
            "min_width": null,
            "object_fit": null,
            "object_position": null,
            "order": null,
            "overflow": null,
            "overflow_x": null,
            "overflow_y": null,
            "padding": null,
            "right": null,
            "top": null,
            "visibility": null,
            "width": null
          }
        },
        "83ac6e47b40343ebbdf9f40d239d9944": {
          "model_module": "@jupyter-widgets/controls",
          "model_name": "DescriptionStyleModel",
          "model_module_version": "1.5.0",
          "state": {
            "_model_module": "@jupyter-widgets/controls",
            "_model_module_version": "1.5.0",
            "_model_name": "DescriptionStyleModel",
            "_view_count": null,
            "_view_module": "@jupyter-widgets/base",
            "_view_module_version": "1.2.0",
            "_view_name": "StyleView",
            "description_width": ""
          }
        },
        "3000cd234eb247d6bb57877c8d0ae309": {
          "model_module": "@jupyter-widgets/base",
          "model_name": "LayoutModel",
          "model_module_version": "1.2.0",
          "state": {
            "_model_module": "@jupyter-widgets/base",
            "_model_module_version": "1.2.0",
            "_model_name": "LayoutModel",
            "_view_count": null,
            "_view_module": "@jupyter-widgets/base",
            "_view_module_version": "1.2.0",
            "_view_name": "LayoutView",
            "align_content": null,
            "align_items": null,
            "align_self": null,
            "border": null,
            "bottom": null,
            "display": null,
            "flex": null,
            "flex_flow": null,
            "grid_area": null,
            "grid_auto_columns": null,
            "grid_auto_flow": null,
            "grid_auto_rows": null,
            "grid_column": null,
            "grid_gap": null,
            "grid_row": null,
            "grid_template_areas": null,
            "grid_template_columns": null,
            "grid_template_rows": null,
            "height": null,
            "justify_content": null,
            "justify_items": null,
            "left": null,
            "margin": null,
            "max_height": null,
            "max_width": null,
            "min_height": null,
            "min_width": null,
            "object_fit": null,
            "object_position": null,
            "order": null,
            "overflow": null,
            "overflow_x": null,
            "overflow_y": null,
            "padding": null,
            "right": null,
            "top": null,
            "visibility": null,
            "width": null
          }
        },
        "fb485c63b0cf46f183c1e57fec528578": {
          "model_module": "@jupyter-widgets/controls",
          "model_name": "ProgressStyleModel",
          "model_module_version": "1.5.0",
          "state": {
            "_model_module": "@jupyter-widgets/controls",
            "_model_module_version": "1.5.0",
            "_model_name": "ProgressStyleModel",
            "_view_count": null,
            "_view_module": "@jupyter-widgets/base",
            "_view_module_version": "1.2.0",
            "_view_name": "StyleView",
            "bar_color": null,
            "description_width": ""
          }
        },
        "45fed4c4bf71475d8a072e097f06d739": {
          "model_module": "@jupyter-widgets/base",
          "model_name": "LayoutModel",
          "model_module_version": "1.2.0",
          "state": {
            "_model_module": "@jupyter-widgets/base",
            "_model_module_version": "1.2.0",
            "_model_name": "LayoutModel",
            "_view_count": null,
            "_view_module": "@jupyter-widgets/base",
            "_view_module_version": "1.2.0",
            "_view_name": "LayoutView",
            "align_content": null,
            "align_items": null,
            "align_self": null,
            "border": null,
            "bottom": null,
            "display": null,
            "flex": null,
            "flex_flow": null,
            "grid_area": null,
            "grid_auto_columns": null,
            "grid_auto_flow": null,
            "grid_auto_rows": null,
            "grid_column": null,
            "grid_gap": null,
            "grid_row": null,
            "grid_template_areas": null,
            "grid_template_columns": null,
            "grid_template_rows": null,
            "height": null,
            "justify_content": null,
            "justify_items": null,
            "left": null,
            "margin": null,
            "max_height": null,
            "max_width": null,
            "min_height": null,
            "min_width": null,
            "object_fit": null,
            "object_position": null,
            "order": null,
            "overflow": null,
            "overflow_x": null,
            "overflow_y": null,
            "padding": null,
            "right": null,
            "top": null,
            "visibility": null,
            "width": null
          }
        },
        "daee9bd1cae0454084d25abbb348e98c": {
          "model_module": "@jupyter-widgets/controls",
          "model_name": "DescriptionStyleModel",
          "model_module_version": "1.5.0",
          "state": {
            "_model_module": "@jupyter-widgets/controls",
            "_model_module_version": "1.5.0",
            "_model_name": "DescriptionStyleModel",
            "_view_count": null,
            "_view_module": "@jupyter-widgets/base",
            "_view_module_version": "1.2.0",
            "_view_name": "StyleView",
            "description_width": ""
          }
        },
        "5c9326bdccb94948a5c8d0cfa6529618": {
          "model_module": "@jupyter-widgets/controls",
          "model_name": "HBoxModel",
          "model_module_version": "1.5.0",
          "state": {
            "_dom_classes": [],
            "_model_module": "@jupyter-widgets/controls",
            "_model_module_version": "1.5.0",
            "_model_name": "HBoxModel",
            "_view_count": null,
            "_view_module": "@jupyter-widgets/controls",
            "_view_module_version": "1.5.0",
            "_view_name": "HBoxView",
            "box_style": "",
            "children": [
              "IPY_MODEL_f5a540c1702645aa864933ba108ab033",
              "IPY_MODEL_53825fe1e50a4b03a7b2e47f534db06a",
              "IPY_MODEL_1f041e3b2c3845788f2f775c15579462"
            ],
            "layout": "IPY_MODEL_e2d47cca6f3642a28a460f59d047b2c9"
          }
        },
        "f5a540c1702645aa864933ba108ab033": {
          "model_module": "@jupyter-widgets/controls",
          "model_name": "HTMLModel",
          "model_module_version": "1.5.0",
          "state": {
            "_dom_classes": [],
            "_model_module": "@jupyter-widgets/controls",
            "_model_module_version": "1.5.0",
            "_model_name": "HTMLModel",
            "_view_count": null,
            "_view_module": "@jupyter-widgets/controls",
            "_view_module_version": "1.5.0",
            "_view_name": "HTMLView",
            "description": "",
            "description_tooltip": null,
            "layout": "IPY_MODEL_b66133124eef498d94d8b8df456d63a3",
            "placeholder": "​",
            "style": "IPY_MODEL_1eec820002194f248a2cef73e0a034cd",
            "value": "Downloading: 100%"
          }
        },
        "53825fe1e50a4b03a7b2e47f534db06a": {
          "model_module": "@jupyter-widgets/controls",
          "model_name": "FloatProgressModel",
          "model_module_version": "1.5.0",
          "state": {
            "_dom_classes": [],
            "_model_module": "@jupyter-widgets/controls",
            "_model_module_version": "1.5.0",
            "_model_name": "FloatProgressModel",
            "_view_count": null,
            "_view_module": "@jupyter-widgets/controls",
            "_view_module_version": "1.5.0",
            "_view_name": "ProgressView",
            "bar_style": "success",
            "description": "",
            "description_tooltip": null,
            "layout": "IPY_MODEL_4c2d74596da248f2a6e557cdca45dc1b",
            "max": 231508,
            "min": 0,
            "orientation": "horizontal",
            "style": "IPY_MODEL_e87b8aff50434d17ab106bb7976ce8d9",
            "value": 231508
          }
        },
        "1f041e3b2c3845788f2f775c15579462": {
          "model_module": "@jupyter-widgets/controls",
          "model_name": "HTMLModel",
          "model_module_version": "1.5.0",
          "state": {
            "_dom_classes": [],
            "_model_module": "@jupyter-widgets/controls",
            "_model_module_version": "1.5.0",
            "_model_name": "HTMLModel",
            "_view_count": null,
            "_view_module": "@jupyter-widgets/controls",
            "_view_module_version": "1.5.0",
            "_view_name": "HTMLView",
            "description": "",
            "description_tooltip": null,
            "layout": "IPY_MODEL_ec2749a083f74719b92a7b26ec452bee",
            "placeholder": "​",
            "style": "IPY_MODEL_094adeacb87044b3b9367fd7e7f434bc",
            "value": " 232k/232k [00:00&lt;00:00, 3.09MB/s]"
          }
        },
        "e2d47cca6f3642a28a460f59d047b2c9": {
          "model_module": "@jupyter-widgets/base",
          "model_name": "LayoutModel",
          "model_module_version": "1.2.0",
          "state": {
            "_model_module": "@jupyter-widgets/base",
            "_model_module_version": "1.2.0",
            "_model_name": "LayoutModel",
            "_view_count": null,
            "_view_module": "@jupyter-widgets/base",
            "_view_module_version": "1.2.0",
            "_view_name": "LayoutView",
            "align_content": null,
            "align_items": null,
            "align_self": null,
            "border": null,
            "bottom": null,
            "display": null,
            "flex": null,
            "flex_flow": null,
            "grid_area": null,
            "grid_auto_columns": null,
            "grid_auto_flow": null,
            "grid_auto_rows": null,
            "grid_column": null,
            "grid_gap": null,
            "grid_row": null,
            "grid_template_areas": null,
            "grid_template_columns": null,
            "grid_template_rows": null,
            "height": null,
            "justify_content": null,
            "justify_items": null,
            "left": null,
            "margin": null,
            "max_height": null,
            "max_width": null,
            "min_height": null,
            "min_width": null,
            "object_fit": null,
            "object_position": null,
            "order": null,
            "overflow": null,
            "overflow_x": null,
            "overflow_y": null,
            "padding": null,
            "right": null,
            "top": null,
            "visibility": null,
            "width": null
          }
        },
        "b66133124eef498d94d8b8df456d63a3": {
          "model_module": "@jupyter-widgets/base",
          "model_name": "LayoutModel",
          "model_module_version": "1.2.0",
          "state": {
            "_model_module": "@jupyter-widgets/base",
            "_model_module_version": "1.2.0",
            "_model_name": "LayoutModel",
            "_view_count": null,
            "_view_module": "@jupyter-widgets/base",
            "_view_module_version": "1.2.0",
            "_view_name": "LayoutView",
            "align_content": null,
            "align_items": null,
            "align_self": null,
            "border": null,
            "bottom": null,
            "display": null,
            "flex": null,
            "flex_flow": null,
            "grid_area": null,
            "grid_auto_columns": null,
            "grid_auto_flow": null,
            "grid_auto_rows": null,
            "grid_column": null,
            "grid_gap": null,
            "grid_row": null,
            "grid_template_areas": null,
            "grid_template_columns": null,
            "grid_template_rows": null,
            "height": null,
            "justify_content": null,
            "justify_items": null,
            "left": null,
            "margin": null,
            "max_height": null,
            "max_width": null,
            "min_height": null,
            "min_width": null,
            "object_fit": null,
            "object_position": null,
            "order": null,
            "overflow": null,
            "overflow_x": null,
            "overflow_y": null,
            "padding": null,
            "right": null,
            "top": null,
            "visibility": null,
            "width": null
          }
        },
        "1eec820002194f248a2cef73e0a034cd": {
          "model_module": "@jupyter-widgets/controls",
          "model_name": "DescriptionStyleModel",
          "model_module_version": "1.5.0",
          "state": {
            "_model_module": "@jupyter-widgets/controls",
            "_model_module_version": "1.5.0",
            "_model_name": "DescriptionStyleModel",
            "_view_count": null,
            "_view_module": "@jupyter-widgets/base",
            "_view_module_version": "1.2.0",
            "_view_name": "StyleView",
            "description_width": ""
          }
        },
        "4c2d74596da248f2a6e557cdca45dc1b": {
          "model_module": "@jupyter-widgets/base",
          "model_name": "LayoutModel",
          "model_module_version": "1.2.0",
          "state": {
            "_model_module": "@jupyter-widgets/base",
            "_model_module_version": "1.2.0",
            "_model_name": "LayoutModel",
            "_view_count": null,
            "_view_module": "@jupyter-widgets/base",
            "_view_module_version": "1.2.0",
            "_view_name": "LayoutView",
            "align_content": null,
            "align_items": null,
            "align_self": null,
            "border": null,
            "bottom": null,
            "display": null,
            "flex": null,
            "flex_flow": null,
            "grid_area": null,
            "grid_auto_columns": null,
            "grid_auto_flow": null,
            "grid_auto_rows": null,
            "grid_column": null,
            "grid_gap": null,
            "grid_row": null,
            "grid_template_areas": null,
            "grid_template_columns": null,
            "grid_template_rows": null,
            "height": null,
            "justify_content": null,
            "justify_items": null,
            "left": null,
            "margin": null,
            "max_height": null,
            "max_width": null,
            "min_height": null,
            "min_width": null,
            "object_fit": null,
            "object_position": null,
            "order": null,
            "overflow": null,
            "overflow_x": null,
            "overflow_y": null,
            "padding": null,
            "right": null,
            "top": null,
            "visibility": null,
            "width": null
          }
        },
        "e87b8aff50434d17ab106bb7976ce8d9": {
          "model_module": "@jupyter-widgets/controls",
          "model_name": "ProgressStyleModel",
          "model_module_version": "1.5.0",
          "state": {
            "_model_module": "@jupyter-widgets/controls",
            "_model_module_version": "1.5.0",
            "_model_name": "ProgressStyleModel",
            "_view_count": null,
            "_view_module": "@jupyter-widgets/base",
            "_view_module_version": "1.2.0",
            "_view_name": "StyleView",
            "bar_color": null,
            "description_width": ""
          }
        },
        "ec2749a083f74719b92a7b26ec452bee": {
          "model_module": "@jupyter-widgets/base",
          "model_name": "LayoutModel",
          "model_module_version": "1.2.0",
          "state": {
            "_model_module": "@jupyter-widgets/base",
            "_model_module_version": "1.2.0",
            "_model_name": "LayoutModel",
            "_view_count": null,
            "_view_module": "@jupyter-widgets/base",
            "_view_module_version": "1.2.0",
            "_view_name": "LayoutView",
            "align_content": null,
            "align_items": null,
            "align_self": null,
            "border": null,
            "bottom": null,
            "display": null,
            "flex": null,
            "flex_flow": null,
            "grid_area": null,
            "grid_auto_columns": null,
            "grid_auto_flow": null,
            "grid_auto_rows": null,
            "grid_column": null,
            "grid_gap": null,
            "grid_row": null,
            "grid_template_areas": null,
            "grid_template_columns": null,
            "grid_template_rows": null,
            "height": null,
            "justify_content": null,
            "justify_items": null,
            "left": null,
            "margin": null,
            "max_height": null,
            "max_width": null,
            "min_height": null,
            "min_width": null,
            "object_fit": null,
            "object_position": null,
            "order": null,
            "overflow": null,
            "overflow_x": null,
            "overflow_y": null,
            "padding": null,
            "right": null,
            "top": null,
            "visibility": null,
            "width": null
          }
        },
        "094adeacb87044b3b9367fd7e7f434bc": {
          "model_module": "@jupyter-widgets/controls",
          "model_name": "DescriptionStyleModel",
          "model_module_version": "1.5.0",
          "state": {
            "_model_module": "@jupyter-widgets/controls",
            "_model_module_version": "1.5.0",
            "_model_name": "DescriptionStyleModel",
            "_view_count": null,
            "_view_module": "@jupyter-widgets/base",
            "_view_module_version": "1.2.0",
            "_view_name": "StyleView",
            "description_width": ""
          }
        },
        "e94e32608bc04c4496d9d8eb19920ad7": {
          "model_module": "@jupyter-widgets/controls",
          "model_name": "HBoxModel",
          "model_module_version": "1.5.0",
          "state": {
            "_dom_classes": [],
            "_model_module": "@jupyter-widgets/controls",
            "_model_module_version": "1.5.0",
            "_model_name": "HBoxModel",
            "_view_count": null,
            "_view_module": "@jupyter-widgets/controls",
            "_view_module_version": "1.5.0",
            "_view_name": "HBoxView",
            "box_style": "",
            "children": [
              "IPY_MODEL_cdcf0463942d4d40a4c5893a2bec0f50",
              "IPY_MODEL_6ad60bcde146437682b8066050b6694e",
              "IPY_MODEL_9895028be7a94755b8ef36296a9e0ed5"
            ],
            "layout": "IPY_MODEL_2b20de353e054b3c9f3230f168bf26b7"
          }
        },
        "cdcf0463942d4d40a4c5893a2bec0f50": {
          "model_module": "@jupyter-widgets/controls",
          "model_name": "HTMLModel",
          "model_module_version": "1.5.0",
          "state": {
            "_dom_classes": [],
            "_model_module": "@jupyter-widgets/controls",
            "_model_module_version": "1.5.0",
            "_model_name": "HTMLModel",
            "_view_count": null,
            "_view_module": "@jupyter-widgets/controls",
            "_view_module_version": "1.5.0",
            "_view_name": "HTMLView",
            "description": "",
            "description_tooltip": null,
            "layout": "IPY_MODEL_b98f42de04ff449a9e15e2e3e4d22820",
            "placeholder": "​",
            "style": "IPY_MODEL_80351486346a40438289c5c1c79ed74e",
            "value": "Downloading: 100%"
          }
        },
        "6ad60bcde146437682b8066050b6694e": {
          "model_module": "@jupyter-widgets/controls",
          "model_name": "FloatProgressModel",
          "model_module_version": "1.5.0",
          "state": {
            "_dom_classes": [],
            "_model_module": "@jupyter-widgets/controls",
            "_model_module_version": "1.5.0",
            "_model_name": "FloatProgressModel",
            "_view_count": null,
            "_view_module": "@jupyter-widgets/controls",
            "_view_module_version": "1.5.0",
            "_view_name": "ProgressView",
            "bar_style": "success",
            "description": "",
            "description_tooltip": null,
            "layout": "IPY_MODEL_cb0222c5eb4249d9a6ced50f830a7cb6",
            "max": 466062,
            "min": 0,
            "orientation": "horizontal",
            "style": "IPY_MODEL_6b319563110f451c89e1c5934d04b32d",
            "value": 466062
          }
        },
        "9895028be7a94755b8ef36296a9e0ed5": {
          "model_module": "@jupyter-widgets/controls",
          "model_name": "HTMLModel",
          "model_module_version": "1.5.0",
          "state": {
            "_dom_classes": [],
            "_model_module": "@jupyter-widgets/controls",
            "_model_module_version": "1.5.0",
            "_model_name": "HTMLModel",
            "_view_count": null,
            "_view_module": "@jupyter-widgets/controls",
            "_view_module_version": "1.5.0",
            "_view_name": "HTMLView",
            "description": "",
            "description_tooltip": null,
            "layout": "IPY_MODEL_3445d8d322e6474e850e52643bcca63a",
            "placeholder": "​",
            "style": "IPY_MODEL_db6e5dba15ff429d9a1fa7321985c0f6",
            "value": " 466k/466k [00:00&lt;00:00, 5.01MB/s]"
          }
        },
        "2b20de353e054b3c9f3230f168bf26b7": {
          "model_module": "@jupyter-widgets/base",
          "model_name": "LayoutModel",
          "model_module_version": "1.2.0",
          "state": {
            "_model_module": "@jupyter-widgets/base",
            "_model_module_version": "1.2.0",
            "_model_name": "LayoutModel",
            "_view_count": null,
            "_view_module": "@jupyter-widgets/base",
            "_view_module_version": "1.2.0",
            "_view_name": "LayoutView",
            "align_content": null,
            "align_items": null,
            "align_self": null,
            "border": null,
            "bottom": null,
            "display": null,
            "flex": null,
            "flex_flow": null,
            "grid_area": null,
            "grid_auto_columns": null,
            "grid_auto_flow": null,
            "grid_auto_rows": null,
            "grid_column": null,
            "grid_gap": null,
            "grid_row": null,
            "grid_template_areas": null,
            "grid_template_columns": null,
            "grid_template_rows": null,
            "height": null,
            "justify_content": null,
            "justify_items": null,
            "left": null,
            "margin": null,
            "max_height": null,
            "max_width": null,
            "min_height": null,
            "min_width": null,
            "object_fit": null,
            "object_position": null,
            "order": null,
            "overflow": null,
            "overflow_x": null,
            "overflow_y": null,
            "padding": null,
            "right": null,
            "top": null,
            "visibility": null,
            "width": null
          }
        },
        "b98f42de04ff449a9e15e2e3e4d22820": {
          "model_module": "@jupyter-widgets/base",
          "model_name": "LayoutModel",
          "model_module_version": "1.2.0",
          "state": {
            "_model_module": "@jupyter-widgets/base",
            "_model_module_version": "1.2.0",
            "_model_name": "LayoutModel",
            "_view_count": null,
            "_view_module": "@jupyter-widgets/base",
            "_view_module_version": "1.2.0",
            "_view_name": "LayoutView",
            "align_content": null,
            "align_items": null,
            "align_self": null,
            "border": null,
            "bottom": null,
            "display": null,
            "flex": null,
            "flex_flow": null,
            "grid_area": null,
            "grid_auto_columns": null,
            "grid_auto_flow": null,
            "grid_auto_rows": null,
            "grid_column": null,
            "grid_gap": null,
            "grid_row": null,
            "grid_template_areas": null,
            "grid_template_columns": null,
            "grid_template_rows": null,
            "height": null,
            "justify_content": null,
            "justify_items": null,
            "left": null,
            "margin": null,
            "max_height": null,
            "max_width": null,
            "min_height": null,
            "min_width": null,
            "object_fit": null,
            "object_position": null,
            "order": null,
            "overflow": null,
            "overflow_x": null,
            "overflow_y": null,
            "padding": null,
            "right": null,
            "top": null,
            "visibility": null,
            "width": null
          }
        },
        "80351486346a40438289c5c1c79ed74e": {
          "model_module": "@jupyter-widgets/controls",
          "model_name": "DescriptionStyleModel",
          "model_module_version": "1.5.0",
          "state": {
            "_model_module": "@jupyter-widgets/controls",
            "_model_module_version": "1.5.0",
            "_model_name": "DescriptionStyleModel",
            "_view_count": null,
            "_view_module": "@jupyter-widgets/base",
            "_view_module_version": "1.2.0",
            "_view_name": "StyleView",
            "description_width": ""
          }
        },
        "cb0222c5eb4249d9a6ced50f830a7cb6": {
          "model_module": "@jupyter-widgets/base",
          "model_name": "LayoutModel",
          "model_module_version": "1.2.0",
          "state": {
            "_model_module": "@jupyter-widgets/base",
            "_model_module_version": "1.2.0",
            "_model_name": "LayoutModel",
            "_view_count": null,
            "_view_module": "@jupyter-widgets/base",
            "_view_module_version": "1.2.0",
            "_view_name": "LayoutView",
            "align_content": null,
            "align_items": null,
            "align_self": null,
            "border": null,
            "bottom": null,
            "display": null,
            "flex": null,
            "flex_flow": null,
            "grid_area": null,
            "grid_auto_columns": null,
            "grid_auto_flow": null,
            "grid_auto_rows": null,
            "grid_column": null,
            "grid_gap": null,
            "grid_row": null,
            "grid_template_areas": null,
            "grid_template_columns": null,
            "grid_template_rows": null,
            "height": null,
            "justify_content": null,
            "justify_items": null,
            "left": null,
            "margin": null,
            "max_height": null,
            "max_width": null,
            "min_height": null,
            "min_width": null,
            "object_fit": null,
            "object_position": null,
            "order": null,
            "overflow": null,
            "overflow_x": null,
            "overflow_y": null,
            "padding": null,
            "right": null,
            "top": null,
            "visibility": null,
            "width": null
          }
        },
        "6b319563110f451c89e1c5934d04b32d": {
          "model_module": "@jupyter-widgets/controls",
          "model_name": "ProgressStyleModel",
          "model_module_version": "1.5.0",
          "state": {
            "_model_module": "@jupyter-widgets/controls",
            "_model_module_version": "1.5.0",
            "_model_name": "ProgressStyleModel",
            "_view_count": null,
            "_view_module": "@jupyter-widgets/base",
            "_view_module_version": "1.2.0",
            "_view_name": "StyleView",
            "bar_color": null,
            "description_width": ""
          }
        },
        "3445d8d322e6474e850e52643bcca63a": {
          "model_module": "@jupyter-widgets/base",
          "model_name": "LayoutModel",
          "model_module_version": "1.2.0",
          "state": {
            "_model_module": "@jupyter-widgets/base",
            "_model_module_version": "1.2.0",
            "_model_name": "LayoutModel",
            "_view_count": null,
            "_view_module": "@jupyter-widgets/base",
            "_view_module_version": "1.2.0",
            "_view_name": "LayoutView",
            "align_content": null,
            "align_items": null,
            "align_self": null,
            "border": null,
            "bottom": null,
            "display": null,
            "flex": null,
            "flex_flow": null,
            "grid_area": null,
            "grid_auto_columns": null,
            "grid_auto_flow": null,
            "grid_auto_rows": null,
            "grid_column": null,
            "grid_gap": null,
            "grid_row": null,
            "grid_template_areas": null,
            "grid_template_columns": null,
            "grid_template_rows": null,
            "height": null,
            "justify_content": null,
            "justify_items": null,
            "left": null,
            "margin": null,
            "max_height": null,
            "max_width": null,
            "min_height": null,
            "min_width": null,
            "object_fit": null,
            "object_position": null,
            "order": null,
            "overflow": null,
            "overflow_x": null,
            "overflow_y": null,
            "padding": null,
            "right": null,
            "top": null,
            "visibility": null,
            "width": null
          }
        },
        "db6e5dba15ff429d9a1fa7321985c0f6": {
          "model_module": "@jupyter-widgets/controls",
          "model_name": "DescriptionStyleModel",
          "model_module_version": "1.5.0",
          "state": {
            "_model_module": "@jupyter-widgets/controls",
            "_model_module_version": "1.5.0",
            "_model_name": "DescriptionStyleModel",
            "_view_count": null,
            "_view_module": "@jupyter-widgets/base",
            "_view_module_version": "1.2.0",
            "_view_name": "StyleView",
            "description_width": ""
          }
        }
      }
    }
  },
  "nbformat": 4,
  "nbformat_minor": 0
}